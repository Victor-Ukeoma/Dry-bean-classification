{
  "cells": [
    {
      "cell_type": "markdown",
      "metadata": {
        "id": "view-in-github",
        "colab_type": "text"
      },
      "source": [
        "<a href=\"https://colab.research.google.com/github/Victor-Ukeoma/Dry-bean-classification/blob/main/Prediction_of_Health_Categories_in_Chronic_Disease.ipynb\" target=\"_parent\"><img src=\"https://colab.research.google.com/assets/colab-badge.svg\" alt=\"Open In Colab\"/></a>"
      ]
    },
    {
      "cell_type": "markdown",
      "source": [
        "# PREDICTION OF HEALTH CATEGORIES IN CHRONIC DISEASES.\n",
        "MSc DATA SCIENCE PROJECT\n",
        "13056933"
      ],
      "metadata": {
        "id": "ZzJnn_TyYF5Z"
      }
    },
    {
      "cell_type": "markdown",
      "metadata": {
        "id": "euAQwzS7eE43"
      },
      "source": [
        "Import all necessary libraries"
      ]
    },
    {
      "cell_type": "code",
      "execution_count": 1,
      "metadata": {
        "id": "K2FXfxfMfu-4"
      },
      "outputs": [],
      "source": [
        "import matplotlib.pyplot as plt\n",
        "import seaborn as sns\n",
        "from sklearn.model_selection import train_test_split\n",
        "from collections import Counter\n",
        "import numpy as np\n",
        "import pandas as pd\n",
        "import math\n",
        "from math import log\n",
        "\n",
        "from sklearn.neighbors import KNeighborsClassifier\n",
        "from sklearn.svm import SVC\n",
        "from sklearn.naive_bayes import GaussianNB\n",
        "from sklearn.linear_model import LogisticRegression\n",
        "from sklearn.tree import DecisionTreeClassifier\n",
        "from sklearn import metrics\n",
        "from sklearn.metrics import precision_score,accuracy_score,recall_score,confusion_matrix\n",
        "from sklearn.metrics import classification_report\n",
        "from sklearn.preprocessing import LabelEncoder"
      ]
    },
    {
      "cell_type": "markdown",
      "metadata": {
        "id": "QcizO5eKeKmO"
      },
      "source": [
        "Read CSV file"
      ]
    },
    {
      "cell_type": "code",
      "execution_count": 2,
      "metadata": {
        "id": "yOkWwzdyjFdN",
        "colab": {
          "base_uri": "https://localhost:8080/"
        },
        "outputId": "145c28a2-ac54-462c-df2a-ea22cb963353"
      },
      "outputs": [
        {
          "output_type": "stream",
          "name": "stderr",
          "text": [
            "<ipython-input-2-ae5b71038b99>:2: DtypeWarning: Columns (17,18) have mixed types. Specify dtype option on import or set low_memory=False.\n",
            "  Health_data = pd.read_csv('/content/Alzheimer_s_Disease_and_Healthy_Aging_Data.csv')\n"
          ]
        }
      ],
      "source": [
        "#load dataset\n",
        "Health_data = pd.read_csv('/content/Alzheimer_s_Disease_and_Healthy_Aging_Data.csv')"
      ]
    },
    {
      "cell_type": "markdown",
      "metadata": {
        "id": "xeAzRcTUehGC"
      },
      "source": [
        "DATA PREPROCESSING"
      ]
    },
    {
      "cell_type": "markdown",
      "metadata": {
        "id": "DCahuXapeZls"
      },
      "source": [
        "Inspect dataframe for null values"
      ]
    },
    {
      "cell_type": "code",
      "execution_count": 3,
      "metadata": {
        "colab": {
          "base_uri": "https://localhost:8080/"
        },
        "id": "Wu_-CToFj4UU",
        "outputId": "9b56a30e-01a2-4080-fc08-ede33fa7c8c0"
      },
      "outputs": [
        {
          "output_type": "stream",
          "name": "stdout",
          "text": [
            "<class 'pandas.core.frame.DataFrame'>\n",
            "RangeIndex: 250937 entries, 0 to 250936\n",
            "Data columns (total 39 columns):\n",
            " #   Column                      Non-Null Count   Dtype  \n",
            "---  ------                      --------------   -----  \n",
            " 0   RowId                       250937 non-null  object \n",
            " 1   YearStart                   250937 non-null  int64  \n",
            " 2   YearEnd                     250937 non-null  int64  \n",
            " 3   LocationAbbr                250937 non-null  object \n",
            " 4   LocationDesc                250937 non-null  object \n",
            " 5   Datasource                  250937 non-null  object \n",
            " 6   Class                       250937 non-null  object \n",
            " 7   Topic                       250937 non-null  object \n",
            " 8   Question                    250937 non-null  object \n",
            " 9   Response                    0 non-null       float64\n",
            " 10  Data_Value_Unit             250937 non-null  object \n",
            " 11  DataValueTypeID             250937 non-null  object \n",
            " 12  Data_Value_Type             250937 non-null  object \n",
            " 13  Data_Value                  169302 non-null  float64\n",
            " 14  Data_Value_Alt              169302 non-null  float64\n",
            " 15  Data_Value_Footnote_Symbol  99114 non-null   object \n",
            " 16  Data_Value_Footnote         99114 non-null   object \n",
            " 17  Low_Confidence_Limit        169152 non-null  object \n",
            " 18  High_Confidence_Limit       169152 non-null  object \n",
            " 19  Sample_Size                 0 non-null       float64\n",
            " 20  StratificationCategory1     250937 non-null  object \n",
            " 21  Stratification1             250937 non-null  object \n",
            " 22  StratificationCategory2     218561 non-null  object \n",
            " 23  Stratification2             218561 non-null  object \n",
            " 24  StratificationCategory3     0 non-null       float64\n",
            " 25  Stratification3             0 non-null       float64\n",
            " 26  Geolocation                 224228 non-null  object \n",
            " 27  ClassID                     250937 non-null  object \n",
            " 28  TopicID                     250937 non-null  object \n",
            " 29  QuestionID                  250937 non-null  object \n",
            " 30  ResponseID                  0 non-null       float64\n",
            " 31  LocationID                  250937 non-null  int64  \n",
            " 32  StratificationCategoryID1   250937 non-null  object \n",
            " 33  StratificationID1           250937 non-null  object \n",
            " 34  StratificationCategoryID2   250937 non-null  object \n",
            " 35  StratificationID2           250937 non-null  object \n",
            " 36  StratificationCategoryID3   0 non-null       float64\n",
            " 37  StratificationID3           0 non-null       float64\n",
            " 38  Report                      0 non-null       float64\n",
            "dtypes: float64(10), int64(3), object(26)\n",
            "memory usage: 74.7+ MB\n"
          ]
        }
      ],
      "source": [
        "Health_data.info()\n"
      ]
    },
    {
      "cell_type": "code",
      "execution_count": 4,
      "metadata": {
        "colab": {
          "base_uri": "https://localhost:8080/"
        },
        "id": "iiIZJgWxoJ3h",
        "outputId": "9619b014-4290-42fa-8385-2471b183bcac"
      },
      "outputs": [
        {
          "output_type": "execute_result",
          "data": {
            "text/plain": [
              "(250937, 39)"
            ]
          },
          "metadata": {},
          "execution_count": 4
        }
      ],
      "source": [
        "#find the shape of the dataset\n",
        "Health_data.shape"
      ]
    },
    {
      "cell_type": "code",
      "execution_count": 5,
      "metadata": {
        "colab": {
          "base_uri": "https://localhost:8080/",
          "height": 364
        },
        "id": "CFWWmeJeoJ15",
        "outputId": "b82fb63c-73e5-4310-da92-caf0d8696abc"
      },
      "outputs": [
        {
          "output_type": "execute_result",
          "data": {
            "text/plain": [
              "           YearStart        YearEnd  Response     Data_Value  Data_Value_Alt  \\\n",
              "count  250937.000000  250937.000000       0.0  169302.000000   169302.000000   \n",
              "mean     2017.940933    2018.169716       NaN      37.328349       37.328349   \n",
              "std         2.031564       2.081039       NaN      25.213181       25.213181   \n",
              "min      2015.000000    2015.000000       NaN       0.000000        0.000000   \n",
              "25%      2016.000000    2016.000000       NaN      15.700000       15.700000   \n",
              "50%      2018.000000    2018.000000       NaN      32.300000       32.300000   \n",
              "75%      2020.000000    2020.000000       NaN      56.000000       56.000000   \n",
              "max      2021.000000    2021.000000       NaN     100.000000      100.000000   \n",
              "\n",
              "       Sample_Size  StratificationCategory3  Stratification3  ResponseID  \\\n",
              "count          0.0                      0.0              0.0         0.0   \n",
              "mean           NaN                      NaN              NaN         NaN   \n",
              "std            NaN                      NaN              NaN         NaN   \n",
              "min            NaN                      NaN              NaN         NaN   \n",
              "25%            NaN                      NaN              NaN         NaN   \n",
              "50%            NaN                      NaN              NaN         NaN   \n",
              "75%            NaN                      NaN              NaN         NaN   \n",
              "max            NaN                      NaN              NaN         NaN   \n",
              "\n",
              "          LocationID  StratificationCategoryID3  StratificationID3  Report  \n",
              "count  250937.000000                        0.0                0.0     0.0  \n",
              "mean      793.866437                        NaN                NaN     NaN  \n",
              "std      2502.174327                        NaN                NaN     NaN  \n",
              "min         1.000000                        NaN                NaN     NaN  \n",
              "25%        19.000000                        NaN                NaN     NaN  \n",
              "50%        34.000000                        NaN                NaN     NaN  \n",
              "75%        49.000000                        NaN                NaN     NaN  \n",
              "max      9004.000000                        NaN                NaN     NaN  "
            ],
            "text/html": [
              "\n",
              "\n",
              "  <div id=\"df-cf63218d-db75-44fe-9bdf-90a0c89810c4\">\n",
              "    <div class=\"colab-df-container\">\n",
              "      <div>\n",
              "<style scoped>\n",
              "    .dataframe tbody tr th:only-of-type {\n",
              "        vertical-align: middle;\n",
              "    }\n",
              "\n",
              "    .dataframe tbody tr th {\n",
              "        vertical-align: top;\n",
              "    }\n",
              "\n",
              "    .dataframe thead th {\n",
              "        text-align: right;\n",
              "    }\n",
              "</style>\n",
              "<table border=\"1\" class=\"dataframe\">\n",
              "  <thead>\n",
              "    <tr style=\"text-align: right;\">\n",
              "      <th></th>\n",
              "      <th>YearStart</th>\n",
              "      <th>YearEnd</th>\n",
              "      <th>Response</th>\n",
              "      <th>Data_Value</th>\n",
              "      <th>Data_Value_Alt</th>\n",
              "      <th>Sample_Size</th>\n",
              "      <th>StratificationCategory3</th>\n",
              "      <th>Stratification3</th>\n",
              "      <th>ResponseID</th>\n",
              "      <th>LocationID</th>\n",
              "      <th>StratificationCategoryID3</th>\n",
              "      <th>StratificationID3</th>\n",
              "      <th>Report</th>\n",
              "    </tr>\n",
              "  </thead>\n",
              "  <tbody>\n",
              "    <tr>\n",
              "      <th>count</th>\n",
              "      <td>250937.000000</td>\n",
              "      <td>250937.000000</td>\n",
              "      <td>0.0</td>\n",
              "      <td>169302.000000</td>\n",
              "      <td>169302.000000</td>\n",
              "      <td>0.0</td>\n",
              "      <td>0.0</td>\n",
              "      <td>0.0</td>\n",
              "      <td>0.0</td>\n",
              "      <td>250937.000000</td>\n",
              "      <td>0.0</td>\n",
              "      <td>0.0</td>\n",
              "      <td>0.0</td>\n",
              "    </tr>\n",
              "    <tr>\n",
              "      <th>mean</th>\n",
              "      <td>2017.940933</td>\n",
              "      <td>2018.169716</td>\n",
              "      <td>NaN</td>\n",
              "      <td>37.328349</td>\n",
              "      <td>37.328349</td>\n",
              "      <td>NaN</td>\n",
              "      <td>NaN</td>\n",
              "      <td>NaN</td>\n",
              "      <td>NaN</td>\n",
              "      <td>793.866437</td>\n",
              "      <td>NaN</td>\n",
              "      <td>NaN</td>\n",
              "      <td>NaN</td>\n",
              "    </tr>\n",
              "    <tr>\n",
              "      <th>std</th>\n",
              "      <td>2.031564</td>\n",
              "      <td>2.081039</td>\n",
              "      <td>NaN</td>\n",
              "      <td>25.213181</td>\n",
              "      <td>25.213181</td>\n",
              "      <td>NaN</td>\n",
              "      <td>NaN</td>\n",
              "      <td>NaN</td>\n",
              "      <td>NaN</td>\n",
              "      <td>2502.174327</td>\n",
              "      <td>NaN</td>\n",
              "      <td>NaN</td>\n",
              "      <td>NaN</td>\n",
              "    </tr>\n",
              "    <tr>\n",
              "      <th>min</th>\n",
              "      <td>2015.000000</td>\n",
              "      <td>2015.000000</td>\n",
              "      <td>NaN</td>\n",
              "      <td>0.000000</td>\n",
              "      <td>0.000000</td>\n",
              "      <td>NaN</td>\n",
              "      <td>NaN</td>\n",
              "      <td>NaN</td>\n",
              "      <td>NaN</td>\n",
              "      <td>1.000000</td>\n",
              "      <td>NaN</td>\n",
              "      <td>NaN</td>\n",
              "      <td>NaN</td>\n",
              "    </tr>\n",
              "    <tr>\n",
              "      <th>25%</th>\n",
              "      <td>2016.000000</td>\n",
              "      <td>2016.000000</td>\n",
              "      <td>NaN</td>\n",
              "      <td>15.700000</td>\n",
              "      <td>15.700000</td>\n",
              "      <td>NaN</td>\n",
              "      <td>NaN</td>\n",
              "      <td>NaN</td>\n",
              "      <td>NaN</td>\n",
              "      <td>19.000000</td>\n",
              "      <td>NaN</td>\n",
              "      <td>NaN</td>\n",
              "      <td>NaN</td>\n",
              "    </tr>\n",
              "    <tr>\n",
              "      <th>50%</th>\n",
              "      <td>2018.000000</td>\n",
              "      <td>2018.000000</td>\n",
              "      <td>NaN</td>\n",
              "      <td>32.300000</td>\n",
              "      <td>32.300000</td>\n",
              "      <td>NaN</td>\n",
              "      <td>NaN</td>\n",
              "      <td>NaN</td>\n",
              "      <td>NaN</td>\n",
              "      <td>34.000000</td>\n",
              "      <td>NaN</td>\n",
              "      <td>NaN</td>\n",
              "      <td>NaN</td>\n",
              "    </tr>\n",
              "    <tr>\n",
              "      <th>75%</th>\n",
              "      <td>2020.000000</td>\n",
              "      <td>2020.000000</td>\n",
              "      <td>NaN</td>\n",
              "      <td>56.000000</td>\n",
              "      <td>56.000000</td>\n",
              "      <td>NaN</td>\n",
              "      <td>NaN</td>\n",
              "      <td>NaN</td>\n",
              "      <td>NaN</td>\n",
              "      <td>49.000000</td>\n",
              "      <td>NaN</td>\n",
              "      <td>NaN</td>\n",
              "      <td>NaN</td>\n",
              "    </tr>\n",
              "    <tr>\n",
              "      <th>max</th>\n",
              "      <td>2021.000000</td>\n",
              "      <td>2021.000000</td>\n",
              "      <td>NaN</td>\n",
              "      <td>100.000000</td>\n",
              "      <td>100.000000</td>\n",
              "      <td>NaN</td>\n",
              "      <td>NaN</td>\n",
              "      <td>NaN</td>\n",
              "      <td>NaN</td>\n",
              "      <td>9004.000000</td>\n",
              "      <td>NaN</td>\n",
              "      <td>NaN</td>\n",
              "      <td>NaN</td>\n",
              "    </tr>\n",
              "  </tbody>\n",
              "</table>\n",
              "</div>\n",
              "      <button class=\"colab-df-convert\" onclick=\"convertToInteractive('df-cf63218d-db75-44fe-9bdf-90a0c89810c4')\"\n",
              "              title=\"Convert this dataframe to an interactive table.\"\n",
              "              style=\"display:none;\">\n",
              "\n",
              "  <svg xmlns=\"http://www.w3.org/2000/svg\" height=\"24px\"viewBox=\"0 0 24 24\"\n",
              "       width=\"24px\">\n",
              "    <path d=\"M0 0h24v24H0V0z\" fill=\"none\"/>\n",
              "    <path d=\"M18.56 5.44l.94 2.06.94-2.06 2.06-.94-2.06-.94-.94-2.06-.94 2.06-2.06.94zm-11 1L8.5 8.5l.94-2.06 2.06-.94-2.06-.94L8.5 2.5l-.94 2.06-2.06.94zm10 10l.94 2.06.94-2.06 2.06-.94-2.06-.94-.94-2.06-.94 2.06-2.06.94z\"/><path d=\"M17.41 7.96l-1.37-1.37c-.4-.4-.92-.59-1.43-.59-.52 0-1.04.2-1.43.59L10.3 9.45l-7.72 7.72c-.78.78-.78 2.05 0 2.83L4 21.41c.39.39.9.59 1.41.59.51 0 1.02-.2 1.41-.59l7.78-7.78 2.81-2.81c.8-.78.8-2.07 0-2.86zM5.41 20L4 18.59l7.72-7.72 1.47 1.35L5.41 20z\"/>\n",
              "  </svg>\n",
              "      </button>\n",
              "\n",
              "\n",
              "\n",
              "    <div id=\"df-5713c98d-59ea-48a3-a745-2d6da0a59799\">\n",
              "      <button class=\"colab-df-quickchart\" onclick=\"quickchart('df-5713c98d-59ea-48a3-a745-2d6da0a59799')\"\n",
              "              title=\"Suggest charts.\"\n",
              "              style=\"display:none;\">\n",
              "\n",
              "<svg xmlns=\"http://www.w3.org/2000/svg\" height=\"24px\"viewBox=\"0 0 24 24\"\n",
              "     width=\"24px\">\n",
              "    <g>\n",
              "        <path d=\"M19 3H5c-1.1 0-2 .9-2 2v14c0 1.1.9 2 2 2h14c1.1 0 2-.9 2-2V5c0-1.1-.9-2-2-2zM9 17H7v-7h2v7zm4 0h-2V7h2v10zm4 0h-2v-4h2v4z\"/>\n",
              "    </g>\n",
              "</svg>\n",
              "      </button>\n",
              "    </div>\n",
              "\n",
              "<style>\n",
              "  .colab-df-quickchart {\n",
              "    background-color: #E8F0FE;\n",
              "    border: none;\n",
              "    border-radius: 50%;\n",
              "    cursor: pointer;\n",
              "    display: none;\n",
              "    fill: #1967D2;\n",
              "    height: 32px;\n",
              "    padding: 0 0 0 0;\n",
              "    width: 32px;\n",
              "  }\n",
              "\n",
              "  .colab-df-quickchart:hover {\n",
              "    background-color: #E2EBFA;\n",
              "    box-shadow: 0px 1px 2px rgba(60, 64, 67, 0.3), 0px 1px 3px 1px rgba(60, 64, 67, 0.15);\n",
              "    fill: #174EA6;\n",
              "  }\n",
              "\n",
              "  [theme=dark] .colab-df-quickchart {\n",
              "    background-color: #3B4455;\n",
              "    fill: #D2E3FC;\n",
              "  }\n",
              "\n",
              "  [theme=dark] .colab-df-quickchart:hover {\n",
              "    background-color: #434B5C;\n",
              "    box-shadow: 0px 1px 3px 1px rgba(0, 0, 0, 0.15);\n",
              "    filter: drop-shadow(0px 1px 2px rgba(0, 0, 0, 0.3));\n",
              "    fill: #FFFFFF;\n",
              "  }\n",
              "</style>\n",
              "\n",
              "    <script>\n",
              "      async function quickchart(key) {\n",
              "        const containerElement = document.querySelector('#' + key);\n",
              "        const charts = await google.colab.kernel.invokeFunction(\n",
              "            'suggestCharts', [key], {});\n",
              "      }\n",
              "    </script>\n",
              "\n",
              "      <script>\n",
              "\n",
              "function displayQuickchartButton(domScope) {\n",
              "  let quickchartButtonEl =\n",
              "    domScope.querySelector('#df-5713c98d-59ea-48a3-a745-2d6da0a59799 button.colab-df-quickchart');\n",
              "  quickchartButtonEl.style.display =\n",
              "    google.colab.kernel.accessAllowed ? 'block' : 'none';\n",
              "}\n",
              "\n",
              "        displayQuickchartButton(document);\n",
              "      </script>\n",
              "      <style>\n",
              "    .colab-df-container {\n",
              "      display:flex;\n",
              "      flex-wrap:wrap;\n",
              "      gap: 12px;\n",
              "    }\n",
              "\n",
              "    .colab-df-convert {\n",
              "      background-color: #E8F0FE;\n",
              "      border: none;\n",
              "      border-radius: 50%;\n",
              "      cursor: pointer;\n",
              "      display: none;\n",
              "      fill: #1967D2;\n",
              "      height: 32px;\n",
              "      padding: 0 0 0 0;\n",
              "      width: 32px;\n",
              "    }\n",
              "\n",
              "    .colab-df-convert:hover {\n",
              "      background-color: #E2EBFA;\n",
              "      box-shadow: 0px 1px 2px rgba(60, 64, 67, 0.3), 0px 1px 3px 1px rgba(60, 64, 67, 0.15);\n",
              "      fill: #174EA6;\n",
              "    }\n",
              "\n",
              "    [theme=dark] .colab-df-convert {\n",
              "      background-color: #3B4455;\n",
              "      fill: #D2E3FC;\n",
              "    }\n",
              "\n",
              "    [theme=dark] .colab-df-convert:hover {\n",
              "      background-color: #434B5C;\n",
              "      box-shadow: 0px 1px 3px 1px rgba(0, 0, 0, 0.15);\n",
              "      filter: drop-shadow(0px 1px 2px rgba(0, 0, 0, 0.3));\n",
              "      fill: #FFFFFF;\n",
              "    }\n",
              "  </style>\n",
              "\n",
              "      <script>\n",
              "        const buttonEl =\n",
              "          document.querySelector('#df-cf63218d-db75-44fe-9bdf-90a0c89810c4 button.colab-df-convert');\n",
              "        buttonEl.style.display =\n",
              "          google.colab.kernel.accessAllowed ? 'block' : 'none';\n",
              "\n",
              "        async function convertToInteractive(key) {\n",
              "          const element = document.querySelector('#df-cf63218d-db75-44fe-9bdf-90a0c89810c4');\n",
              "          const dataTable =\n",
              "            await google.colab.kernel.invokeFunction('convertToInteractive',\n",
              "                                                     [key], {});\n",
              "          if (!dataTable) return;\n",
              "\n",
              "          const docLinkHtml = 'Like what you see? Visit the ' +\n",
              "            '<a target=\"_blank\" href=https://colab.research.google.com/notebooks/data_table.ipynb>data table notebook</a>'\n",
              "            + ' to learn more about interactive tables.';\n",
              "          element.innerHTML = '';\n",
              "          dataTable['output_type'] = 'display_data';\n",
              "          await google.colab.output.renderOutput(dataTable, element);\n",
              "          const docLink = document.createElement('div');\n",
              "          docLink.innerHTML = docLinkHtml;\n",
              "          element.appendChild(docLink);\n",
              "        }\n",
              "      </script>\n",
              "    </div>\n",
              "  </div>\n"
            ]
          },
          "metadata": {},
          "execution_count": 5
        }
      ],
      "source": [
        "#find the statistical summary of dataset\n",
        "Health_data.describe()"
      ]
    },
    {
      "cell_type": "markdown",
      "metadata": {
        "id": "pf4cv2nNerOR"
      },
      "source": [
        "Some of the columns with 0 non null values have no data in them, therefore we will delete them from dataset\n",
        "\n",
        "\n",
        "\n"
      ]
    },
    {
      "cell_type": "code",
      "execution_count": 6,
      "metadata": {
        "id": "d8DwAxDEfHS5",
        "colab": {
          "base_uri": "https://localhost:8080/"
        },
        "outputId": "cddd2ff1-118f-44a4-94a3-343b32557899"
      },
      "outputs": [
        {
          "output_type": "execute_result",
          "data": {
            "text/plain": [
              "(250937, 31)"
            ]
          },
          "metadata": {},
          "execution_count": 6
        }
      ],
      "source": [
        "#Delete the 8 columns with 0 non-null values\n",
        "Health_data = Health_data.drop(['Response', 'Sample_Size', 'StratificationCategory3', 'Stratification3',\n",
        "              'ResponseID', 'StratificationCategoryID3', 'StratificationID3', 'Report'],\n",
        "              axis = 1)\n",
        "#confirm dropped columns\n",
        "Health_data.shape"
      ]
    },
    {
      "cell_type": "markdown",
      "source": [
        "Visaulising Numerical Variables to Understand Data Distribution.\n",
        "We check if data is skewed with Histogram plot.\n",
        "Also check For Correlation between variables with a heatmap."
      ],
      "metadata": {
        "id": "IOwIyeD5oovB"
      }
    },
    {
      "cell_type": "code",
      "execution_count": 7,
      "metadata": {
        "colab": {
          "base_uri": "https://localhost:8080/",
          "height": 853
        },
        "id": "iTE33ePUCwRs",
        "outputId": "1a8eb4c4-ee70-44cf-fe51-013dd689866f"
      },
      "outputs": [
        {
          "output_type": "display_data",
          "data": {
            "text/plain": [
              "<Figure size 1000x1000 with 6 Axes>"
            ],
            "image/png": "[encoded data removed]"
          },
          "metadata": {}
        }
      ],
      "source": [
        "#Plot Histogram\n",
        "plt.rcParams[\"figure.figsize\"] = (10, 10)\n",
        "Health_data.hist(bins=10)\n",
        "plt.show()"
      ]
    },
    {
      "cell_type": "code",
      "execution_count": 8,
      "metadata": {
        "colab": {
          "base_uri": "https://localhost:8080/",
          "height": 682
        },
        "id": "TzEab7uqDIlH",
        "outputId": "3082b01c-5959-44cf-87c3-d58ac9a9e96f"
      },
      "outputs": [
        {
          "output_type": "display_data",
          "data": {
            "text/plain": [
              "<Figure size 1200x800 with 2 Axes>"
            ],
            "image/png": "[encoded data removed]"
          },
          "metadata": {}
        }
      ],
      "source": [
        "#Plot Correlation Heatmap\n",
        "plt.figure(figsize=(12,8))\n",
        "ax = sns.heatmap(Health_data.corr(numeric_only = True), annot=True)\n",
        "plt.show();"
      ]
    },
    {
      "cell_type": "markdown",
      "source": [
        "Further Exploration to View CLass (Target Variable) Distribution"
      ],
      "metadata": {
        "id": "H2po2tgmpWWp"
      }
    },
    {
      "cell_type": "code",
      "source": [
        "#Plot Count plot to view distribution in Class Variable\n",
        "plt.figure(figsize=(10,5))\n",
        "sns.countplot(data = Health_data, x = 'Class', order=Health_data['Class'].value_counts().index)\n",
        "plt.xticks(rotation = 90);"
      ],
      "metadata": {
        "colab": {
          "base_uri": "https://localhost:8080/",
          "height": 687
        },
        "id": "T7N6x1W6RC-3",
        "outputId": "6b8f1b7a-f6cf-4ace-c0a2-4bb691927481"
      },
      "execution_count": 9,
      "outputs": [
        {
          "output_type": "display_data",
          "data": {
            "text/plain": [
              "<Figure size 1000x500 with 1 Axes>"
            ],
            "image/png": "[encoded data removed]"
          },
          "metadata": {}
        }
      ]
    },
    {
      "cell_type": "code",
      "source": [
        "#Distribution of Topic\n",
        "plt.figure(figsize=(6,6))\n",
        "sns.countplot(data = Health_data, x = 'TopicID', order=Health_data['TopicID'].value_counts().index)\n",
        "plt.xticks(rotation = 90);"
      ],
      "metadata": {
        "colab": {
          "base_uri": "https://localhost:8080/",
          "height": 576
        },
        "id": "Bwtl6sgaRNyX",
        "outputId": "f58c82a8-61e5-4066-926f-bec2ac3ce416"
      },
      "execution_count": 10,
      "outputs": [
        {
          "output_type": "display_data",
          "data": {
            "text/plain": [
              "<Figure size 600x600 with 1 Axes>"
            ],
            "image/png": "[encoded data removed]"
          },
          "metadata": {}
        }
      ]
    },
    {
      "cell_type": "code",
      "source": [
        "#separating categorical variables from numerical variables\n",
        "def separate_categorical_numerical(df):\n",
        "    \"\"\"\n",
        "    Separate categorical and numerical variables from a DataFrame.\n",
        "\n",
        "    Parameters:\n",
        "        df (DataFrame): The DataFrame containing the data.\n",
        "\n",
        "    Returns:\n",
        "        DataFrame: DataFrame containing only the categorical variables.\n",
        "        DataFrame: DataFrame containing only the numerical variables.\n",
        "    \"\"\"\n",
        "    categorical_vars = df.select_dtypes(include=['object', 'category'])\n",
        "    numerical_vars = df.select_dtypes(include=['int64', 'float64'])\n",
        "\n",
        "    return categorical_vars, numerical_vars\n",
        "\n",
        "categorical_df, numerical_df = separate_categorical_numerical(Health_data)"
      ],
      "metadata": {
        "id": "Z-mFyeECTrP8"
      },
      "execution_count": 11,
      "outputs": []
    },
    {
      "cell_type": "markdown",
      "metadata": {
        "id": "-aGutJSEE36H"
      },
      "source": [
        "Data Cleaning and processing"
      ]
    },
    {
      "cell_type": "code",
      "execution_count": 12,
      "metadata": {
        "colab": {
          "base_uri": "https://localhost:8080/"
        },
        "id": "fYgnAFkrj_Eh",
        "outputId": "e742262f-d31d-4f5f-cada-5612d38d619a"
      },
      "outputs": [
        {
          "output_type": "execute_result",
          "data": {
            "text/plain": [
              "(250937, 31)"
            ]
          },
          "metadata": {},
          "execution_count": 12
        }
      ],
      "source": [
        "Health_data.shape"
      ]
    },
    {
      "cell_type": "code",
      "source": [
        "# Calculate the percentage of null values in each column\n",
        "null_percent = (Health_data.isnull().sum() / len(Health_data)) * 100\n",
        "\n",
        "# Create a bar plot for columns with null values\n",
        "plt.figure(figsize=(10, 6))\n",
        "sns.barplot(x=null_percent.index, y=null_percent)\n",
        "plt.xticks(rotation=90)\n",
        "plt.ylabel('Percentage of Null Values')\n",
        "plt.title('Percentage of Null Values in Each Column')\n",
        "plt.show()\n"
      ],
      "metadata": {
        "colab": {
          "base_uri": "https://localhost:8080/",
          "height": 736
        },
        "id": "gWWJjk-3eG2d",
        "outputId": "8b5ec5e9-f406-4cfa-f8d8-e7e50280c814"
      },
      "execution_count": 13,
      "outputs": [
        {
          "output_type": "display_data",
          "data": {
            "text/plain": [
              "<Figure size 1000x600 with 1 Axes>"
            ],
            "image/png": "[encoded data removed]"
          },
          "metadata": {}
        }
      ]
    },
    {
      "cell_type": "code",
      "execution_count": 14,
      "metadata": {
        "colab": {
          "base_uri": "https://localhost:8080/"
        },
        "id": "luufF-zgkyrC",
        "outputId": "50d0aae9-95b1-454f-a441-d4981f99d3cd"
      },
      "outputs": [
        {
          "output_type": "execute_result",
          "data": {
            "text/plain": [
              "RowId                         31676\n",
              "YearStart                         7\n",
              "YearEnd                           7\n",
              "LocationAbbr                     59\n",
              "LocationDesc                     59\n",
              "Datasource                        1\n",
              "Class                             7\n",
              "Topic                            39\n",
              "Question                         39\n",
              "Data_Value_Unit                   2\n",
              "DataValueTypeID                   2\n",
              "Data_Value_Type                   2\n",
              "Data_Value                     1000\n",
              "Data_Value_Alt                 1000\n",
              "Data_Value_Footnote_Symbol        5\n",
              "Data_Value_Footnote               5\n",
              "Low_Confidence_Limit           1979\n",
              "High_Confidence_Limit          1968\n",
              "StratificationCategory1           1\n",
              "Stratification1                   3\n",
              "StratificationCategory2           2\n",
              "Stratification2                   7\n",
              "Geolocation                      54\n",
              "ClassID                           7\n",
              "TopicID                          39\n",
              "QuestionID                       39\n",
              "LocationID                       59\n",
              "StratificationCategoryID1         1\n",
              "StratificationID1                 3\n",
              "StratificationCategoryID2         3\n",
              "StratificationID2                 8\n",
              "dtype: int64"
            ]
          },
          "metadata": {},
          "execution_count": 14
        }
      ],
      "source": [
        "#find number of unique data in every column\n",
        "Health_data.nunique()"
      ]
    },
    {
      "cell_type": "code",
      "execution_count": 15,
      "metadata": {
        "colab": {
          "base_uri": "https://localhost:8080/",
          "height": 595
        },
        "id": "HNVrWFQasY-X",
        "outputId": "a6059522-214c-4b89-a776-2331442e7531"
      },
      "outputs": [
        {
          "output_type": "execute_result",
          "data": {
            "text/plain": [
              "                                        RowId  YearStart  YearEnd  \\\n",
              "0  BRFSS~2015~2015~9003~Q43~TOC11~AGE~OVERALL       2015     2015   \n",
              "1     BRFSS~2021~2021~01~Q03~TMC01~AGE~GENDER       2021     2021   \n",
              "2       BRFSS~2021~2021~41~Q27~TMC03~AGE~RACE       2021     2021   \n",
              "3    BRFSS~2021~2021~31~Q27~TMC03~AGE~OVERALL       2021     2021   \n",
              "4     BRFSS~2021~2021~18~Q27~TMC03~AGE~GENDER       2021     2021   \n",
              "\n",
              "  LocationAbbr LocationDesc Datasource           Class  \\\n",
              "0          SOU        South      BRFSS  Overall Health   \n",
              "1           AL      Alabama      BRFSS   Mental Health   \n",
              "2           OR       Oregon      BRFSS   Mental Health   \n",
              "3           NE     Nebraska      BRFSS   Mental Health   \n",
              "4           IN      Indiana      BRFSS   Mental Health   \n",
              "\n",
              "                              Topic  \\\n",
              "0      Arthritis among older adults   \n",
              "1          Frequent mental distress   \n",
              "2  Lifetime diagnosis of depression   \n",
              "3  Lifetime diagnosis of depression   \n",
              "4  Lifetime diagnosis of depression   \n",
              "\n",
              "                                            Question Data_Value_Unit  ...  \\\n",
              "0  Percentage of older adults ever told they have...               %  ...   \n",
              "1  Percentage of older adults who are experiencin...               %  ...   \n",
              "2  Percentage of older adults with a lifetime dia...               %  ...   \n",
              "3  Percentage of older adults with a lifetime dia...               %  ...   \n",
              "4  Percentage of older adults with a lifetime dia...               %  ...   \n",
              "\n",
              "  Stratification2                                    Geolocation  ClassID  \\\n",
              "0             NaN                                            NaN      C01   \n",
              "1          Female   POINT (-86.63186076199969 32.84057112200048)      C05   \n",
              "2        Hispanic  POINT (-120.15503132599969 44.56744942400047)      C05   \n",
              "3             NaN    POINT (-99.36572062299967 41.6410409880005)      C05   \n",
              "4          Female  POINT (-86.14996019399968 39.766910452000445)      C05   \n",
              "\n",
              "   TopicID QuestionID LocationID StratificationCategoryID1 StratificationID1  \\\n",
              "0    TOC11        Q43       9003                       AGE              5064   \n",
              "1    TMC01        Q03          1                       AGE       AGE_OVERALL   \n",
              "2    TMC03        Q27         41                       AGE       AGE_OVERALL   \n",
              "3    TMC03        Q27         31                       AGE       AGE_OVERALL   \n",
              "4    TMC03        Q27         18                       AGE       AGE_OVERALL   \n",
              "\n",
              "  StratificationCategoryID2 StratificationID2  \n",
              "0                   OVERALL           OVERALL  \n",
              "1                    GENDER            FEMALE  \n",
              "2                      RACE               HIS  \n",
              "3                   OVERALL           OVERALL  \n",
              "4                    GENDER            FEMALE  \n",
              "\n",
              "[5 rows x 31 columns]"
            ],
            "text/html": [
              "\n",
              "\n",
              "  <div id=\"df-fa34d9d2-d9a4-41f2-9dba-ad6326b060cf\">\n",
              "    <div class=\"colab-df-container\">\n",
              "      <div>\n",
              "<style scoped>\n",
              "    .dataframe tbody tr th:only-of-type {\n",
              "        vertical-align: middle;\n",
              "    }\n",
              "\n",
              "    .dataframe tbody tr th {\n",
              "        vertical-align: top;\n",
              "    }\n",
              "\n",
              "    .dataframe thead th {\n",
              "        text-align: right;\n",
              "    }\n",
              "</style>\n",
              "<table border=\"1\" class=\"dataframe\">\n",
              "  <thead>\n",
              "    <tr style=\"text-align: right;\">\n",
              "      <th></th>\n",
              "      <th>RowId</th>\n",
              "      <th>YearStart</th>\n",
              "      <th>YearEnd</th>\n",
              "      <th>LocationAbbr</th>\n",
              "      <th>LocationDesc</th>\n",
              "      <th>Datasource</th>\n",
              "      <th>Class</th>\n",
              "      <th>Topic</th>\n",
              "      <th>Question</th>\n",
              "      <th>Data_Value_Unit</th>\n",
              "      <th>...</th>\n",
              "      <th>Stratification2</th>\n",
              "      <th>Geolocation</th>\n",
              "      <th>ClassID</th>\n",
              "      <th>TopicID</th>\n",
              "      <th>QuestionID</th>\n",
              "      <th>LocationID</th>\n",
              "      <th>StratificationCategoryID1</th>\n",
              "      <th>StratificationID1</th>\n",
              "      <th>StratificationCategoryID2</th>\n",
              "      <th>StratificationID2</th>\n",
              "    </tr>\n",
              "  </thead>\n",
              "  <tbody>\n",
              "    <tr>\n",
              "      <th>0</th>\n",
              "      <td>BRFSS~2015~2015~9003~Q43~TOC11~AGE~OVERALL</td>\n",
              "      <td>2015</td>\n",
              "      <td>2015</td>\n",
              "      <td>SOU</td>\n",
              "      <td>South</td>\n",
              "      <td>BRFSS</td>\n",
              "      <td>Overall Health</td>\n",
              "      <td>Arthritis among older adults</td>\n",
              "      <td>Percentage of older adults ever told they have...</td>\n",
              "      <td>%</td>\n",
              "      <td>...</td>\n",
              "      <td>NaN</td>\n",
              "      <td>NaN</td>\n",
              "      <td>C01</td>\n",
              "      <td>TOC11</td>\n",
              "      <td>Q43</td>\n",
              "      <td>9003</td>\n",
              "      <td>AGE</td>\n",
              "      <td>5064</td>\n",
              "      <td>OVERALL</td>\n",
              "      <td>OVERALL</td>\n",
              "    </tr>\n",
              "    <tr>\n",
              "      <th>1</th>\n",
              "      <td>BRFSS~2021~2021~01~Q03~TMC01~AGE~GENDER</td>\n",
              "      <td>2021</td>\n",
              "      <td>2021</td>\n",
              "      <td>AL</td>\n",
              "      <td>Alabama</td>\n",
              "      <td>BRFSS</td>\n",
              "      <td>Mental Health</td>\n",
              "      <td>Frequent mental distress</td>\n",
              "      <td>Percentage of older adults who are experiencin...</td>\n",
              "      <td>%</td>\n",
              "      <td>...</td>\n",
              "      <td>Female</td>\n",
              "      <td>POINT (-86.63186076199969 32.84057112200048)</td>\n",
              "      <td>C05</td>\n",
              "      <td>TMC01</td>\n",
              "      <td>Q03</td>\n",
              "      <td>1</td>\n",
              "      <td>AGE</td>\n",
              "      <td>AGE_OVERALL</td>\n",
              "      <td>GENDER</td>\n",
              "      <td>FEMALE</td>\n",
              "    </tr>\n",
              "    <tr>\n",
              "      <th>2</th>\n",
              "      <td>BRFSS~2021~2021~41~Q27~TMC03~AGE~RACE</td>\n",
              "      <td>2021</td>\n",
              "      <td>2021</td>\n",
              "      <td>OR</td>\n",
              "      <td>Oregon</td>\n",
              "      <td>BRFSS</td>\n",
              "      <td>Mental Health</td>\n",
              "      <td>Lifetime diagnosis of depression</td>\n",
              "      <td>Percentage of older adults with a lifetime dia...</td>\n",
              "      <td>%</td>\n",
              "      <td>...</td>\n",
              "      <td>Hispanic</td>\n",
              "      <td>POINT (-120.15503132599969 44.56744942400047)</td>\n",
              "      <td>C05</td>\n",
              "      <td>TMC03</td>\n",
              "      <td>Q27</td>\n",
              "      <td>41</td>\n",
              "      <td>AGE</td>\n",
              "      <td>AGE_OVERALL</td>\n",
              "      <td>RACE</td>\n",
              "      <td>HIS</td>\n",
              "    </tr>\n",
              "    <tr>\n",
              "      <th>3</th>\n",
              "      <td>BRFSS~2021~2021~31~Q27~TMC03~AGE~OVERALL</td>\n",
              "      <td>2021</td>\n",
              "      <td>2021</td>\n",
              "      <td>NE</td>\n",
              "      <td>Nebraska</td>\n",
              "      <td>BRFSS</td>\n",
              "      <td>Mental Health</td>\n",
              "      <td>Lifetime diagnosis of depression</td>\n",
              "      <td>Percentage of older adults with a lifetime dia...</td>\n",
              "      <td>%</td>\n",
              "      <td>...</td>\n",
              "      <td>NaN</td>\n",
              "      <td>POINT (-99.36572062299967 41.6410409880005)</td>\n",
              "      <td>C05</td>\n",
              "      <td>TMC03</td>\n",
              "      <td>Q27</td>\n",
              "      <td>31</td>\n",
              "      <td>AGE</td>\n",
              "      <td>AGE_OVERALL</td>\n",
              "      <td>OVERALL</td>\n",
              "      <td>OVERALL</td>\n",
              "    </tr>\n",
              "    <tr>\n",
              "      <th>4</th>\n",
              "      <td>BRFSS~2021~2021~18~Q27~TMC03~AGE~GENDER</td>\n",
              "      <td>2021</td>\n",
              "      <td>2021</td>\n",
              "      <td>IN</td>\n",
              "      <td>Indiana</td>\n",
              "      <td>BRFSS</td>\n",
              "      <td>Mental Health</td>\n",
              "      <td>Lifetime diagnosis of depression</td>\n",
              "      <td>Percentage of older adults with a lifetime dia...</td>\n",
              "      <td>%</td>\n",
              "      <td>...</td>\n",
              "      <td>Female</td>\n",
              "      <td>POINT (-86.14996019399968 39.766910452000445)</td>\n",
              "      <td>C05</td>\n",
              "      <td>TMC03</td>\n",
              "      <td>Q27</td>\n",
              "      <td>18</td>\n",
              "      <td>AGE</td>\n",
              "      <td>AGE_OVERALL</td>\n",
              "      <td>GENDER</td>\n",
              "      <td>FEMALE</td>\n",
              "    </tr>\n",
              "  </tbody>\n",
              "</table>\n",
              "<p>5 rows × 31 columns</p>\n",
              "</div>\n",
              "      <button class=\"colab-df-convert\" onclick=\"convertToInteractive('df-fa34d9d2-d9a4-41f2-9dba-ad6326b060cf')\"\n",
              "              title=\"Convert this dataframe to an interactive table.\"\n",
              "              style=\"display:none;\">\n",
              "\n",
              "  <svg xmlns=\"http://www.w3.org/2000/svg\" height=\"24px\"viewBox=\"0 0 24 24\"\n",
              "       width=\"24px\">\n",
              "    <path d=\"M0 0h24v24H0V0z\" fill=\"none\"/>\n",
              "    <path d=\"M18.56 5.44l.94 2.06.94-2.06 2.06-.94-2.06-.94-.94-2.06-.94 2.06-2.06.94zm-11 1L8.5 8.5l.94-2.06 2.06-.94-2.06-.94L8.5 2.5l-.94 2.06-2.06.94zm10 10l.94 2.06.94-2.06 2.06-.94-2.06-.94-.94-2.06-.94 2.06-2.06.94z\"/><path d=\"M17.41 7.96l-1.37-1.37c-.4-.4-.92-.59-1.43-.59-.52 0-1.04.2-1.43.59L10.3 9.45l-7.72 7.72c-.78.78-.78 2.05 0 2.83L4 21.41c.39.39.9.59 1.41.59.51 0 1.02-.2 1.41-.59l7.78-7.78 2.81-2.81c.8-.78.8-2.07 0-2.86zM5.41 20L4 18.59l7.72-7.72 1.47 1.35L5.41 20z\"/>\n",
              "  </svg>\n",
              "      </button>\n",
              "\n",
              "\n",
              "\n",
              "    <div id=\"df-faaa087f-ee18-4ce5-90a0-2570dfb2bb60\">\n",
              "      <button class=\"colab-df-quickchart\" onclick=\"quickchart('df-faaa087f-ee18-4ce5-90a0-2570dfb2bb60')\"\n",
              "              title=\"Suggest charts.\"\n",
              "              style=\"display:none;\">\n",
              "\n",
              "<svg xmlns=\"http://www.w3.org/2000/svg\" height=\"24px\"viewBox=\"0 0 24 24\"\n",
              "     width=\"24px\">\n",
              "    <g>\n",
              "        <path d=\"M19 3H5c-1.1 0-2 .9-2 2v14c0 1.1.9 2 2 2h14c1.1 0 2-.9 2-2V5c0-1.1-.9-2-2-2zM9 17H7v-7h2v7zm4 0h-2V7h2v10zm4 0h-2v-4h2v4z\"/>\n",
              "    </g>\n",
              "</svg>\n",
              "      </button>\n",
              "    </div>\n",
              "\n",
              "<style>\n",
              "  .colab-df-quickchart {\n",
              "    background-color: #E8F0FE;\n",
              "    border: none;\n",
              "    border-radius: 50%;\n",
              "    cursor: pointer;\n",
              "    display: none;\n",
              "    fill: #1967D2;\n",
              "    height: 32px;\n",
              "    padding: 0 0 0 0;\n",
              "    width: 32px;\n",
              "  }\n",
              "\n",
              "  .colab-df-quickchart:hover {\n",
              "    background-color: #E2EBFA;\n",
              "    box-shadow: 0px 1px 2px rgba(60, 64, 67, 0.3), 0px 1px 3px 1px rgba(60, 64, 67, 0.15);\n",
              "    fill: #174EA6;\n",
              "  }\n",
              "\n",
              "  [theme=dark] .colab-df-quickchart {\n",
              "    background-color: #3B4455;\n",
              "    fill: #D2E3FC;\n",
              "  }\n",
              "\n",
              "  [theme=dark] .colab-df-quickchart:hover {\n",
              "    background-color: #434B5C;\n",
              "    box-shadow: 0px 1px 3px 1px rgba(0, 0, 0, 0.15);\n",
              "    filter: drop-shadow(0px 1px 2px rgba(0, 0, 0, 0.3));\n",
              "    fill: #FFFFFF;\n",
              "  }\n",
              "</style>\n",
              "\n",
              "    <script>\n",
              "      async function quickchart(key) {\n",
              "        const containerElement = document.querySelector('#' + key);\n",
              "        const charts = await google.colab.kernel.invokeFunction(\n",
              "            'suggestCharts', [key], {});\n",
              "      }\n",
              "    </script>\n",
              "\n",
              "      <script>\n",
              "\n",
              "function displayQuickchartButton(domScope) {\n",
              "  let quickchartButtonEl =\n",
              "    domScope.querySelector('#df-faaa087f-ee18-4ce5-90a0-2570dfb2bb60 button.colab-df-quickchart');\n",
              "  quickchartButtonEl.style.display =\n",
              "    google.colab.kernel.accessAllowed ? 'block' : 'none';\n",
              "}\n",
              "\n",
              "        displayQuickchartButton(document);\n",
              "      </script>\n",
              "      <style>\n",
              "    .colab-df-container {\n",
              "      display:flex;\n",
              "      flex-wrap:wrap;\n",
              "      gap: 12px;\n",
              "    }\n",
              "\n",
              "    .colab-df-convert {\n",
              "      background-color: #E8F0FE;\n",
              "      border: none;\n",
              "      border-radius: 50%;\n",
              "      cursor: pointer;\n",
              "      display: none;\n",
              "      fill: #1967D2;\n",
              "      height: 32px;\n",
              "      padding: 0 0 0 0;\n",
              "      width: 32px;\n",
              "    }\n",
              "\n",
              "    .colab-df-convert:hover {\n",
              "      background-color: #E2EBFA;\n",
              "      box-shadow: 0px 1px 2px rgba(60, 64, 67, 0.3), 0px 1px 3px 1px rgba(60, 64, 67, 0.15);\n",
              "      fill: #174EA6;\n",
              "    }\n",
              "\n",
              "    [theme=dark] .colab-df-convert {\n",
              "      background-color: #3B4455;\n",
              "      fill: #D2E3FC;\n",
              "    }\n",
              "\n",
              "    [theme=dark] .colab-df-convert:hover {\n",
              "      background-color: #434B5C;\n",
              "      box-shadow: 0px 1px 3px 1px rgba(0, 0, 0, 0.15);\n",
              "      filter: drop-shadow(0px 1px 2px rgba(0, 0, 0, 0.3));\n",
              "      fill: #FFFFFF;\n",
              "    }\n",
              "  </style>\n",
              "\n",
              "      <script>\n",
              "        const buttonEl =\n",
              "          document.querySelector('#df-fa34d9d2-d9a4-41f2-9dba-ad6326b060cf button.colab-df-convert');\n",
              "        buttonEl.style.display =\n",
              "          google.colab.kernel.accessAllowed ? 'block' : 'none';\n",
              "\n",
              "        async function convertToInteractive(key) {\n",
              "          const element = document.querySelector('#df-fa34d9d2-d9a4-41f2-9dba-ad6326b060cf');\n",
              "          const dataTable =\n",
              "            await google.colab.kernel.invokeFunction('convertToInteractive',\n",
              "                                                     [key], {});\n",
              "          if (!dataTable) return;\n",
              "\n",
              "          const docLinkHtml = 'Like what you see? Visit the ' +\n",
              "            '<a target=\"_blank\" href=https://colab.research.google.com/notebooks/data_table.ipynb>data table notebook</a>'\n",
              "            + ' to learn more about interactive tables.';\n",
              "          element.innerHTML = '';\n",
              "          dataTable['output_type'] = 'display_data';\n",
              "          await google.colab.output.renderOutput(dataTable, element);\n",
              "          const docLink = document.createElement('div');\n",
              "          docLink.innerHTML = docLinkHtml;\n",
              "          element.appendChild(docLink);\n",
              "        }\n",
              "      </script>\n",
              "    </div>\n",
              "  </div>\n"
            ]
          },
          "metadata": {},
          "execution_count": 15
        }
      ],
      "source": [
        "#view first 5 rows of dataset\n",
        "Health_data.head(5)"
      ]
    },
    {
      "cell_type": "markdown",
      "metadata": {
        "id": "ZhU5NPNlne3q"
      },
      "source": [
        "Explore columns to determine columns with redundant information and limited use and drop them"
      ]
    },
    {
      "cell_type": "code",
      "execution_count": 16,
      "metadata": {
        "colab": {
          "base_uri": "https://localhost:8080/"
        },
        "id": "BxmU1AN4lWgr",
        "outputId": "2ec8a039-88f1-466f-be32-51144be907f4"
      },
      "outputs": [
        {
          "output_type": "stream",
          "name": "stdout",
          "text": [
            "Unique values in YearStart: [2015 2021 2020 2016 2019 2017 2018]\n",
            "Unique values in YearEnd: [2015 2021 2020 2016 2019 2017 2018]\n",
            "Unique values in LocationAbbr: ['SOU' 'AL' 'OR' 'NE' 'IN' 'AZ' 'OH' 'VT' 'UT' 'WI' 'GA' 'IA' 'NRE' 'NC'\n",
            " 'TN' 'SD' 'NV' 'MDW' 'MN' 'CO' 'ID' 'WEST' 'VI' 'CA' 'AR' 'FL' 'DE' 'CT'\n",
            " 'HI' 'GU' 'KS' 'IL' 'LA' 'MD' 'KY' 'MA' 'ME' 'MI' 'MT' 'MS' 'MO' 'NH'\n",
            " 'NJ' 'US' 'ND' 'NM' 'NY' 'PR' 'PA' 'RI' 'TX' 'VA' 'WA' 'WV' 'WY' 'OK'\n",
            " 'DC' 'AK' 'SC']\n",
            "Unique values in LocationDesc: ['South' 'Alabama' 'Oregon' 'Nebraska' 'Indiana' 'Arizona' 'Ohio'\n",
            " 'Vermont' 'Utah' 'Wisconsin' 'Georgia' 'Iowa' 'Northeast'\n",
            " 'North Carolina' 'Tennessee' 'South Dakota' 'Nevada' 'Midwest'\n",
            " 'Minnesota' 'Colorado' 'Idaho' 'West' 'Virgin Islands' 'California'\n",
            " 'Arkansas' 'Florida' 'Delaware' 'Connecticut' 'Hawaii' 'Guam' 'Kansas'\n",
            " 'Illinois' 'Louisiana' 'Maryland' 'Kentucky' 'Massachusetts' 'Maine'\n",
            " 'Michigan' 'Montana' 'Mississippi' 'Missouri' 'New Hampshire'\n",
            " 'New Jersey' 'United States, DC & Territories' 'North Dakota'\n",
            " 'New Mexico' 'New York' 'Puerto Rico' 'Pennsylvania' 'Rhode Island'\n",
            " 'Texas' 'Virginia' 'Washington' 'West Virginia' 'Wyoming' 'Oklahoma'\n",
            " 'District of Columbia' 'Alaska' 'South Carolina']\n",
            "Unique values in Datasource: ['BRFSS']\n",
            "Unique values in Class: ['Overall Health' 'Mental Health' 'Nutrition/Physical Activity/Obesity'\n",
            " 'Caregiving' 'Screenings and Vaccines' 'Smoking and Alcohol Use'\n",
            " 'Cognitive Decline']\n",
            "Unique values in Topic: ['Arthritis among older adults' 'Frequent mental distress'\n",
            " 'Lifetime diagnosis of depression'\n",
            " 'Recent activity limitations in past month'\n",
            " 'Fall with injury within last year' 'Eating 3 or more vegetables daily'\n",
            " 'Fair or poor health among older adults with arthritis'\n",
            " 'Intensity of caregiving among older adults'\n",
            " 'Influenza vaccine within past year'\n",
            " 'Self-rated health (fair to poor health)'\n",
            " 'Severe joint pain among older adults with arthritis'\n",
            " 'Physically unhealthy days (mean number of days)' 'Obesity'\n",
            " 'Prevalence of sufficient sleep' 'Binge drinking within past 30 days'\n",
            " 'Eating 2 or more fruits daily' 'Cholesterol checked in past 5 years'\n",
            " 'Ever had pneumococcal vaccine'\n",
            " 'Disability status, including sensory or mobility limitations'\n",
            " 'Taking medication for high blood pressure'\n",
            " 'No leisure-time physical activity within past month'\n",
            " 'Duration of caregiving among older adults'\n",
            " 'Self-rated health (good to excellent health)' 'Current smoking'\n",
            " 'Functional difficulties associated with subjective cognitive decline or memory loss among older adults'\n",
            " 'Subjective cognitive decline or memory loss among older adults'\n",
            " 'Need assistance with day-to-day activities because of subjective cognitive decline or memory loss'\n",
            " 'High blood pressure ever' 'Diabetes screening within past 3 years'\n",
            " 'Talked with health care professional about subjective cognitive decline or memory loss'\n",
            " 'Provide care for someone with cognitive impairment within the past month'\n",
            " 'Provide care for a friend or family member in past month'\n",
            " 'Expect to provide care for someone in the next two years'\n",
            " 'Oral health:  tooth retention' 'Pap test within past 3 years'\n",
            " 'Colorectal cancer screening'\n",
            " 'Up-to-date with recommended vaccines and screenings - Men'\n",
            " 'Mammogram within past 2 years'\n",
            " 'Up-to-date with recommended vaccines and screenings - Women']\n",
            "Unique values in Question: ['Percentage of older adults ever told they have arthritis'\n",
            " 'Percentage of older adults who are experiencing frequent mental distress'\n",
            " 'Percentage of older adults with a lifetime diagnosis of depression'\n",
            " 'Mean number of days with activity limitations in the past month'\n",
            " 'Percentage of older adults who have fallen and sustained an injury within last year'\n",
            " 'Percentage of older adults who are eating 3 or more vegetables daily'\n",
            " 'Fair or poor health among older adults with doctor-diagnosed arthritis'\n",
            " 'Average of 20 or more hours of care per week provided to a friend or family member'\n",
            " 'Percentage of older adults who reported influenza vaccine within the past year'\n",
            " 'Percentage of older adults who self-reported that their health is \"fair\" or \"poor\"'\n",
            " 'Severe joint pain due to arthritis among older adults with doctor-diagnosed arthritis'\n",
            " 'Physically unhealthy days (mean number of days in past month)'\n",
            " 'Percentage of older adults who are currently obese, with a body mass index (BMI) of 30 or more'\n",
            " 'Percentage of older adults getting sufficient sleep (>6 hours)'\n",
            " 'Percentage of older adults who reported binge drinking within the past 30 days'\n",
            " 'Percentage of older adults who are eating 2 or more fruits daily'\n",
            " 'Percentage of older adults who had a cholesterol screening within the past 5 years'\n",
            " 'Percentage of at risk adults (have diabetes, asthma, cardiovascular disease or currently smoke) who ever had a pneumococcal vaccine'\n",
            " 'Percentage of older adults who report having a disability (includes limitations related to sensory or mobility impairments or a physical, mental, or emotional condition)'\n",
            " 'Percentage of older adults who have been told they have high blood pressure who report currently taking medication for their high blood pressure'\n",
            " 'Percentage of older adults who have not had any leisure time physical activity in the past month'\n",
            " 'Percentage of older adults who provided care to a friend or family member for six months or more'\n",
            " 'Percentage of older adults who self-reported that their health is \"good\", \"very good\", or \"excellent\"'\n",
            " 'Percentage of older adults who have smoked at least 100 cigarettes in their entire life and still smoke every day or some days'\n",
            " 'Percentage of older adults who reported subjective cognitive decline or memory loss that interferes with their ability to engage in social activities or household chores'\n",
            " 'Percentage of older adults who reported subjective cognitive decline or memory loss that is happening more often or is getting worse in the preceding 12 months'\n",
            " 'Percentage of older adults who reported that as a result of subjective cognitive decline or memory loss that they need assistance with day-to-day activities'\n",
            " 'Percentage of older adults who have ever been told by a health professional that they have high blood pressure'\n",
            " 'Percentage of older adults without diabetes who reported a blood sugar or diabetes test within 3 years'\n",
            " 'Percentage of older adults with subjective cognitive decline or memory loss who reported talking with a health care professional about it'\n",
            " 'Percentage of older adults who provided care for someone with dementia or other cognitive impairment within the past month'\n",
            " 'Percentage of older adults who provided care for a friend or family member within the past month'\n",
            " 'Percentage of older adults currently not providing care who expect to provide care for someone with health problems in the next two years'\n",
            " 'Percentage of older adults who report having lost 5 or fewer teeth due to decay or gum disease'\n",
            " 'Percentage of older adult women with an intact cervix who had a Pap test within the past 3 years'\n",
            " 'Percentage of older adults who had either a home blood stool test within the past year or a sigmoidoscopy or colonoscopy within the past 10 years'\n",
            " 'Percentage of older adult men who are up to date with select clinical preventive services'\n",
            " 'Percentage of older adult women who have received a mammogram within the past 2 years'\n",
            " 'Percentage of older adult women who are up to date with select clinical preventive services']\n",
            "Unique values in Data_Value_Unit: ['%' 'Number']\n",
            "Unique values in DataValueTypeID: ['PRCTG' 'MEAN']\n",
            "Unique values in Data_Value_Type: ['Percentage' 'Mean']\n",
            "Unique values in Data_Value: [36.8 15.5 23.5 ...  0.3  0.6  0.2]\n",
            "Unique values in Data_Value_Alt: [36.8 15.5 23.5 ...  0.3  0.6  0.2]\n",
            "Unique values in Low_Confidence_Limit: [35.9 13.4 16.0 ... '97.7' 99.3 99.4]\n",
            "Unique values in High_Confidence_Limit: [37.7 17.9 33.2 ... 1.9 1.4 1.6]\n",
            "Unique values in StratificationCategory1: ['Age Group']\n",
            "Unique values in Stratification1: ['50-64 years' 'Overall' '65 years or older']\n",
            "Unique values in StratificationCategory2: [nan 'Gender' 'Race/Ethnicity']\n",
            "Unique values in Stratification2: [nan 'Female' 'Hispanic' 'Male' 'White, non-Hispanic'\n",
            " 'Native Am/Alaskan Native' 'Black, non-Hispanic' 'Asian/Pacific Islander']\n",
            "Unique values in Geolocation: [nan 'POINT (-86.63186076199969 32.84057112200048)'\n",
            " 'POINT (-120.15503132599969 44.56744942400047)'\n",
            " 'POINT (-99.36572062299967 41.6410409880005)'\n",
            " 'POINT (-86.14996019399968 39.766910452000445)'\n",
            " 'POINT (-111.76381127699972 34.865970280000454)'\n",
            " 'POINT (-82.40426005599966 40.06021014100048)'\n",
            " 'POINT (-72.51764079099962 43.62538123900049)'\n",
            " 'POINT (-111.58713063499971 39.360700171000474)'\n",
            " 'POINT (-89.81637074199966 44.39319117400049)'\n",
            " 'POINT (-83.62758034599966 32.83968109300048)'\n",
            " 'POINT (-93.81649055599968 42.46940091300047)'\n",
            " 'POINT (-79.15925046299964 35.466220975000454)'\n",
            " 'POINT (-85.77449091399967 35.68094058000048)'\n",
            " 'POINT (-100.3735306369997 44.353130053000484)'\n",
            " 'POINT (-117.07184056399967 39.493240390000494)'\n",
            " 'POINT (-94.79420050299967 46.35564873600049)'\n",
            " 'POINT (-106.13361092099967 38.843840757000464)'\n",
            " 'POINT (-114.3637300419997 43.682630005000476)'\n",
            " 'POINT (-64.896335 18.335765)'\n",
            " 'POINT (-120.99999953799971 37.63864012300047)'\n",
            " 'POINT (-92.27449074299966 34.74865012400045)'\n",
            " 'POINT (-81.92896053899966 28.932040377000476)'\n",
            " 'POINT (-75.57774116799965 39.008830667000495)'\n",
            " 'POINT (-72.64984095199964 41.56266102000046)'\n",
            " 'POINT (-157.85774940299973 21.304850435000446)'\n",
            " 'POINT (144.793731 13.444304)'\n",
            " 'POINT (-98.20078122699965 38.34774030000045)'\n",
            " 'POINT (-88.99771017799969 40.48501028300046)'\n",
            " 'POINT (-92.44568007099969 31.31266064400046)'\n",
            " 'POINT (-76.60926011099963 39.29058096400047)'\n",
            " 'POINT (-84.77497104799966 37.645970271000465)'\n",
            " 'POINT (-72.08269067499964 42.27687047000046)'\n",
            " 'POINT (-68.98503133599962 45.254228894000505)'\n",
            " 'POINT (-84.71439026999968 44.6613195430005)'\n",
            " 'POINT (-109.42442064499971 47.06652897200047)'\n",
            " 'POINT (-89.53803082499968 32.745510099000455)'\n",
            " 'POINT (-92.56630005299968 38.635790776000476)'\n",
            " 'POINT (-71.50036091999965 43.65595011300047)'\n",
            " 'POINT (-74.27369128799967 40.13057004800049)'\n",
            " 'POINT (-100.11842104899966 47.47531977900047)'\n",
            " 'POINT (-106.24058098499967 34.52088095200048)'\n",
            " 'POINT (-75.54397042699964 42.82700103200045)'\n",
            " 'POINT (-66.590149 18.220833)'\n",
            " 'POINT (-77.86070029399963 40.79373015200048)'\n",
            " 'POINT (-71.52247031399963 41.70828019300046)'\n",
            " 'POINT (-99.42677020599967 31.827240407000488)'\n",
            " 'POINT (-78.45789046299967 37.54268067400045)'\n",
            " 'POINT (-120.47001078999972 47.52227862900048)'\n",
            " 'POINT (-80.71264013499967 38.66551020200046)'\n",
            " 'POINT (-108.10983035299967 43.23554134300048)'\n",
            " 'POINT (-97.52107021399968 35.47203135600046)'\n",
            " 'POINT (-77.036871 38.907192)'\n",
            " 'POINT (-147.72205903599973 64.84507995700051)'\n",
            " 'POINT (-81.04537120699968 33.998821303000454)']\n",
            "Unique values in ClassID: ['C01' 'C05' 'C02' 'C07' 'C03' 'C04' 'C06']\n",
            "Unique values in TopicID: ['TOC11' 'TMC01' 'TMC03' 'TOC03' 'TOC06' 'TNC02' 'TOC13' 'TGC04' 'TSC08'\n",
            " 'TOC07' 'TOC12' 'TOC01' 'TNC04' 'TOC09' 'TAC03' 'TNC01' 'TSC06' 'TSC09'\n",
            " 'TOC10' 'TOC04' 'TNC03' 'TGC03' 'TOC08' 'TAC01' 'TCC02' 'TCC01' 'TCC03'\n",
            " 'TSC07' 'TSC04' 'TCC04' 'TGC05' 'TGC01' 'TGC02' 'TOC05' 'TSC03' 'TSC02'\n",
            " 'TSC10' 'TSC01' 'TSC11']\n",
            "Unique values in QuestionID: ['Q43' 'Q03' 'Q27' 'Q35' 'Q05' 'Q02' 'Q45' 'Q39' 'Q18' 'Q32' 'Q44' 'Q08'\n",
            " 'Q13' 'Q34' 'Q21' 'Q01' 'Q14' 'Q09' 'Q46' 'Q04' 'Q16' 'Q38' 'Q33' 'Q17'\n",
            " 'Q31' 'Q30' 'Q41' 'Q22' 'Q19' 'Q42' 'Q40' 'Q36' 'Q37' 'Q07' 'Q20' 'Q15'\n",
            " 'Q10' 'Q12' 'Q11']\n",
            "Unique values in LocationID: [9003    1   41   31   18    4   39   50   49   55   13   19 9001   37\n",
            "   47   46   32 9002   27    8   16 9004   78    6    5   12   10    9\n",
            "   15   66   20   17   22   24   21   25   23   26   30   28   29   33\n",
            "   34   59   38   35   36   72   42   44   48   51   53   54   56   40\n",
            "   11    2   45]\n",
            "Unique values in StratificationCategoryID1: ['AGE']\n",
            "Unique values in StratificationID1: ['5064' 'AGE_OVERALL' '65PLUS']\n",
            "Unique values in StratificationCategoryID2: ['OVERALL' 'GENDER' 'RACE']\n",
            "Unique values in StratificationID2: ['OVERALL' 'FEMALE' 'HIS' 'MALE' 'WHT' 'NAA' 'BLK' 'ASN']\n"
          ]
        }
      ],
      "source": [
        "columns_to_check = ['YearStart', 'YearEnd', 'LocationAbbr', 'LocationDesc', 'Datasource',\n",
        "                    'Class', 'Topic', 'Question','Data_Value_Unit', 'DataValueTypeID', 'Data_Value_Type',\n",
        "                    'Data_Value', 'Data_Value_Alt','Low_Confidence_Limit', 'High_Confidence_Limit', 'StratificationCategory1','Stratification1',\n",
        "                    'StratificationCategory2', 'Stratification2', 'Geolocation', 'ClassID', 'TopicID', 'QuestionID','LocationID',\n",
        "                    'StratificationCategoryID1', 'StratificationID1','StratificationCategoryID2','StratificationID2']\n",
        "\n",
        "# Create an empty dictionary to store unique values for each column\n",
        "unique_values_dict = {}\n",
        "\n",
        "# Loop through the selected columns and find unique values for each\n",
        "for column in columns_to_check:\n",
        "    unique_values_dict[column] = Health_data[column].unique()\n",
        "\n",
        "# Print the unique values for each column\n",
        "for column, unique_values in unique_values_dict.items():\n",
        "    print(f\"Unique values in {column}: {unique_values}\")\n"
      ]
    },
    {
      "cell_type": "code",
      "execution_count": 17,
      "metadata": {
        "colab": {
          "base_uri": "https://localhost:8080/"
        },
        "id": "vowIeWorycUq",
        "outputId": "f8d1b995-4246-4f83-dec4-2425c19a10a6"
      },
      "outputs": [
        {
          "output_type": "execute_result",
          "data": {
            "text/plain": [
              "RowId                              0\n",
              "YearStart                          0\n",
              "YearEnd                            0\n",
              "LocationAbbr                       0\n",
              "LocationDesc                       0\n",
              "Datasource                         0\n",
              "Class                              0\n",
              "Topic                              0\n",
              "Question                           0\n",
              "Data_Value_Unit                    0\n",
              "DataValueTypeID                    0\n",
              "Data_Value_Type                    0\n",
              "Data_Value                     81635\n",
              "Data_Value_Alt                 81635\n",
              "Data_Value_Footnote_Symbol    151823\n",
              "Data_Value_Footnote           151823\n",
              "Low_Confidence_Limit           81785\n",
              "High_Confidence_Limit          81785\n",
              "StratificationCategory1            0\n",
              "Stratification1                    0\n",
              "StratificationCategory2        32376\n",
              "Stratification2                32376\n",
              "Geolocation                    26709\n",
              "ClassID                            0\n",
              "TopicID                            0\n",
              "QuestionID                         0\n",
              "LocationID                         0\n",
              "StratificationCategoryID1          0\n",
              "StratificationID1                  0\n",
              "StratificationCategoryID2          0\n",
              "StratificationID2                  0\n",
              "dtype: int64"
            ]
          },
          "metadata": {},
          "execution_count": 17
        }
      ],
      "source": [
        "#find number of null values in each column\n",
        "Health_data.isnull().sum()"
      ]
    },
    {
      "cell_type": "code",
      "execution_count": 18,
      "metadata": {
        "colab": {
          "base_uri": "https://localhost:8080/"
        },
        "id": "NsaW6NEw2R9Z",
        "outputId": "78714c5d-7ace-492f-f859-daba69883fdf"
      },
      "outputs": [
        {
          "output_type": "stream",
          "name": "stdout",
          "text": [
            "<class 'pandas.core.frame.DataFrame'>\n",
            "RangeIndex: 250937 entries, 0 to 250936\n",
            "Data columns (total 31 columns):\n",
            " #   Column                      Non-Null Count   Dtype  \n",
            "---  ------                      --------------   -----  \n",
            " 0   RowId                       250937 non-null  object \n",
            " 1   YearStart                   250937 non-null  int64  \n",
            " 2   YearEnd                     250937 non-null  int64  \n",
            " 3   LocationAbbr                250937 non-null  object \n",
            " 4   LocationDesc                250937 non-null  object \n",
            " 5   Datasource                  250937 non-null  object \n",
            " 6   Class                       250937 non-null  object \n",
            " 7   Topic                       250937 non-null  object \n",
            " 8   Question                    250937 non-null  object \n",
            " 9   Data_Value_Unit             250937 non-null  object \n",
            " 10  DataValueTypeID             250937 non-null  object \n",
            " 11  Data_Value_Type             250937 non-null  object \n",
            " 12  Data_Value                  169302 non-null  float64\n",
            " 13  Data_Value_Alt              169302 non-null  float64\n",
            " 14  Data_Value_Footnote_Symbol  99114 non-null   object \n",
            " 15  Data_Value_Footnote         99114 non-null   object \n",
            " 16  Low_Confidence_Limit        169152 non-null  object \n",
            " 17  High_Confidence_Limit       169152 non-null  object \n",
            " 18  StratificationCategory1     250937 non-null  object \n",
            " 19  Stratification1             250937 non-null  object \n",
            " 20  StratificationCategory2     218561 non-null  object \n",
            " 21  Stratification2             218561 non-null  object \n",
            " 22  Geolocation                 224228 non-null  object \n",
            " 23  ClassID                     250937 non-null  object \n",
            " 24  TopicID                     250937 non-null  object \n",
            " 25  QuestionID                  250937 non-null  object \n",
            " 26  LocationID                  250937 non-null  int64  \n",
            " 27  StratificationCategoryID1   250937 non-null  object \n",
            " 28  StratificationID1           250937 non-null  object \n",
            " 29  StratificationCategoryID2   250937 non-null  object \n",
            " 30  StratificationID2           250937 non-null  object \n",
            "dtypes: float64(2), int64(3), object(26)\n",
            "memory usage: 59.3+ MB\n"
          ]
        }
      ],
      "source": [
        "#information of dataset\n",
        "Health_data.info()"
      ]
    },
    {
      "cell_type": "code",
      "execution_count": 19,
      "metadata": {
        "colab": {
          "base_uri": "https://localhost:8080/"
        },
        "id": "Ya2oP3oruKqc",
        "outputId": "a7868fdd-58ee-4a5e-8ad1-d78002946807"
      },
      "outputs": [
        {
          "output_type": "stream",
          "name": "stdout",
          "text": [
            "null values in Data_Value column =  81635\n",
            "null values in Data_Value_Alt column =  81635\n",
            "\n",
            "null values in both columns =  81635\n"
          ]
        }
      ],
      "source": [
        "#confirm null values in both columns\n",
        "print('null values in Data_Value column = ',\n",
        "      Health_data['Data_Value'].isnull().sum())\n",
        "\n",
        "print('null values in Data_Value_Alt column = ',\n",
        "      Health_data['Data_Value_Alt'].isnull().sum())\n",
        "\n",
        "count_false = len(Health_data[(Health_data['Data_Value'] == Health_data['Data_Value_Alt']) == False])\n",
        "print('\\nnull values in both columns = ',count_false)\n"
      ]
    },
    {
      "cell_type": "markdown",
      "metadata": {
        "id": "gyXMt_sr115c"
      },
      "source": [
        "Drop columns with limited usefulness and redundant information\n",
        "\n",
        "Reasons for droping columns\n",
        "1.   RowID - Limited usefulness\n",
        "2.   Datasource- limited usefulness\n",
        "3.   Data_Value_Type - Redundant info present in Data_Value_TypeID\n",
        "4.   Data_Value_Alt - Redundant info already present in Data_Value\n",
        "5.   StratificationCategory1 - Limited usefullness\n",
        "6.   StratificationCategory2 - Redundant info already in Stratification2\n",
        "7.   StratificationCategoryID1 -Limited Usefulness\n",
        "8.   StratificationID1 - Limited usefulness\n",
        "9.   StratificationID2 - duplicated info\n",
        "10.  StratificationCategoryID2 - Duplicated info\n",
        "\n",
        "\n"
      ]
    },
    {
      "cell_type": "code",
      "execution_count": 20,
      "metadata": {
        "colab": {
          "base_uri": "https://localhost:8080/"
        },
        "id": "mN07a6cslWcE",
        "outputId": "d300274d-c291-4087-c13f-0ba907d781d0"
      },
      "outputs": [
        {
          "output_type": "stream",
          "name": "stdout",
          "text": [
            "<class 'pandas.core.frame.DataFrame'>\n",
            "RangeIndex: 250937 entries, 0 to 250936\n",
            "Data columns (total 21 columns):\n",
            " #   Column                      Non-Null Count   Dtype  \n",
            "---  ------                      --------------   -----  \n",
            " 0   YearStart                   250937 non-null  int64  \n",
            " 1   YearEnd                     250937 non-null  int64  \n",
            " 2   LocationAbbr                250937 non-null  object \n",
            " 3   LocationDesc                250937 non-null  object \n",
            " 4   Class                       250937 non-null  object \n",
            " 5   Topic                       250937 non-null  object \n",
            " 6   Question                    250937 non-null  object \n",
            " 7   Data_Value_Unit             250937 non-null  object \n",
            " 8   DataValueTypeID             250937 non-null  object \n",
            " 9   Data_Value                  169302 non-null  float64\n",
            " 10  Data_Value_Footnote_Symbol  99114 non-null   object \n",
            " 11  Data_Value_Footnote         99114 non-null   object \n",
            " 12  Low_Confidence_Limit        169152 non-null  object \n",
            " 13  High_Confidence_Limit       169152 non-null  object \n",
            " 14  Stratification1             250937 non-null  object \n",
            " 15  Stratification2             218561 non-null  object \n",
            " 16  Geolocation                 224228 non-null  object \n",
            " 17  ClassID                     250937 non-null  object \n",
            " 18  TopicID                     250937 non-null  object \n",
            " 19  QuestionID                  250937 non-null  object \n",
            " 20  LocationID                  250937 non-null  int64  \n",
            "dtypes: float64(1), int64(3), object(17)\n",
            "memory usage: 40.2+ MB\n"
          ]
        }
      ],
      "source": [
        "# List of column names to drop\n",
        "columns_to_drop = ['RowId', 'Datasource', 'Data_Value_Type', 'Data_Value_Alt','StratificationCategory1','StratificationCategory2',\n",
        "                   'StratificationCategoryID1','StratificationID1','StratificationID2','StratificationCategoryID2']\n",
        "\n",
        "# Drop the specified columns\n",
        "Health_data.drop(columns=columns_to_drop, inplace=True)\n",
        "Health_data.info()"
      ]
    },
    {
      "cell_type": "code",
      "execution_count": 21,
      "metadata": {
        "colab": {
          "base_uri": "https://localhost:8080/"
        },
        "id": "q-MqMtJH8Fxr",
        "outputId": "4f1e9d4b-5aef-4613-da4c-5a61f546cec4"
      },
      "outputs": [
        {
          "output_type": "execute_result",
          "data": {
            "text/plain": [
              "(250937, 21)"
            ]
          },
          "metadata": {},
          "execution_count": 21
        }
      ],
      "source": [
        "# check to see how many columns left\n",
        "Health_data.shape"
      ]
    },
    {
      "cell_type": "code",
      "execution_count": 22,
      "metadata": {
        "colab": {
          "base_uri": "https://localhost:8080/"
        },
        "id": "KJsvv5_K3IJy",
        "outputId": "357c6aed-d289-4c1b-ee99-78195f9668a2"
      },
      "outputs": [
        {
          "output_type": "stream",
          "name": "stdout",
          "text": [
            "<class 'pandas.core.frame.DataFrame'>\n",
            "RangeIndex: 250937 entries, 0 to 250936\n",
            "Data columns (total 21 columns):\n",
            " #   Column                      Non-Null Count   Dtype  \n",
            "---  ------                      --------------   -----  \n",
            " 0   YearStart                   250937 non-null  int64  \n",
            " 1   YearEnd                     250937 non-null  int64  \n",
            " 2   LocationAbbr                250937 non-null  object \n",
            " 3   LocationDesc                250937 non-null  object \n",
            " 4   Class                       250937 non-null  object \n",
            " 5   Topic                       250937 non-null  object \n",
            " 6   Question                    250937 non-null  object \n",
            " 7   Data_Value_Unit             250937 non-null  object \n",
            " 8   DataValueTypeID             250937 non-null  object \n",
            " 9   Data_Value                  169302 non-null  float64\n",
            " 10  Data_Value_Footnote_Symbol  99114 non-null   object \n",
            " 11  Data_Value_Footnote         99114 non-null   object \n",
            " 12  Low_Confidence_Limit        169126 non-null  float64\n",
            " 13  High_Confidence_Limit       169126 non-null  float64\n",
            " 14  Stratification1             250937 non-null  object \n",
            " 15  Stratification2             218561 non-null  object \n",
            " 16  Geolocation                 224228 non-null  object \n",
            " 17  ClassID                     250937 non-null  object \n",
            " 18  TopicID                     250937 non-null  object \n",
            " 19  QuestionID                  250937 non-null  object \n",
            " 20  LocationID                  250937 non-null  int64  \n",
            "dtypes: float64(3), int64(3), object(15)\n",
            "memory usage: 40.2+ MB\n"
          ]
        }
      ],
      "source": [
        "#Convert Low_confiidence and High_confidence columns to float\n",
        "cols_to_float = ['Low_Confidence_Limit', 'High_Confidence_Limit']\n",
        "\n",
        "for column in cols_to_float:\n",
        "    Health_data[column] = pd.to_numeric(Health_data[column], errors='coerce').astype(float)\n",
        "\n",
        "Health_data.info()\n"
      ]
    },
    {
      "cell_type": "markdown",
      "metadata": {
        "id": "fKXrDV316q8w"
      },
      "source": [
        "Taking care of Null-values"
      ]
    },
    {
      "cell_type": "code",
      "execution_count": 23,
      "metadata": {
        "colab": {
          "base_uri": "https://localhost:8080/",
          "height": 424
        },
        "id": "F06eBhe56oL6",
        "outputId": "c1ead00a-e229-4a2e-d68a-d17d31707639"
      },
      "outputs": [
        {
          "output_type": "execute_result",
          "data": {
            "text/plain": [
              "        Data_Value  Low_Confidence_Limit  High_Confidence_Limit\n",
              "149            NaN                   NaN                    NaN\n",
              "220            NaN                   NaN                    NaN\n",
              "300            NaN                   NaN                    NaN\n",
              "301            NaN                   NaN                    NaN\n",
              "306            NaN                   NaN                    NaN\n",
              "...            ...                   ...                    ...\n",
              "250923         NaN                   NaN                    NaN\n",
              "250927         NaN                   NaN                    NaN\n",
              "250930         NaN                   NaN                    NaN\n",
              "250933         NaN                   NaN                    NaN\n",
              "250936         NaN                   NaN                    NaN\n",
              "\n",
              "[81635 rows x 3 columns]"
            ],
            "text/html": [
              "\n",
              "\n",
              "  <div id=\"df-6db82b28-20c0-4c38-b87c-98797a732d06\">\n",
              "    <div class=\"colab-df-container\">\n",
              "      <div>\n",
              "<style scoped>\n",
              "    .dataframe tbody tr th:only-of-type {\n",
              "        vertical-align: middle;\n",
              "    }\n",
              "\n",
              "    .dataframe tbody tr th {\n",
              "        vertical-align: top;\n",
              "    }\n",
              "\n",
              "    .dataframe thead th {\n",
              "        text-align: right;\n",
              "    }\n",
              "</style>\n",
              "<table border=\"1\" class=\"dataframe\">\n",
              "  <thead>\n",
              "    <tr style=\"text-align: right;\">\n",
              "      <th></th>\n",
              "      <th>Data_Value</th>\n",
              "      <th>Low_Confidence_Limit</th>\n",
              "      <th>High_Confidence_Limit</th>\n",
              "    </tr>\n",
              "  </thead>\n",
              "  <tbody>\n",
              "    <tr>\n",
              "      <th>149</th>\n",
              "      <td>NaN</td>\n",
              "      <td>NaN</td>\n",
              "      <td>NaN</td>\n",
              "    </tr>\n",
              "    <tr>\n",
              "      <th>220</th>\n",
              "      <td>NaN</td>\n",
              "      <td>NaN</td>\n",
              "      <td>NaN</td>\n",
              "    </tr>\n",
              "    <tr>\n",
              "      <th>300</th>\n",
              "      <td>NaN</td>\n",
              "      <td>NaN</td>\n",
              "      <td>NaN</td>\n",
              "    </tr>\n",
              "    <tr>\n",
              "      <th>301</th>\n",
              "      <td>NaN</td>\n",
              "      <td>NaN</td>\n",
              "      <td>NaN</td>\n",
              "    </tr>\n",
              "    <tr>\n",
              "      <th>306</th>\n",
              "      <td>NaN</td>\n",
              "      <td>NaN</td>\n",
              "      <td>NaN</td>\n",
              "    </tr>\n",
              "    <tr>\n",
              "      <th>...</th>\n",
              "      <td>...</td>\n",
              "      <td>...</td>\n",
              "      <td>...</td>\n",
              "    </tr>\n",
              "    <tr>\n",
              "      <th>250923</th>\n",
              "      <td>NaN</td>\n",
              "      <td>NaN</td>\n",
              "      <td>NaN</td>\n",
              "    </tr>\n",
              "    <tr>\n",
              "      <th>250927</th>\n",
              "      <td>NaN</td>\n",
              "      <td>NaN</td>\n",
              "      <td>NaN</td>\n",
              "    </tr>\n",
              "    <tr>\n",
              "      <th>250930</th>\n",
              "      <td>NaN</td>\n",
              "      <td>NaN</td>\n",
              "      <td>NaN</td>\n",
              "    </tr>\n",
              "    <tr>\n",
              "      <th>250933</th>\n",
              "      <td>NaN</td>\n",
              "      <td>NaN</td>\n",
              "      <td>NaN</td>\n",
              "    </tr>\n",
              "    <tr>\n",
              "      <th>250936</th>\n",
              "      <td>NaN</td>\n",
              "      <td>NaN</td>\n",
              "      <td>NaN</td>\n",
              "    </tr>\n",
              "  </tbody>\n",
              "</table>\n",
              "<p>81635 rows × 3 columns</p>\n",
              "</div>\n",
              "      <button class=\"colab-df-convert\" onclick=\"convertToInteractive('df-6db82b28-20c0-4c38-b87c-98797a732d06')\"\n",
              "              title=\"Convert this dataframe to an interactive table.\"\n",
              "              style=\"display:none;\">\n",
              "\n",
              "  <svg xmlns=\"http://www.w3.org/2000/svg\" height=\"24px\"viewBox=\"0 0 24 24\"\n",
              "       width=\"24px\">\n",
              "    <path d=\"M0 0h24v24H0V0z\" fill=\"none\"/>\n",
              "    <path d=\"M18.56 5.44l.94 2.06.94-2.06 2.06-.94-2.06-.94-.94-2.06-.94 2.06-2.06.94zm-11 1L8.5 8.5l.94-2.06 2.06-.94-2.06-.94L8.5 2.5l-.94 2.06-2.06.94zm10 10l.94 2.06.94-2.06 2.06-.94-2.06-.94-.94-2.06-.94 2.06-2.06.94z\"/><path d=\"M17.41 7.96l-1.37-1.37c-.4-.4-.92-.59-1.43-.59-.52 0-1.04.2-1.43.59L10.3 9.45l-7.72 7.72c-.78.78-.78 2.05 0 2.83L4 21.41c.39.39.9.59 1.41.59.51 0 1.02-.2 1.41-.59l7.78-7.78 2.81-2.81c.8-.78.8-2.07 0-2.86zM5.41 20L4 18.59l7.72-7.72 1.47 1.35L5.41 20z\"/>\n",
              "  </svg>\n",
              "      </button>\n",
              "\n",
              "\n",
              "\n",
              "    <div id=\"df-4a2cbc9a-bae0-4912-a60a-86a9f52cec66\">\n",
              "      <button class=\"colab-df-quickchart\" onclick=\"quickchart('df-4a2cbc9a-bae0-4912-a60a-86a9f52cec66')\"\n",
              "              title=\"Suggest charts.\"\n",
              "              style=\"display:none;\">\n",
              "\n",
              "<svg xmlns=\"http://www.w3.org/2000/svg\" height=\"24px\"viewBox=\"0 0 24 24\"\n",
              "     width=\"24px\">\n",
              "    <g>\n",
              "        <path d=\"M19 3H5c-1.1 0-2 .9-2 2v14c0 1.1.9 2 2 2h14c1.1 0 2-.9 2-2V5c0-1.1-.9-2-2-2zM9 17H7v-7h2v7zm4 0h-2V7h2v10zm4 0h-2v-4h2v4z\"/>\n",
              "    </g>\n",
              "</svg>\n",
              "      </button>\n",
              "    </div>\n",
              "\n",
              "<style>\n",
              "  .colab-df-quickchart {\n",
              "    background-color: #E8F0FE;\n",
              "    border: none;\n",
              "    border-radius: 50%;\n",
              "    cursor: pointer;\n",
              "    display: none;\n",
              "    fill: #1967D2;\n",
              "    height: 32px;\n",
              "    padding: 0 0 0 0;\n",
              "    width: 32px;\n",
              "  }\n",
              "\n",
              "  .colab-df-quickchart:hover {\n",
              "    background-color: #E2EBFA;\n",
              "    box-shadow: 0px 1px 2px rgba(60, 64, 67, 0.3), 0px 1px 3px 1px rgba(60, 64, 67, 0.15);\n",
              "    fill: #174EA6;\n",
              "  }\n",
              "\n",
              "  [theme=dark] .colab-df-quickchart {\n",
              "    background-color: #3B4455;\n",
              "    fill: #D2E3FC;\n",
              "  }\n",
              "\n",
              "  [theme=dark] .colab-df-quickchart:hover {\n",
              "    background-color: #434B5C;\n",
              "    box-shadow: 0px 1px 3px 1px rgba(0, 0, 0, 0.15);\n",
              "    filter: drop-shadow(0px 1px 2px rgba(0, 0, 0, 0.3));\n",
              "    fill: #FFFFFF;\n",
              "  }\n",
              "</style>\n",
              "\n",
              "    <script>\n",
              "      async function quickchart(key) {\n",
              "        const containerElement = document.querySelector('#' + key);\n",
              "        const charts = await google.colab.kernel.invokeFunction(\n",
              "            'suggestCharts', [key], {});\n",
              "      }\n",
              "    </script>\n",
              "\n",
              "      <script>\n",
              "\n",
              "function displayQuickchartButton(domScope) {\n",
              "  let quickchartButtonEl =\n",
              "    domScope.querySelector('#df-4a2cbc9a-bae0-4912-a60a-86a9f52cec66 button.colab-df-quickchart');\n",
              "  quickchartButtonEl.style.display =\n",
              "    google.colab.kernel.accessAllowed ? 'block' : 'none';\n",
              "}\n",
              "\n",
              "        displayQuickchartButton(document);\n",
              "      </script>\n",
              "      <style>\n",
              "    .colab-df-container {\n",
              "      display:flex;\n",
              "      flex-wrap:wrap;\n",
              "      gap: 12px;\n",
              "    }\n",
              "\n",
              "    .colab-df-convert {\n",
              "      background-color: #E8F0FE;\n",
              "      border: none;\n",
              "      border-radius: 50%;\n",
              "      cursor: pointer;\n",
              "      display: none;\n",
              "      fill: #1967D2;\n",
              "      height: 32px;\n",
              "      padding: 0 0 0 0;\n",
              "      width: 32px;\n",
              "    }\n",
              "\n",
              "    .colab-df-convert:hover {\n",
              "      background-color: #E2EBFA;\n",
              "      box-shadow: 0px 1px 2px rgba(60, 64, 67, 0.3), 0px 1px 3px 1px rgba(60, 64, 67, 0.15);\n",
              "      fill: #174EA6;\n",
              "    }\n",
              "\n",
              "    [theme=dark] .colab-df-convert {\n",
              "      background-color: #3B4455;\n",
              "      fill: #D2E3FC;\n",
              "    }\n",
              "\n",
              "    [theme=dark] .colab-df-convert:hover {\n",
              "      background-color: #434B5C;\n",
              "      box-shadow: 0px 1px 3px 1px rgba(0, 0, 0, 0.15);\n",
              "      filter: drop-shadow(0px 1px 2px rgba(0, 0, 0, 0.3));\n",
              "      fill: #FFFFFF;\n",
              "    }\n",
              "  </style>\n",
              "\n",
              "      <script>\n",
              "        const buttonEl =\n",
              "          document.querySelector('#df-6db82b28-20c0-4c38-b87c-98797a732d06 button.colab-df-convert');\n",
              "        buttonEl.style.display =\n",
              "          google.colab.kernel.accessAllowed ? 'block' : 'none';\n",
              "\n",
              "        async function convertToInteractive(key) {\n",
              "          const element = document.querySelector('#df-6db82b28-20c0-4c38-b87c-98797a732d06');\n",
              "          const dataTable =\n",
              "            await google.colab.kernel.invokeFunction('convertToInteractive',\n",
              "                                                     [key], {});\n",
              "          if (!dataTable) return;\n",
              "\n",
              "          const docLinkHtml = 'Like what you see? Visit the ' +\n",
              "            '<a target=\"_blank\" href=https://colab.research.google.com/notebooks/data_table.ipynb>data table notebook</a>'\n",
              "            + ' to learn more about interactive tables.';\n",
              "          element.innerHTML = '';\n",
              "          dataTable['output_type'] = 'display_data';\n",
              "          await google.colab.output.renderOutput(dataTable, element);\n",
              "          const docLink = document.createElement('div');\n",
              "          docLink.innerHTML = docLinkHtml;\n",
              "          element.appendChild(docLink);\n",
              "        }\n",
              "      </script>\n",
              "    </div>\n",
              "  </div>\n"
            ]
          },
          "metadata": {},
          "execution_count": 23
        }
      ],
      "source": [
        "#identify rows with the same null values\n",
        "Health_data[Health_data['Data_Value'].isnull()][['Data_Value', 'Low_Confidence_Limit', 'High_Confidence_Limit']]\n"
      ]
    },
    {
      "cell_type": "markdown",
      "metadata": {
        "id": "SAG6Hzmr9drO"
      },
      "source": [
        "Data_Value, Low_Confidence_Limit and High_Confidence_Limit have the same rows with null values, we have to drop those rows"
      ]
    },
    {
      "cell_type": "code",
      "execution_count": 24,
      "metadata": {
        "colab": {
          "base_uri": "https://localhost:8080/"
        },
        "id": "T7UqqPZ49Pm4",
        "outputId": "f7444956-d3ce-463d-94a9-bce7e8336a62"
      },
      "outputs": [
        {
          "output_type": "stream",
          "name": "stdout",
          "text": [
            "<class 'pandas.core.frame.DataFrame'>\n",
            "Int64Index: 169302 entries, 0 to 250935\n",
            "Data columns (total 21 columns):\n",
            " #   Column                      Non-Null Count   Dtype  \n",
            "---  ------                      --------------   -----  \n",
            " 0   YearStart                   169302 non-null  int64  \n",
            " 1   YearEnd                     169302 non-null  int64  \n",
            " 2   LocationAbbr                169302 non-null  object \n",
            " 3   LocationDesc                169302 non-null  object \n",
            " 4   Class                       169302 non-null  object \n",
            " 5   Topic                       169302 non-null  object \n",
            " 6   Question                    169302 non-null  object \n",
            " 7   Data_Value_Unit             169302 non-null  object \n",
            " 8   DataValueTypeID             169302 non-null  object \n",
            " 9   Data_Value                  169302 non-null  float64\n",
            " 10  Data_Value_Footnote_Symbol  17479 non-null   object \n",
            " 11  Data_Value_Footnote         17479 non-null   object \n",
            " 12  Low_Confidence_Limit        169126 non-null  float64\n",
            " 13  High_Confidence_Limit       169126 non-null  float64\n",
            " 14  Stratification1             169302 non-null  object \n",
            " 15  Stratification2             137016 non-null  object \n",
            " 16  Geolocation                 142990 non-null  object \n",
            " 17  ClassID                     169302 non-null  object \n",
            " 18  TopicID                     169302 non-null  object \n",
            " 19  QuestionID                  169302 non-null  object \n",
            " 20  LocationID                  169302 non-null  int64  \n",
            "dtypes: float64(3), int64(3), object(15)\n",
            "memory usage: 28.4+ MB\n"
          ]
        }
      ],
      "source": [
        "#drop rows with null values\n",
        "Health_data = Health_data.dropna(subset=['Data_Value'])\n",
        "Health_data.info()"
      ]
    },
    {
      "cell_type": "code",
      "execution_count": 25,
      "metadata": {
        "colab": {
          "base_uri": "https://localhost:8080/"
        },
        "id": "kdlfsQff-OTz",
        "outputId": "903a0056-2fb9-458a-e6ec-724a55acb331"
      },
      "outputs": [
        {
          "output_type": "stream",
          "name": "stdout",
          "text": [
            "<class 'pandas.core.frame.DataFrame'>\n",
            "Int64Index: 169302 entries, 0 to 250935\n",
            "Data columns (total 21 columns):\n",
            " #   Column                      Non-Null Count   Dtype  \n",
            "---  ------                      --------------   -----  \n",
            " 0   YearStart                   169302 non-null  int64  \n",
            " 1   YearEnd                     169302 non-null  int64  \n",
            " 2   LocationAbbr                169302 non-null  object \n",
            " 3   LocationDesc                169302 non-null  object \n",
            " 4   Class                       169302 non-null  object \n",
            " 5   Topic                       169302 non-null  object \n",
            " 6   Question                    169302 non-null  object \n",
            " 7   Data_Value_Unit             169302 non-null  object \n",
            " 8   DataValueTypeID             169302 non-null  object \n",
            " 9   Data_Value                  169302 non-null  float64\n",
            " 10  Data_Value_Footnote_Symbol  169302 non-null  object \n",
            " 11  Data_Value_Footnote         169302 non-null  object \n",
            " 12  Low_Confidence_Limit        169126 non-null  float64\n",
            " 13  High_Confidence_Limit       169126 non-null  float64\n",
            " 14  Stratification1             169302 non-null  object \n",
            " 15  Stratification2             137016 non-null  object \n",
            " 16  Geolocation                 142990 non-null  object \n",
            " 17  ClassID                     169302 non-null  object \n",
            " 18  TopicID                     169302 non-null  object \n",
            " 19  QuestionID                  169302 non-null  object \n",
            " 20  LocationID                  169302 non-null  int64  \n",
            "dtypes: float64(3), int64(3), object(15)\n",
            "memory usage: 28.4+ MB\n"
          ]
        }
      ],
      "source": [
        "#Change All Null Values in 'Data_Value_Footnote' Column into 'No Data Available'\n",
        "\n",
        "Health_data['Data_Value_Footnote'].fillna('No Data Available', inplace=True)\n",
        "\n",
        "#Change All Null Values in 'Data_Value_Footnote_Symbol' Column into '~'\n",
        "\n",
        "Health_data['Data_Value_Footnote_Symbol'].fillna('~', inplace = True)\n",
        "Health_data.info()"
      ]
    },
    {
      "cell_type": "code",
      "execution_count": 26,
      "metadata": {
        "colab": {
          "base_uri": "https://localhost:8080/"
        },
        "id": "gNr1DawvApSK",
        "outputId": "6bea1362-b156-4317-b344-4793fa848bcf"
      },
      "outputs": [
        {
          "output_type": "stream",
          "name": "stdout",
          "text": [
            "<class 'pandas.core.frame.DataFrame'>\n",
            "Int64Index: 169302 entries, 0 to 250935\n",
            "Data columns (total 21 columns):\n",
            " #   Column                      Non-Null Count   Dtype  \n",
            "---  ------                      --------------   -----  \n",
            " 0   YearStart                   169302 non-null  int64  \n",
            " 1   YearEnd                     169302 non-null  int64  \n",
            " 2   LocationAbbr                169302 non-null  object \n",
            " 3   LocationDesc                169302 non-null  object \n",
            " 4   Class                       169302 non-null  object \n",
            " 5   Topic                       169302 non-null  object \n",
            " 6   Question                    169302 non-null  object \n",
            " 7   Data_Value_Unit             169302 non-null  object \n",
            " 8   DataValueTypeID             169302 non-null  object \n",
            " 9   Data_Value                  169302 non-null  float64\n",
            " 10  Data_Value_Footnote_Symbol  169302 non-null  object \n",
            " 11  Data_Value_Footnote         169302 non-null  object \n",
            " 12  Low_Confidence_Limit        169126 non-null  float64\n",
            " 13  High_Confidence_Limit       169126 non-null  float64\n",
            " 14  Stratification1             169302 non-null  object \n",
            " 15  Stratification2             169302 non-null  object \n",
            " 16  Geolocation                 169302 non-null  object \n",
            " 17  ClassID                     169302 non-null  object \n",
            " 18  TopicID                     169302 non-null  object \n",
            " 19  QuestionID                  169302 non-null  object \n",
            " 20  LocationID                  169302 non-null  int64  \n",
            "dtypes: float64(3), int64(3), object(15)\n",
            "memory usage: 28.4+ MB\n"
          ]
        }
      ],
      "source": [
        "#Change All Null Values in 'Stratification2' Column into 'Unknown'\n",
        "\n",
        "Health_data['Stratification2'].fillna('Unknown', inplace = True)\n",
        "\n",
        "#Change All Null Values in 'Geolocation' Column into 'Unknown'\n",
        "Health_data['Geolocation'].fillna('0', inplace = True)\n",
        "Health_data.info()"
      ]
    },
    {
      "cell_type": "code",
      "execution_count": 27,
      "metadata": {
        "id": "snOI-3wECEU5"
      },
      "outputs": [],
      "source": [
        "pd.set_option('display.max_rows', None)\n",
        "#Health_data[Health_data['Low_Confidence_Limit'].isnull()][['Geolocation', 'Low_Confidence_Limit', 'High_Confidence_Limit']]"
      ]
    },
    {
      "cell_type": "code",
      "execution_count": 28,
      "metadata": {
        "colab": {
          "base_uri": "https://localhost:8080/"
        },
        "id": "0R94GMRMCVYz",
        "outputId": "1c96bb01-5e8c-4231-f294-c52baaa93926"
      },
      "outputs": [
        {
          "output_type": "stream",
          "name": "stdout",
          "text": [
            "<class 'pandas.core.frame.DataFrame'>\n",
            "Int64Index: 169126 entries, 0 to 250935\n",
            "Data columns (total 21 columns):\n",
            " #   Column                      Non-Null Count   Dtype  \n",
            "---  ------                      --------------   -----  \n",
            " 0   YearStart                   169126 non-null  int64  \n",
            " 1   YearEnd                     169126 non-null  int64  \n",
            " 2   LocationAbbr                169126 non-null  object \n",
            " 3   LocationDesc                169126 non-null  object \n",
            " 4   Class                       169126 non-null  object \n",
            " 5   Topic                       169126 non-null  object \n",
            " 6   Question                    169126 non-null  object \n",
            " 7   Data_Value_Unit             169126 non-null  object \n",
            " 8   DataValueTypeID             169126 non-null  object \n",
            " 9   Data_Value                  169126 non-null  float64\n",
            " 10  Data_Value_Footnote_Symbol  169126 non-null  object \n",
            " 11  Data_Value_Footnote         169126 non-null  object \n",
            " 12  Low_Confidence_Limit        169126 non-null  float64\n",
            " 13  High_Confidence_Limit       169126 non-null  float64\n",
            " 14  Stratification1             169126 non-null  object \n",
            " 15  Stratification2             169126 non-null  object \n",
            " 16  Geolocation                 169126 non-null  object \n",
            " 17  ClassID                     169126 non-null  object \n",
            " 18  TopicID                     169126 non-null  object \n",
            " 19  QuestionID                  169126 non-null  object \n",
            " 20  LocationID                  169126 non-null  int64  \n",
            "dtypes: float64(3), int64(3), object(15)\n",
            "memory usage: 28.4+ MB\n"
          ]
        }
      ],
      "source": [
        "#Drop more rows with null same null values\n",
        "Health_data = Health_data.dropna(subset=['Low_Confidence_Limit'])\n",
        "Health_data.info()"
      ]
    },
    {
      "cell_type": "markdown",
      "metadata": {
        "id": "WakqUW_yHtP5"
      },
      "source": [
        "All Null values have been taken care of.\n",
        "Because number of Non - Null values in all columns are the same."
      ]
    },
    {
      "cell_type": "code",
      "execution_count": 29,
      "metadata": {
        "colab": {
          "base_uri": "https://localhost:8080/"
        },
        "id": "IgGdkdO6DHhY",
        "outputId": "281b6054-666b-4fa6-afc9-1510dae924a1"
      },
      "outputs": [
        {
          "output_type": "stream",
          "name": "stdout",
          "text": [
            "<class 'pandas.core.frame.DataFrame'>\n",
            "Int64Index: 169126 entries, 0 to 250935\n",
            "Data columns (total 21 columns):\n",
            " #   Column                      Non-Null Count   Dtype  \n",
            "---  ------                      --------------   -----  \n",
            " 0   YearStart                   169126 non-null  int64  \n",
            " 1   YearEnd                     169126 non-null  int64  \n",
            " 2   LocationAbbr                169126 non-null  object \n",
            " 3   LocationDesc                169126 non-null  object \n",
            " 4   Class                       169126 non-null  object \n",
            " 5   Topic                       169126 non-null  object \n",
            " 6   Question                    169126 non-null  object \n",
            " 7   Data_Value_Unit             169126 non-null  object \n",
            " 8   DataValueTypeID             169126 non-null  object \n",
            " 9   Data_Value                  169126 non-null  float64\n",
            " 10  Data_Value_Footnote_Symbol  169126 non-null  object \n",
            " 11  Data_Value_Footnote         169126 non-null  object \n",
            " 12  Low_Confidence_Limit        169126 non-null  float64\n",
            " 13  High_Confidence_Limit       169126 non-null  float64\n",
            " 14  Age Group                   169126 non-null  object \n",
            " 15  Race/Gender                 169126 non-null  object \n",
            " 16  Geolocation                 169126 non-null  object \n",
            " 17  ClassID                     169126 non-null  object \n",
            " 18  TopicID                     169126 non-null  object \n",
            " 19  QuestionID                  169126 non-null  object \n",
            " 20  LocationID                  169126 non-null  int64  \n",
            "dtypes: float64(3), int64(3), object(15)\n",
            "memory usage: 28.4+ MB\n"
          ]
        }
      ],
      "source": [
        "#Change relevant column names and simplify values\n",
        "\n",
        "#simplify values of stratification1\n",
        "Health_data['Stratification1'] = Health_data['Stratification1'].replace(['50-64 years', '65 years or older'], ['50-64', '65+'])\n",
        "#change column names\n",
        "Health_data.rename(columns={'Stratification1': 'Age Group'}, inplace=True)\n",
        "Health_data.rename(columns={'Stratification2': 'Race/Gender'}, inplace=True)\n",
        "#check info and confirm\n",
        "Health_data.info()"
      ]
    },
    {
      "cell_type": "code",
      "execution_count": 30,
      "metadata": {
        "colab": {
          "base_uri": "https://localhost:8080/",
          "height": 529
        },
        "id": "jawoW9xSQ94b",
        "outputId": "e997200a-9bb6-46e9-cc76-2c0b4f857701"
      },
      "outputs": [
        {
          "output_type": "execute_result",
          "data": {
            "text/plain": [
              "   YearStart  YearEnd LocationAbbr LocationDesc           Class  \\\n",
              "0       2015     2015          SOU        South  Overall Health   \n",
              "1       2021     2021           AL      Alabama   Mental Health   \n",
              "2       2021     2021           OR       Oregon   Mental Health   \n",
              "3       2021     2021           NE     Nebraska   Mental Health   \n",
              "\n",
              "                              Topic  \\\n",
              "0      Arthritis among older adults   \n",
              "1          Frequent mental distress   \n",
              "2  Lifetime diagnosis of depression   \n",
              "3  Lifetime diagnosis of depression   \n",
              "\n",
              "                                            Question Data_Value_Unit  \\\n",
              "0  Percentage of older adults ever told they have...               %   \n",
              "1  Percentage of older adults who are experiencin...               %   \n",
              "2  Percentage of older adults with a lifetime dia...               %   \n",
              "3  Percentage of older adults with a lifetime dia...               %   \n",
              "\n",
              "  DataValueTypeID  Data_Value  ... Data_Value_Footnote Low_Confidence_Limit  \\\n",
              "0           PRCTG        36.8  ...   No Data Available                 35.9   \n",
              "1           PRCTG        15.5  ...   No Data Available                 13.4   \n",
              "2           PRCTG        23.5  ...   No Data Available                 16.0   \n",
              "3           PRCTG        13.6  ...   No Data Available                 12.6   \n",
              "\n",
              "   High_Confidence_Limit  Age Group Race/Gender  \\\n",
              "0                   37.7      50-64     Unknown   \n",
              "1                   17.9    Overall      Female   \n",
              "2                   33.2    Overall    Hispanic   \n",
              "3                   14.6    Overall     Unknown   \n",
              "\n",
              "                                     Geolocation ClassID TopicID QuestionID  \\\n",
              "0                                              0     C01   TOC11        Q43   \n",
              "1   POINT (-86.63186076199969 32.84057112200048)     C05   TMC01        Q03   \n",
              "2  POINT (-120.15503132599969 44.56744942400047)     C05   TMC03        Q27   \n",
              "3    POINT (-99.36572062299967 41.6410409880005)     C05   TMC03        Q27   \n",
              "\n",
              "  LocationID  \n",
              "0       9003  \n",
              "1          1  \n",
              "2         41  \n",
              "3         31  \n",
              "\n",
              "[4 rows x 21 columns]"
            ],
            "text/html": [
              "\n",
              "\n",
              "  <div id=\"df-a1a0f726-806d-4468-acc3-49534ec72215\">\n",
              "    <div class=\"colab-df-container\">\n",
              "      <div>\n",
              "<style scoped>\n",
              "    .dataframe tbody tr th:only-of-type {\n",
              "        vertical-align: middle;\n",
              "    }\n",
              "\n",
              "    .dataframe tbody tr th {\n",
              "        vertical-align: top;\n",
              "    }\n",
              "\n",
              "    .dataframe thead th {\n",
              "        text-align: right;\n",
              "    }\n",
              "</style>\n",
              "<table border=\"1\" class=\"dataframe\">\n",
              "  <thead>\n",
              "    <tr style=\"text-align: right;\">\n",
              "      <th></th>\n",
              "      <th>YearStart</th>\n",
              "      <th>YearEnd</th>\n",
              "      <th>LocationAbbr</th>\n",
              "      <th>LocationDesc</th>\n",
              "      <th>Class</th>\n",
              "      <th>Topic</th>\n",
              "      <th>Question</th>\n",
              "      <th>Data_Value_Unit</th>\n",
              "      <th>DataValueTypeID</th>\n",
              "      <th>Data_Value</th>\n",
              "      <th>...</th>\n",
              "      <th>Data_Value_Footnote</th>\n",
              "      <th>Low_Confidence_Limit</th>\n",
              "      <th>High_Confidence_Limit</th>\n",
              "      <th>Age Group</th>\n",
              "      <th>Race/Gender</th>\n",
              "      <th>Geolocation</th>\n",
              "      <th>ClassID</th>\n",
              "      <th>TopicID</th>\n",
              "      <th>QuestionID</th>\n",
              "      <th>LocationID</th>\n",
              "    </tr>\n",
              "  </thead>\n",
              "  <tbody>\n",
              "    <tr>\n",
              "      <th>0</th>\n",
              "      <td>2015</td>\n",
              "      <td>2015</td>\n",
              "      <td>SOU</td>\n",
              "      <td>South</td>\n",
              "      <td>Overall Health</td>\n",
              "      <td>Arthritis among older adults</td>\n",
              "      <td>Percentage of older adults ever told they have...</td>\n",
              "      <td>%</td>\n",
              "      <td>PRCTG</td>\n",
              "      <td>36.8</td>\n",
              "      <td>...</td>\n",
              "      <td>No Data Available</td>\n",
              "      <td>35.9</td>\n",
              "      <td>37.7</td>\n",
              "      <td>50-64</td>\n",
              "      <td>Unknown</td>\n",
              "      <td>0</td>\n",
              "      <td>C01</td>\n",
              "      <td>TOC11</td>\n",
              "      <td>Q43</td>\n",
              "      <td>9003</td>\n",
              "    </tr>\n",
              "    <tr>\n",
              "      <th>1</th>\n",
              "      <td>2021</td>\n",
              "      <td>2021</td>\n",
              "      <td>AL</td>\n",
              "      <td>Alabama</td>\n",
              "      <td>Mental Health</td>\n",
              "      <td>Frequent mental distress</td>\n",
              "      <td>Percentage of older adults who are experiencin...</td>\n",
              "      <td>%</td>\n",
              "      <td>PRCTG</td>\n",
              "      <td>15.5</td>\n",
              "      <td>...</td>\n",
              "      <td>No Data Available</td>\n",
              "      <td>13.4</td>\n",
              "      <td>17.9</td>\n",
              "      <td>Overall</td>\n",
              "      <td>Female</td>\n",
              "      <td>POINT (-86.63186076199969 32.84057112200048)</td>\n",
              "      <td>C05</td>\n",
              "      <td>TMC01</td>\n",
              "      <td>Q03</td>\n",
              "      <td>1</td>\n",
              "    </tr>\n",
              "    <tr>\n",
              "      <th>2</th>\n",
              "      <td>2021</td>\n",
              "      <td>2021</td>\n",
              "      <td>OR</td>\n",
              "      <td>Oregon</td>\n",
              "      <td>Mental Health</td>\n",
              "      <td>Lifetime diagnosis of depression</td>\n",
              "      <td>Percentage of older adults with a lifetime dia...</td>\n",
              "      <td>%</td>\n",
              "      <td>PRCTG</td>\n",
              "      <td>23.5</td>\n",
              "      <td>...</td>\n",
              "      <td>No Data Available</td>\n",
              "      <td>16.0</td>\n",
              "      <td>33.2</td>\n",
              "      <td>Overall</td>\n",
              "      <td>Hispanic</td>\n",
              "      <td>POINT (-120.15503132599969 44.56744942400047)</td>\n",
              "      <td>C05</td>\n",
              "      <td>TMC03</td>\n",
              "      <td>Q27</td>\n",
              "      <td>41</td>\n",
              "    </tr>\n",
              "    <tr>\n",
              "      <th>3</th>\n",
              "      <td>2021</td>\n",
              "      <td>2021</td>\n",
              "      <td>NE</td>\n",
              "      <td>Nebraska</td>\n",
              "      <td>Mental Health</td>\n",
              "      <td>Lifetime diagnosis of depression</td>\n",
              "      <td>Percentage of older adults with a lifetime dia...</td>\n",
              "      <td>%</td>\n",
              "      <td>PRCTG</td>\n",
              "      <td>13.6</td>\n",
              "      <td>...</td>\n",
              "      <td>No Data Available</td>\n",
              "      <td>12.6</td>\n",
              "      <td>14.6</td>\n",
              "      <td>Overall</td>\n",
              "      <td>Unknown</td>\n",
              "      <td>POINT (-99.36572062299967 41.6410409880005)</td>\n",
              "      <td>C05</td>\n",
              "      <td>TMC03</td>\n",
              "      <td>Q27</td>\n",
              "      <td>31</td>\n",
              "    </tr>\n",
              "  </tbody>\n",
              "</table>\n",
              "<p>4 rows × 21 columns</p>\n",
              "</div>\n",
              "      <button class=\"colab-df-convert\" onclick=\"convertToInteractive('df-a1a0f726-806d-4468-acc3-49534ec72215')\"\n",
              "              title=\"Convert this dataframe to an interactive table.\"\n",
              "              style=\"display:none;\">\n",
              "\n",
              "  <svg xmlns=\"http://www.w3.org/2000/svg\" height=\"24px\"viewBox=\"0 0 24 24\"\n",
              "       width=\"24px\">\n",
              "    <path d=\"M0 0h24v24H0V0z\" fill=\"none\"/>\n",
              "    <path d=\"M18.56 5.44l.94 2.06.94-2.06 2.06-.94-2.06-.94-.94-2.06-.94 2.06-2.06.94zm-11 1L8.5 8.5l.94-2.06 2.06-.94-2.06-.94L8.5 2.5l-.94 2.06-2.06.94zm10 10l.94 2.06.94-2.06 2.06-.94-2.06-.94-.94-2.06-.94 2.06-2.06.94z\"/><path d=\"M17.41 7.96l-1.37-1.37c-.4-.4-.92-.59-1.43-.59-.52 0-1.04.2-1.43.59L10.3 9.45l-7.72 7.72c-.78.78-.78 2.05 0 2.83L4 21.41c.39.39.9.59 1.41.59.51 0 1.02-.2 1.41-.59l7.78-7.78 2.81-2.81c.8-.78.8-2.07 0-2.86zM5.41 20L4 18.59l7.72-7.72 1.47 1.35L5.41 20z\"/>\n",
              "  </svg>\n",
              "      </button>\n",
              "\n",
              "\n",
              "\n",
              "    <div id=\"df-2bbea658-271b-4386-a714-4c3594be8f17\">\n",
              "      <button class=\"colab-df-quickchart\" onclick=\"quickchart('df-2bbea658-271b-4386-a714-4c3594be8f17')\"\n",
              "              title=\"Suggest charts.\"\n",
              "              style=\"display:none;\">\n",
              "\n",
              "<svg xmlns=\"http://www.w3.org/2000/svg\" height=\"24px\"viewBox=\"0 0 24 24\"\n",
              "     width=\"24px\">\n",
              "    <g>\n",
              "        <path d=\"M19 3H5c-1.1 0-2 .9-2 2v14c0 1.1.9 2 2 2h14c1.1 0 2-.9 2-2V5c0-1.1-.9-2-2-2zM9 17H7v-7h2v7zm4 0h-2V7h2v10zm4 0h-2v-4h2v4z\"/>\n",
              "    </g>\n",
              "</svg>\n",
              "      </button>\n",
              "    </div>\n",
              "\n",
              "<style>\n",
              "  .colab-df-quickchart {\n",
              "    background-color: #E8F0FE;\n",
              "    border: none;\n",
              "    border-radius: 50%;\n",
              "    cursor: pointer;\n",
              "    display: none;\n",
              "    fill: #1967D2;\n",
              "    height: 32px;\n",
              "    padding: 0 0 0 0;\n",
              "    width: 32px;\n",
              "  }\n",
              "\n",
              "  .colab-df-quickchart:hover {\n",
              "    background-color: #E2EBFA;\n",
              "    box-shadow: 0px 1px 2px rgba(60, 64, 67, 0.3), 0px 1px 3px 1px rgba(60, 64, 67, 0.15);\n",
              "    fill: #174EA6;\n",
              "  }\n",
              "\n",
              "  [theme=dark] .colab-df-quickchart {\n",
              "    background-color: #3B4455;\n",
              "    fill: #D2E3FC;\n",
              "  }\n",
              "\n",
              "  [theme=dark] .colab-df-quickchart:hover {\n",
              "    background-color: #434B5C;\n",
              "    box-shadow: 0px 1px 3px 1px rgba(0, 0, 0, 0.15);\n",
              "    filter: drop-shadow(0px 1px 2px rgba(0, 0, 0, 0.3));\n",
              "    fill: #FFFFFF;\n",
              "  }\n",
              "</style>\n",
              "\n",
              "    <script>\n",
              "      async function quickchart(key) {\n",
              "        const containerElement = document.querySelector('#' + key);\n",
              "        const charts = await google.colab.kernel.invokeFunction(\n",
              "            'suggestCharts', [key], {});\n",
              "      }\n",
              "    </script>\n",
              "\n",
              "      <script>\n",
              "\n",
              "function displayQuickchartButton(domScope) {\n",
              "  let quickchartButtonEl =\n",
              "    domScope.querySelector('#df-2bbea658-271b-4386-a714-4c3594be8f17 button.colab-df-quickchart');\n",
              "  quickchartButtonEl.style.display =\n",
              "    google.colab.kernel.accessAllowed ? 'block' : 'none';\n",
              "}\n",
              "\n",
              "        displayQuickchartButton(document);\n",
              "      </script>\n",
              "      <style>\n",
              "    .colab-df-container {\n",
              "      display:flex;\n",
              "      flex-wrap:wrap;\n",
              "      gap: 12px;\n",
              "    }\n",
              "\n",
              "    .colab-df-convert {\n",
              "      background-color: #E8F0FE;\n",
              "      border: none;\n",
              "      border-radius: 50%;\n",
              "      cursor: pointer;\n",
              "      display: none;\n",
              "      fill: #1967D2;\n",
              "      height: 32px;\n",
              "      padding: 0 0 0 0;\n",
              "      width: 32px;\n",
              "    }\n",
              "\n",
              "    .colab-df-convert:hover {\n",
              "      background-color: #E2EBFA;\n",
              "      box-shadow: 0px 1px 2px rgba(60, 64, 67, 0.3), 0px 1px 3px 1px rgba(60, 64, 67, 0.15);\n",
              "      fill: #174EA6;\n",
              "    }\n",
              "\n",
              "    [theme=dark] .colab-df-convert {\n",
              "      background-color: #3B4455;\n",
              "      fill: #D2E3FC;\n",
              "    }\n",
              "\n",
              "    [theme=dark] .colab-df-convert:hover {\n",
              "      background-color: #434B5C;\n",
              "      box-shadow: 0px 1px 3px 1px rgba(0, 0, 0, 0.15);\n",
              "      filter: drop-shadow(0px 1px 2px rgba(0, 0, 0, 0.3));\n",
              "      fill: #FFFFFF;\n",
              "    }\n",
              "  </style>\n",
              "\n",
              "      <script>\n",
              "        const buttonEl =\n",
              "          document.querySelector('#df-a1a0f726-806d-4468-acc3-49534ec72215 button.colab-df-convert');\n",
              "        buttonEl.style.display =\n",
              "          google.colab.kernel.accessAllowed ? 'block' : 'none';\n",
              "\n",
              "        async function convertToInteractive(key) {\n",
              "          const element = document.querySelector('#df-a1a0f726-806d-4468-acc3-49534ec72215');\n",
              "          const dataTable =\n",
              "            await google.colab.kernel.invokeFunction('convertToInteractive',\n",
              "                                                     [key], {});\n",
              "          if (!dataTable) return;\n",
              "\n",
              "          const docLinkHtml = 'Like what you see? Visit the ' +\n",
              "            '<a target=\"_blank\" href=https://colab.research.google.com/notebooks/data_table.ipynb>data table notebook</a>'\n",
              "            + ' to learn more about interactive tables.';\n",
              "          element.innerHTML = '';\n",
              "          dataTable['output_type'] = 'display_data';\n",
              "          await google.colab.output.renderOutput(dataTable, element);\n",
              "          const docLink = document.createElement('div');\n",
              "          docLink.innerHTML = docLinkHtml;\n",
              "          element.appendChild(docLink);\n",
              "        }\n",
              "      </script>\n",
              "    </div>\n",
              "  </div>\n"
            ]
          },
          "metadata": {},
          "execution_count": 30
        }
      ],
      "source": [
        "#View changes made in column and investigate for more action\n",
        "Health_data.head(4)"
      ]
    },
    {
      "cell_type": "code",
      "execution_count": 31,
      "metadata": {
        "colab": {
          "base_uri": "https://localhost:8080/",
          "height": 175
        },
        "id": "yOsTNyEiUFm0",
        "outputId": "7d1c06b1-54b8-40be-d96b-828e296f5dcb"
      },
      "outputs": [
        {
          "output_type": "execute_result",
          "data": {
            "text/plain": [
              "   YearStart  YearEnd           Class Data_Value_Unit  Data_Value  \\\n",
              "0       2015     2015  Overall Health               %        36.8   \n",
              "1       2021     2021   Mental Health               %        15.5   \n",
              "2       2021     2021   Mental Health               %        23.5   \n",
              "3       2021     2021   Mental Health               %        13.6   \n",
              "\n",
              "   Low_Confidence_Limit  High_Confidence_Limit Age Group Race/Gender ClassID  \\\n",
              "0                  35.9                   37.7     50-64     Unknown     C01   \n",
              "1                  13.4                   17.9   Overall      Female     C05   \n",
              "2                  16.0                   33.2   Overall    Hispanic     C05   \n",
              "3                  12.6                   14.6   Overall     Unknown     C05   \n",
              "\n",
              "  TopicID QuestionID  LocationID  \n",
              "0   TOC11        Q43        9003  \n",
              "1   TMC01        Q03           1  \n",
              "2   TMC03        Q27          41  \n",
              "3   TMC03        Q27          31  "
            ],
            "text/html": [
              "\n",
              "\n",
              "  <div id=\"df-56791db2-5c8b-407a-96bc-418dc7065696\">\n",
              "    <div class=\"colab-df-container\">\n",
              "      <div>\n",
              "<style scoped>\n",
              "    .dataframe tbody tr th:only-of-type {\n",
              "        vertical-align: middle;\n",
              "    }\n",
              "\n",
              "    .dataframe tbody tr th {\n",
              "        vertical-align: top;\n",
              "    }\n",
              "\n",
              "    .dataframe thead th {\n",
              "        text-align: right;\n",
              "    }\n",
              "</style>\n",
              "<table border=\"1\" class=\"dataframe\">\n",
              "  <thead>\n",
              "    <tr style=\"text-align: right;\">\n",
              "      <th></th>\n",
              "      <th>YearStart</th>\n",
              "      <th>YearEnd</th>\n",
              "      <th>Class</th>\n",
              "      <th>Data_Value_Unit</th>\n",
              "      <th>Data_Value</th>\n",
              "      <th>Low_Confidence_Limit</th>\n",
              "      <th>High_Confidence_Limit</th>\n",
              "      <th>Age Group</th>\n",
              "      <th>Race/Gender</th>\n",
              "      <th>ClassID</th>\n",
              "      <th>TopicID</th>\n",
              "      <th>QuestionID</th>\n",
              "      <th>LocationID</th>\n",
              "    </tr>\n",
              "  </thead>\n",
              "  <tbody>\n",
              "    <tr>\n",
              "      <th>0</th>\n",
              "      <td>2015</td>\n",
              "      <td>2015</td>\n",
              "      <td>Overall Health</td>\n",
              "      <td>%</td>\n",
              "      <td>36.8</td>\n",
              "      <td>35.9</td>\n",
              "      <td>37.7</td>\n",
              "      <td>50-64</td>\n",
              "      <td>Unknown</td>\n",
              "      <td>C01</td>\n",
              "      <td>TOC11</td>\n",
              "      <td>Q43</td>\n",
              "      <td>9003</td>\n",
              "    </tr>\n",
              "    <tr>\n",
              "      <th>1</th>\n",
              "      <td>2021</td>\n",
              "      <td>2021</td>\n",
              "      <td>Mental Health</td>\n",
              "      <td>%</td>\n",
              "      <td>15.5</td>\n",
              "      <td>13.4</td>\n",
              "      <td>17.9</td>\n",
              "      <td>Overall</td>\n",
              "      <td>Female</td>\n",
              "      <td>C05</td>\n",
              "      <td>TMC01</td>\n",
              "      <td>Q03</td>\n",
              "      <td>1</td>\n",
              "    </tr>\n",
              "    <tr>\n",
              "      <th>2</th>\n",
              "      <td>2021</td>\n",
              "      <td>2021</td>\n",
              "      <td>Mental Health</td>\n",
              "      <td>%</td>\n",
              "      <td>23.5</td>\n",
              "      <td>16.0</td>\n",
              "      <td>33.2</td>\n",
              "      <td>Overall</td>\n",
              "      <td>Hispanic</td>\n",
              "      <td>C05</td>\n",
              "      <td>TMC03</td>\n",
              "      <td>Q27</td>\n",
              "      <td>41</td>\n",
              "    </tr>\n",
              "    <tr>\n",
              "      <th>3</th>\n",
              "      <td>2021</td>\n",
              "      <td>2021</td>\n",
              "      <td>Mental Health</td>\n",
              "      <td>%</td>\n",
              "      <td>13.6</td>\n",
              "      <td>12.6</td>\n",
              "      <td>14.6</td>\n",
              "      <td>Overall</td>\n",
              "      <td>Unknown</td>\n",
              "      <td>C05</td>\n",
              "      <td>TMC03</td>\n",
              "      <td>Q27</td>\n",
              "      <td>31</td>\n",
              "    </tr>\n",
              "  </tbody>\n",
              "</table>\n",
              "</div>\n",
              "      <button class=\"colab-df-convert\" onclick=\"convertToInteractive('df-56791db2-5c8b-407a-96bc-418dc7065696')\"\n",
              "              title=\"Convert this dataframe to an interactive table.\"\n",
              "              style=\"display:none;\">\n",
              "\n",
              "  <svg xmlns=\"http://www.w3.org/2000/svg\" height=\"24px\"viewBox=\"0 0 24 24\"\n",
              "       width=\"24px\">\n",
              "    <path d=\"M0 0h24v24H0V0z\" fill=\"none\"/>\n",
              "    <path d=\"M18.56 5.44l.94 2.06.94-2.06 2.06-.94-2.06-.94-.94-2.06-.94 2.06-2.06.94zm-11 1L8.5 8.5l.94-2.06 2.06-.94-2.06-.94L8.5 2.5l-.94 2.06-2.06.94zm10 10l.94 2.06.94-2.06 2.06-.94-2.06-.94-.94-2.06-.94 2.06-2.06.94z\"/><path d=\"M17.41 7.96l-1.37-1.37c-.4-.4-.92-.59-1.43-.59-.52 0-1.04.2-1.43.59L10.3 9.45l-7.72 7.72c-.78.78-.78 2.05 0 2.83L4 21.41c.39.39.9.59 1.41.59.51 0 1.02-.2 1.41-.59l7.78-7.78 2.81-2.81c.8-.78.8-2.07 0-2.86zM5.41 20L4 18.59l7.72-7.72 1.47 1.35L5.41 20z\"/>\n",
              "  </svg>\n",
              "      </button>\n",
              "\n",
              "\n",
              "\n",
              "    <div id=\"df-b0857d41-8ccd-4ae2-8668-abefea3ae70c\">\n",
              "      <button class=\"colab-df-quickchart\" onclick=\"quickchart('df-b0857d41-8ccd-4ae2-8668-abefea3ae70c')\"\n",
              "              title=\"Suggest charts.\"\n",
              "              style=\"display:none;\">\n",
              "\n",
              "<svg xmlns=\"http://www.w3.org/2000/svg\" height=\"24px\"viewBox=\"0 0 24 24\"\n",
              "     width=\"24px\">\n",
              "    <g>\n",
              "        <path d=\"M19 3H5c-1.1 0-2 .9-2 2v14c0 1.1.9 2 2 2h14c1.1 0 2-.9 2-2V5c0-1.1-.9-2-2-2zM9 17H7v-7h2v7zm4 0h-2V7h2v10zm4 0h-2v-4h2v4z\"/>\n",
              "    </g>\n",
              "</svg>\n",
              "      </button>\n",
              "    </div>\n",
              "\n",
              "<style>\n",
              "  .colab-df-quickchart {\n",
              "    background-color: #E8F0FE;\n",
              "    border: none;\n",
              "    border-radius: 50%;\n",
              "    cursor: pointer;\n",
              "    display: none;\n",
              "    fill: #1967D2;\n",
              "    height: 32px;\n",
              "    padding: 0 0 0 0;\n",
              "    width: 32px;\n",
              "  }\n",
              "\n",
              "  .colab-df-quickchart:hover {\n",
              "    background-color: #E2EBFA;\n",
              "    box-shadow: 0px 1px 2px rgba(60, 64, 67, 0.3), 0px 1px 3px 1px rgba(60, 64, 67, 0.15);\n",
              "    fill: #174EA6;\n",
              "  }\n",
              "\n",
              "  [theme=dark] .colab-df-quickchart {\n",
              "    background-color: #3B4455;\n",
              "    fill: #D2E3FC;\n",
              "  }\n",
              "\n",
              "  [theme=dark] .colab-df-quickchart:hover {\n",
              "    background-color: #434B5C;\n",
              "    box-shadow: 0px 1px 3px 1px rgba(0, 0, 0, 0.15);\n",
              "    filter: drop-shadow(0px 1px 2px rgba(0, 0, 0, 0.3));\n",
              "    fill: #FFFFFF;\n",
              "  }\n",
              "</style>\n",
              "\n",
              "    <script>\n",
              "      async function quickchart(key) {\n",
              "        const containerElement = document.querySelector('#' + key);\n",
              "        const charts = await google.colab.kernel.invokeFunction(\n",
              "            'suggestCharts', [key], {});\n",
              "      }\n",
              "    </script>\n",
              "\n",
              "      <script>\n",
              "\n",
              "function displayQuickchartButton(domScope) {\n",
              "  let quickchartButtonEl =\n",
              "    domScope.querySelector('#df-b0857d41-8ccd-4ae2-8668-abefea3ae70c button.colab-df-quickchart');\n",
              "  quickchartButtonEl.style.display =\n",
              "    google.colab.kernel.accessAllowed ? 'block' : 'none';\n",
              "}\n",
              "\n",
              "        displayQuickchartButton(document);\n",
              "      </script>\n",
              "      <style>\n",
              "    .colab-df-container {\n",
              "      display:flex;\n",
              "      flex-wrap:wrap;\n",
              "      gap: 12px;\n",
              "    }\n",
              "\n",
              "    .colab-df-convert {\n",
              "      background-color: #E8F0FE;\n",
              "      border: none;\n",
              "      border-radius: 50%;\n",
              "      cursor: pointer;\n",
              "      display: none;\n",
              "      fill: #1967D2;\n",
              "      height: 32px;\n",
              "      padding: 0 0 0 0;\n",
              "      width: 32px;\n",
              "    }\n",
              "\n",
              "    .colab-df-convert:hover {\n",
              "      background-color: #E2EBFA;\n",
              "      box-shadow: 0px 1px 2px rgba(60, 64, 67, 0.3), 0px 1px 3px 1px rgba(60, 64, 67, 0.15);\n",
              "      fill: #174EA6;\n",
              "    }\n",
              "\n",
              "    [theme=dark] .colab-df-convert {\n",
              "      background-color: #3B4455;\n",
              "      fill: #D2E3FC;\n",
              "    }\n",
              "\n",
              "    [theme=dark] .colab-df-convert:hover {\n",
              "      background-color: #434B5C;\n",
              "      box-shadow: 0px 1px 3px 1px rgba(0, 0, 0, 0.15);\n",
              "      filter: drop-shadow(0px 1px 2px rgba(0, 0, 0, 0.3));\n",
              "      fill: #FFFFFF;\n",
              "    }\n",
              "  </style>\n",
              "\n",
              "      <script>\n",
              "        const buttonEl =\n",
              "          document.querySelector('#df-56791db2-5c8b-407a-96bc-418dc7065696 button.colab-df-convert');\n",
              "        buttonEl.style.display =\n",
              "          google.colab.kernel.accessAllowed ? 'block' : 'none';\n",
              "\n",
              "        async function convertToInteractive(key) {\n",
              "          const element = document.querySelector('#df-56791db2-5c8b-407a-96bc-418dc7065696');\n",
              "          const dataTable =\n",
              "            await google.colab.kernel.invokeFunction('convertToInteractive',\n",
              "                                                     [key], {});\n",
              "          if (!dataTable) return;\n",
              "\n",
              "          const docLinkHtml = 'Like what you see? Visit the ' +\n",
              "            '<a target=\"_blank\" href=https://colab.research.google.com/notebooks/data_table.ipynb>data table notebook</a>'\n",
              "            + ' to learn more about interactive tables.';\n",
              "          element.innerHTML = '';\n",
              "          dataTable['output_type'] = 'display_data';\n",
              "          await google.colab.output.renderOutput(dataTable, element);\n",
              "          const docLink = document.createElement('div');\n",
              "          docLink.innerHTML = docLinkHtml;\n",
              "          element.appendChild(docLink);\n",
              "        }\n",
              "      </script>\n",
              "    </div>\n",
              "  </div>\n"
            ]
          },
          "metadata": {},
          "execution_count": 31
        }
      ],
      "source": [
        "#drppping further unnecessary columns\n",
        "Drop_cols = ['LocationAbbr','LocationDesc','Topic','DataValueTypeID','Data_Value_Footnote','Geolocation','Question','Data_Value_Footnote_Symbol']\n",
        "Health_data.drop(Drop_cols, axis=1, inplace=True)\n",
        "Health_data.head(4)"
      ]
    },
    {
      "cell_type": "code",
      "execution_count": 32,
      "metadata": {
        "colab": {
          "base_uri": "https://localhost:8080/"
        },
        "id": "tf6itnGkR2R8",
        "outputId": "a0c8eb2f-f222-4c0a-a100-1c87ce7ed0a1"
      },
      "outputs": [
        {
          "output_type": "execute_result",
          "data": {
            "text/plain": [
              "(169126, 13)"
            ]
          },
          "metadata": {},
          "execution_count": 32
        }
      ],
      "source": [
        "#check how many columns left\n",
        "Health_data.shape"
      ]
    },
    {
      "cell_type": "code",
      "execution_count": 33,
      "metadata": {
        "id": "g4dy0ExOkEOA"
      },
      "outputs": [],
      "source": [
        "#rename age group and gender columns using rename method with a dictionary\n",
        "Health_data.rename(columns={'Age Group': 'Age_Group'}, inplace=True)\n",
        "Health_data.rename(columns={'Race/Gender': 'Race_Gender'}, inplace=True)\n",
        "\n"
      ]
    },
    {
      "cell_type": "markdown",
      "source": [
        "Class Variable is a catgorical variable\n",
        "We have to encode, with Label Encoder"
      ],
      "metadata": {
        "id": "Z4apPqOSwec1"
      }
    },
    {
      "cell_type": "code",
      "source": [
        "# Extract the target variable (class) from the dataset\n",
        "target = Health_data['Class']\n",
        "\n",
        "# Create a LabelEncoder object and fit it to the target variable\n",
        "labencoder = LabelEncoder()\n",
        "labencoder.fit(target)\n",
        "\n",
        "# Transform the target variable into numerical labels\n",
        "labels = labencoder.transform(target)\n",
        "\n",
        "# Print the unique class labels and their corresponding numerical labels\n",
        "for i, class_label in enumerate(labencoder.classes_):\n",
        "    print(f'{class_label}: {i}')\n",
        "\n",
        "# Replace the 'Class' column with the numerical labels obtained from LabelEncoder\n",
        "Health_data['Class'] = labels\n"
      ],
      "metadata": {
        "colab": {
          "base_uri": "https://localhost:8080/"
        },
        "id": "JjQBBSCjnWx9",
        "outputId": "5c880255-9fac-4aba-f8b6-0b71bc2d1d39"
      },
      "execution_count": 34,
      "outputs": [
        {
          "output_type": "stream",
          "name": "stdout",
          "text": [
            "Caregiving: 0\n",
            "Cognitive Decline: 1\n",
            "Mental Health: 2\n",
            "Nutrition/Physical Activity/Obesity: 3\n",
            "Overall Health: 4\n",
            "Screenings and Vaccines: 5\n",
            "Smoking and Alcohol Use: 6\n"
          ]
        }
      ]
    },
    {
      "cell_type": "code",
      "source": [
        "#view number of row and column of dataset\n",
        "Health_data.shape"
      ],
      "metadata": {
        "colab": {
          "base_uri": "https://localhost:8080/"
        },
        "id": "Tig9J4z7JHtF",
        "outputId": "02c459da-25c4-4135-c763-c9b110a890ce"
      },
      "execution_count": 35,
      "outputs": [
        {
          "output_type": "execute_result",
          "data": {
            "text/plain": [
              "(169126, 13)"
            ]
          },
          "metadata": {},
          "execution_count": 35
        }
      ]
    },
    {
      "cell_type": "markdown",
      "source": [
        "FEATURE ENGINEERING"
      ],
      "metadata": {
        "id": "UudShYhmx4EZ"
      }
    },
    {
      "cell_type": "markdown",
      "source": [
        "Manually Encoding Categorical Features"
      ],
      "metadata": {
        "id": "PuPfVWf-xsy2"
      }
    },
    {
      "cell_type": "code",
      "execution_count": 36,
      "metadata": {
        "id": "pkaqifTChC4u"
      },
      "outputs": [],
      "source": [
        "#Encode Age_Group Column\n",
        "Age_Group = {'50-64':0, 'Overall':1, '65+':2}\n",
        "Health_data['Age_Group'] = Health_data['Age_Group'].map(Age_Group)\n",
        "\n",
        "#Encode Race_Gender Column\n",
        "Race_Gender = {'Unknown':0,'Female':1, 'Hispanic':2, 'Male':3, 'White, non-Hispanic':4, 'Native Am/Alaskan Native':5, 'Black, non-Hispanic':6, 'Asian/Pacific Islander':7}\n",
        "Health_data['Race_Gender'] = Health_data['Race_Gender'].map(Race_Gender)\n",
        "\n",
        "#Encode ClassID column\n",
        "Health_data['ClassID'].unique()\n",
        "ClassID = {'C01':0, 'C05':1, 'C02':2, 'C07':3, 'C03':4, 'C04':5, 'C06':6}\n",
        "Health_data['ClassID'] = Health_data['ClassID'].map(ClassID)\n",
        "\n",
        "#Encode TopicID Column\n",
        "Health_data['TopicID'].unique()\n",
        "TopicID = {'TOC11':0, 'TMC01':1, 'TMC03':2, 'TOC03':3, 'TOC06':4, 'TNC02':5, 'TOC13':6,\n",
        "           'TGC04':7, 'TSC08':8, 'TOC07':9, 'TOC12':10, 'TOC01':11, 'TNC04':12, 'TOC09':13,\n",
        "           'TAC03':14, 'TNC01':15, 'TSC06':16, 'TSC09':17, 'TOC10':18, 'TOC04':19, 'TNC03':20,\n",
        "           'TGC03':21, 'TAC01':22, 'TCC02':23, 'TCC01':24, 'TOC08':25, 'TCC03':26, 'TSC07':27,\n",
        "           'TSC04':28, 'TCC04':29, 'TGC01':30, 'TGC05':31, 'TGC02':32, 'TOC05':33, 'TSC03':34,\n",
        "           'TSC02':35, 'TSC11':36, 'TSC10':37, 'TSC01':38}\n",
        "\n",
        "Health_data['TopicID'] = Health_data['TopicID'].map(TopicID)\n",
        "\n",
        "#Encode QuestionID column\n",
        "Health_data['QuestionID'].unique()\n",
        "\n",
        "QuestionID = {'Q43':0, 'Q03':1, 'Q27':2, 'Q35':3, 'Q05':4, 'Q02':5, 'Q45':6,\n",
        "           'Q39':7, 'Q18':8,'Q32':9, 'Q44':10, 'Q08':11, 'Q13':12, 'Q34':13,\n",
        "           'Q21':14, 'Q01':15,'Q14':16, 'Q09':17, 'Q46':18, 'Q04':19, 'Q16':20,\n",
        "           'Q38':21, 'Q17':22,'Q31':23, 'Q30':24, 'Q33':25, 'Q41':26, 'Q22':27,\n",
        "           'Q19':28, 'Q42':29,'Q36':30, 'Q40':31, 'Q37':32, 'Q07':33, 'Q20':34,\n",
        "           'Q15':35, 'Q11':36, 'Q10':37, 'Q12':38,}\n",
        "\n",
        "Health_data['QuestionID'] = Health_data['QuestionID'].map(QuestionID)\n",
        "\n"
      ]
    },
    {
      "cell_type": "code",
      "execution_count": 37,
      "metadata": {
        "colab": {
          "base_uri": "https://localhost:8080/",
          "height": 175
        },
        "id": "KgRHkC4z93UJ",
        "outputId": "850b0758-3cb3-4875-def5-7900c992545d"
      },
      "outputs": [
        {
          "output_type": "execute_result",
          "data": {
            "text/plain": [
              "   YearStart  YearEnd  Class Data_Value_Unit  Data_Value  \\\n",
              "0       2015     2015      4               %        36.8   \n",
              "1       2021     2021      2               %        15.5   \n",
              "2       2021     2021      2               %        23.5   \n",
              "3       2021     2021      2               %        13.6   \n",
              "\n",
              "   Low_Confidence_Limit  High_Confidence_Limit  Age_Group  Race_Gender  \\\n",
              "0                  35.9                   37.7          0            0   \n",
              "1                  13.4                   17.9          1            1   \n",
              "2                  16.0                   33.2          1            2   \n",
              "3                  12.6                   14.6          1            0   \n",
              "\n",
              "   ClassID  TopicID  QuestionID  LocationID  \n",
              "0        0        0           0        9003  \n",
              "1        1        1           1           1  \n",
              "2        1        2           2          41  \n",
              "3        1        2           2          31  "
            ],
            "text/html": [
              "\n",
              "\n",
              "  <div id=\"df-f5be60a2-a143-4f09-b0db-1d39721bcd88\">\n",
              "    <div class=\"colab-df-container\">\n",
              "      <div>\n",
              "<style scoped>\n",
              "    .dataframe tbody tr th:only-of-type {\n",
              "        vertical-align: middle;\n",
              "    }\n",
              "\n",
              "    .dataframe tbody tr th {\n",
              "        vertical-align: top;\n",
              "    }\n",
              "\n",
              "    .dataframe thead th {\n",
              "        text-align: right;\n",
              "    }\n",
              "</style>\n",
              "<table border=\"1\" class=\"dataframe\">\n",
              "  <thead>\n",
              "    <tr style=\"text-align: right;\">\n",
              "      <th></th>\n",
              "      <th>YearStart</th>\n",
              "      <th>YearEnd</th>\n",
              "      <th>Class</th>\n",
              "      <th>Data_Value_Unit</th>\n",
              "      <th>Data_Value</th>\n",
              "      <th>Low_Confidence_Limit</th>\n",
              "      <th>High_Confidence_Limit</th>\n",
              "      <th>Age_Group</th>\n",
              "      <th>Race_Gender</th>\n",
              "      <th>ClassID</th>\n",
              "      <th>TopicID</th>\n",
              "      <th>QuestionID</th>\n",
              "      <th>LocationID</th>\n",
              "    </tr>\n",
              "  </thead>\n",
              "  <tbody>\n",
              "    <tr>\n",
              "      <th>0</th>\n",
              "      <td>2015</td>\n",
              "      <td>2015</td>\n",
              "      <td>4</td>\n",
              "      <td>%</td>\n",
              "      <td>36.8</td>\n",
              "      <td>35.9</td>\n",
              "      <td>37.7</td>\n",
              "      <td>0</td>\n",
              "      <td>0</td>\n",
              "      <td>0</td>\n",
              "      <td>0</td>\n",
              "      <td>0</td>\n",
              "      <td>9003</td>\n",
              "    </tr>\n",
              "    <tr>\n",
              "      <th>1</th>\n",
              "      <td>2021</td>\n",
              "      <td>2021</td>\n",
              "      <td>2</td>\n",
              "      <td>%</td>\n",
              "      <td>15.5</td>\n",
              "      <td>13.4</td>\n",
              "      <td>17.9</td>\n",
              "      <td>1</td>\n",
              "      <td>1</td>\n",
              "      <td>1</td>\n",
              "      <td>1</td>\n",
              "      <td>1</td>\n",
              "      <td>1</td>\n",
              "    </tr>\n",
              "    <tr>\n",
              "      <th>2</th>\n",
              "      <td>2021</td>\n",
              "      <td>2021</td>\n",
              "      <td>2</td>\n",
              "      <td>%</td>\n",
              "      <td>23.5</td>\n",
              "      <td>16.0</td>\n",
              "      <td>33.2</td>\n",
              "      <td>1</td>\n",
              "      <td>2</td>\n",
              "      <td>1</td>\n",
              "      <td>2</td>\n",
              "      <td>2</td>\n",
              "      <td>41</td>\n",
              "    </tr>\n",
              "    <tr>\n",
              "      <th>3</th>\n",
              "      <td>2021</td>\n",
              "      <td>2021</td>\n",
              "      <td>2</td>\n",
              "      <td>%</td>\n",
              "      <td>13.6</td>\n",
              "      <td>12.6</td>\n",
              "      <td>14.6</td>\n",
              "      <td>1</td>\n",
              "      <td>0</td>\n",
              "      <td>1</td>\n",
              "      <td>2</td>\n",
              "      <td>2</td>\n",
              "      <td>31</td>\n",
              "    </tr>\n",
              "  </tbody>\n",
              "</table>\n",
              "</div>\n",
              "      <button class=\"colab-df-convert\" onclick=\"convertToInteractive('df-f5be60a2-a143-4f09-b0db-1d39721bcd88')\"\n",
              "              title=\"Convert this dataframe to an interactive table.\"\n",
              "              style=\"display:none;\">\n",
              "\n",
              "  <svg xmlns=\"http://www.w3.org/2000/svg\" height=\"24px\"viewBox=\"0 0 24 24\"\n",
              "       width=\"24px\">\n",
              "    <path d=\"M0 0h24v24H0V0z\" fill=\"none\"/>\n",
              "    <path d=\"M18.56 5.44l.94 2.06.94-2.06 2.06-.94-2.06-.94-.94-2.06-.94 2.06-2.06.94zm-11 1L8.5 8.5l.94-2.06 2.06-.94-2.06-.94L8.5 2.5l-.94 2.06-2.06.94zm10 10l.94 2.06.94-2.06 2.06-.94-2.06-.94-.94-2.06-.94 2.06-2.06.94z\"/><path d=\"M17.41 7.96l-1.37-1.37c-.4-.4-.92-.59-1.43-.59-.52 0-1.04.2-1.43.59L10.3 9.45l-7.72 7.72c-.78.78-.78 2.05 0 2.83L4 21.41c.39.39.9.59 1.41.59.51 0 1.02-.2 1.41-.59l7.78-7.78 2.81-2.81c.8-.78.8-2.07 0-2.86zM5.41 20L4 18.59l7.72-7.72 1.47 1.35L5.41 20z\"/>\n",
              "  </svg>\n",
              "      </button>\n",
              "\n",
              "\n",
              "\n",
              "    <div id=\"df-c571ec65-15b9-4975-94a1-57c6d231d949\">\n",
              "      <button class=\"colab-df-quickchart\" onclick=\"quickchart('df-c571ec65-15b9-4975-94a1-57c6d231d949')\"\n",
              "              title=\"Suggest charts.\"\n",
              "              style=\"display:none;\">\n",
              "\n",
              "<svg xmlns=\"http://www.w3.org/2000/svg\" height=\"24px\"viewBox=\"0 0 24 24\"\n",
              "     width=\"24px\">\n",
              "    <g>\n",
              "        <path d=\"M19 3H5c-1.1 0-2 .9-2 2v14c0 1.1.9 2 2 2h14c1.1 0 2-.9 2-2V5c0-1.1-.9-2-2-2zM9 17H7v-7h2v7zm4 0h-2V7h2v10zm4 0h-2v-4h2v4z\"/>\n",
              "    </g>\n",
              "</svg>\n",
              "      </button>\n",
              "    </div>\n",
              "\n",
              "<style>\n",
              "  .colab-df-quickchart {\n",
              "    background-color: #E8F0FE;\n",
              "    border: none;\n",
              "    border-radius: 50%;\n",
              "    cursor: pointer;\n",
              "    display: none;\n",
              "    fill: #1967D2;\n",
              "    height: 32px;\n",
              "    padding: 0 0 0 0;\n",
              "    width: 32px;\n",
              "  }\n",
              "\n",
              "  .colab-df-quickchart:hover {\n",
              "    background-color: #E2EBFA;\n",
              "    box-shadow: 0px 1px 2px rgba(60, 64, 67, 0.3), 0px 1px 3px 1px rgba(60, 64, 67, 0.15);\n",
              "    fill: #174EA6;\n",
              "  }\n",
              "\n",
              "  [theme=dark] .colab-df-quickchart {\n",
              "    background-color: #3B4455;\n",
              "    fill: #D2E3FC;\n",
              "  }\n",
              "\n",
              "  [theme=dark] .colab-df-quickchart:hover {\n",
              "    background-color: #434B5C;\n",
              "    box-shadow: 0px 1px 3px 1px rgba(0, 0, 0, 0.15);\n",
              "    filter: drop-shadow(0px 1px 2px rgba(0, 0, 0, 0.3));\n",
              "    fill: #FFFFFF;\n",
              "  }\n",
              "</style>\n",
              "\n",
              "    <script>\n",
              "      async function quickchart(key) {\n",
              "        const containerElement = document.querySelector('#' + key);\n",
              "        const charts = await google.colab.kernel.invokeFunction(\n",
              "            'suggestCharts', [key], {});\n",
              "      }\n",
              "    </script>\n",
              "\n",
              "      <script>\n",
              "\n",
              "function displayQuickchartButton(domScope) {\n",
              "  let quickchartButtonEl =\n",
              "    domScope.querySelector('#df-c571ec65-15b9-4975-94a1-57c6d231d949 button.colab-df-quickchart');\n",
              "  quickchartButtonEl.style.display =\n",
              "    google.colab.kernel.accessAllowed ? 'block' : 'none';\n",
              "}\n",
              "\n",
              "        displayQuickchartButton(document);\n",
              "      </script>\n",
              "      <style>\n",
              "    .colab-df-container {\n",
              "      display:flex;\n",
              "      flex-wrap:wrap;\n",
              "      gap: 12px;\n",
              "    }\n",
              "\n",
              "    .colab-df-convert {\n",
              "      background-color: #E8F0FE;\n",
              "      border: none;\n",
              "      border-radius: 50%;\n",
              "      cursor: pointer;\n",
              "      display: none;\n",
              "      fill: #1967D2;\n",
              "      height: 32px;\n",
              "      padding: 0 0 0 0;\n",
              "      width: 32px;\n",
              "    }\n",
              "\n",
              "    .colab-df-convert:hover {\n",
              "      background-color: #E2EBFA;\n",
              "      box-shadow: 0px 1px 2px rgba(60, 64, 67, 0.3), 0px 1px 3px 1px rgba(60, 64, 67, 0.15);\n",
              "      fill: #174EA6;\n",
              "    }\n",
              "\n",
              "    [theme=dark] .colab-df-convert {\n",
              "      background-color: #3B4455;\n",
              "      fill: #D2E3FC;\n",
              "    }\n",
              "\n",
              "    [theme=dark] .colab-df-convert:hover {\n",
              "      background-color: #434B5C;\n",
              "      box-shadow: 0px 1px 3px 1px rgba(0, 0, 0, 0.15);\n",
              "      filter: drop-shadow(0px 1px 2px rgba(0, 0, 0, 0.3));\n",
              "      fill: #FFFFFF;\n",
              "    }\n",
              "  </style>\n",
              "\n",
              "      <script>\n",
              "        const buttonEl =\n",
              "          document.querySelector('#df-f5be60a2-a143-4f09-b0db-1d39721bcd88 button.colab-df-convert');\n",
              "        buttonEl.style.display =\n",
              "          google.colab.kernel.accessAllowed ? 'block' : 'none';\n",
              "\n",
              "        async function convertToInteractive(key) {\n",
              "          const element = document.querySelector('#df-f5be60a2-a143-4f09-b0db-1d39721bcd88');\n",
              "          const dataTable =\n",
              "            await google.colab.kernel.invokeFunction('convertToInteractive',\n",
              "                                                     [key], {});\n",
              "          if (!dataTable) return;\n",
              "\n",
              "          const docLinkHtml = 'Like what you see? Visit the ' +\n",
              "            '<a target=\"_blank\" href=https://colab.research.google.com/notebooks/data_table.ipynb>data table notebook</a>'\n",
              "            + ' to learn more about interactive tables.';\n",
              "          element.innerHTML = '';\n",
              "          dataTable['output_type'] = 'display_data';\n",
              "          await google.colab.output.renderOutput(dataTable, element);\n",
              "          const docLink = document.createElement('div');\n",
              "          docLink.innerHTML = docLinkHtml;\n",
              "          element.appendChild(docLink);\n",
              "        }\n",
              "      </script>\n",
              "    </div>\n",
              "  </div>\n"
            ]
          },
          "metadata": {},
          "execution_count": 37
        }
      ],
      "source": [
        "#view changes made so far.\n",
        "Health_data.head(4)"
      ]
    },
    {
      "cell_type": "code",
      "execution_count": 38,
      "metadata": {
        "colab": {
          "base_uri": "https://localhost:8080/",
          "height": 364
        },
        "id": "47ogMCq4I98S",
        "outputId": "63deffde-ed84-4e7b-a646-e35bfc112c82"
      },
      "outputs": [
        {
          "output_type": "execute_result",
          "data": {
            "text/plain": [
              "           YearStart        YearEnd          Class     Data_Value  \\\n",
              "count  169126.000000  169126.000000  169126.000000  169126.000000   \n",
              "mean     2017.947199    2018.150420       3.470336      37.355369   \n",
              "std         2.027434       2.072166       1.685345      25.191577   \n",
              "min      2015.000000    2015.000000       0.000000       0.200000   \n",
              "25%      2016.000000    2016.000000       3.000000      15.700000   \n",
              "50%      2018.000000    2018.000000       4.000000      32.300000   \n",
              "75%      2020.000000    2020.000000       5.000000      56.100000   \n",
              "max      2021.000000    2021.000000       6.000000      99.900000   \n",
              "\n",
              "       Low_Confidence_Limit  High_Confidence_Limit      Age_Group  \\\n",
              "count         169126.000000          169126.000000  169126.000000   \n",
              "mean              32.698188              42.243840       0.982747   \n",
              "std               24.288904              26.165896       0.802228   \n",
              "min               -0.700000               1.400000       0.000000   \n",
              "25%               12.400000              19.400000       0.000000   \n",
              "50%               26.600000              38.300000       1.000000   \n",
              "75%               48.400000              64.000000       2.000000   \n",
              "max               99.600000             100.000000       2.000000   \n",
              "\n",
              "         Race_Gender        ClassID        TopicID     QuestionID  \\\n",
              "count  169126.000000  169126.000000  169126.000000  169126.000000   \n",
              "mean        2.722018       2.263419      16.466067      16.466067   \n",
              "std         2.075519       2.047841      10.321318      10.321318   \n",
              "min         0.000000       0.000000       0.000000       0.000000   \n",
              "25%         1.000000       0.000000       8.000000       8.000000   \n",
              "50%         3.000000       2.000000      16.000000      16.000000   \n",
              "75%         4.000000       4.000000      25.000000      25.000000   \n",
              "max         7.000000       6.000000      38.000000      38.000000   \n",
              "\n",
              "          LocationID  \n",
              "count  169126.000000  \n",
              "mean     1133.003193  \n",
              "std      2944.887351  \n",
              "min         1.000000  \n",
              "25%        19.000000  \n",
              "50%        35.000000  \n",
              "75%        51.000000  \n",
              "max      9004.000000  "
            ],
            "text/html": [
              "\n",
              "\n",
              "  <div id=\"df-4e889320-f807-4066-9ff3-e9e8b11b92e2\">\n",
              "    <div class=\"colab-df-container\">\n",
              "      <div>\n",
              "<style scoped>\n",
              "    .dataframe tbody tr th:only-of-type {\n",
              "        vertical-align: middle;\n",
              "    }\n",
              "\n",
              "    .dataframe tbody tr th {\n",
              "        vertical-align: top;\n",
              "    }\n",
              "\n",
              "    .dataframe thead th {\n",
              "        text-align: right;\n",
              "    }\n",
              "</style>\n",
              "<table border=\"1\" class=\"dataframe\">\n",
              "  <thead>\n",
              "    <tr style=\"text-align: right;\">\n",
              "      <th></th>\n",
              "      <th>YearStart</th>\n",
              "      <th>YearEnd</th>\n",
              "      <th>Class</th>\n",
              "      <th>Data_Value</th>\n",
              "      <th>Low_Confidence_Limit</th>\n",
              "      <th>High_Confidence_Limit</th>\n",
              "      <th>Age_Group</th>\n",
              "      <th>Race_Gender</th>\n",
              "      <th>ClassID</th>\n",
              "      <th>TopicID</th>\n",
              "      <th>QuestionID</th>\n",
              "      <th>LocationID</th>\n",
              "    </tr>\n",
              "  </thead>\n",
              "  <tbody>\n",
              "    <tr>\n",
              "      <th>count</th>\n",
              "      <td>169126.000000</td>\n",
              "      <td>169126.000000</td>\n",
              "      <td>169126.000000</td>\n",
              "      <td>169126.000000</td>\n",
              "      <td>169126.000000</td>\n",
              "      <td>169126.000000</td>\n",
              "      <td>169126.000000</td>\n",
              "      <td>169126.000000</td>\n",
              "      <td>169126.000000</td>\n",
              "      <td>169126.000000</td>\n",
              "      <td>169126.000000</td>\n",
              "      <td>169126.000000</td>\n",
              "    </tr>\n",
              "    <tr>\n",
              "      <th>mean</th>\n",
              "      <td>2017.947199</td>\n",
              "      <td>2018.150420</td>\n",
              "      <td>3.470336</td>\n",
              "      <td>37.355369</td>\n",
              "      <td>32.698188</td>\n",
              "      <td>42.243840</td>\n",
              "      <td>0.982747</td>\n",
              "      <td>2.722018</td>\n",
              "      <td>2.263419</td>\n",
              "      <td>16.466067</td>\n",
              "      <td>16.466067</td>\n",
              "      <td>1133.003193</td>\n",
              "    </tr>\n",
              "    <tr>\n",
              "      <th>std</th>\n",
              "      <td>2.027434</td>\n",
              "      <td>2.072166</td>\n",
              "      <td>1.685345</td>\n",
              "      <td>25.191577</td>\n",
              "      <td>24.288904</td>\n",
              "      <td>26.165896</td>\n",
              "      <td>0.802228</td>\n",
              "      <td>2.075519</td>\n",
              "      <td>2.047841</td>\n",
              "      <td>10.321318</td>\n",
              "      <td>10.321318</td>\n",
              "      <td>2944.887351</td>\n",
              "    </tr>\n",
              "    <tr>\n",
              "      <th>min</th>\n",
              "      <td>2015.000000</td>\n",
              "      <td>2015.000000</td>\n",
              "      <td>0.000000</td>\n",
              "      <td>0.200000</td>\n",
              "      <td>-0.700000</td>\n",
              "      <td>1.400000</td>\n",
              "      <td>0.000000</td>\n",
              "      <td>0.000000</td>\n",
              "      <td>0.000000</td>\n",
              "      <td>0.000000</td>\n",
              "      <td>0.000000</td>\n",
              "      <td>1.000000</td>\n",
              "    </tr>\n",
              "    <tr>\n",
              "      <th>25%</th>\n",
              "      <td>2016.000000</td>\n",
              "      <td>2016.000000</td>\n",
              "      <td>3.000000</td>\n",
              "      <td>15.700000</td>\n",
              "      <td>12.400000</td>\n",
              "      <td>19.400000</td>\n",
              "      <td>0.000000</td>\n",
              "      <td>1.000000</td>\n",
              "      <td>0.000000</td>\n",
              "      <td>8.000000</td>\n",
              "      <td>8.000000</td>\n",
              "      <td>19.000000</td>\n",
              "    </tr>\n",
              "    <tr>\n",
              "      <th>50%</th>\n",
              "      <td>2018.000000</td>\n",
              "      <td>2018.000000</td>\n",
              "      <td>4.000000</td>\n",
              "      <td>32.300000</td>\n",
              "      <td>26.600000</td>\n",
              "      <td>38.300000</td>\n",
              "      <td>1.000000</td>\n",
              "      <td>3.000000</td>\n",
              "      <td>2.000000</td>\n",
              "      <td>16.000000</td>\n",
              "      <td>16.000000</td>\n",
              "      <td>35.000000</td>\n",
              "    </tr>\n",
              "    <tr>\n",
              "      <th>75%</th>\n",
              "      <td>2020.000000</td>\n",
              "      <td>2020.000000</td>\n",
              "      <td>5.000000</td>\n",
              "      <td>56.100000</td>\n",
              "      <td>48.400000</td>\n",
              "      <td>64.000000</td>\n",
              "      <td>2.000000</td>\n",
              "      <td>4.000000</td>\n",
              "      <td>4.000000</td>\n",
              "      <td>25.000000</td>\n",
              "      <td>25.000000</td>\n",
              "      <td>51.000000</td>\n",
              "    </tr>\n",
              "    <tr>\n",
              "      <th>max</th>\n",
              "      <td>2021.000000</td>\n",
              "      <td>2021.000000</td>\n",
              "      <td>6.000000</td>\n",
              "      <td>99.900000</td>\n",
              "      <td>99.600000</td>\n",
              "      <td>100.000000</td>\n",
              "      <td>2.000000</td>\n",
              "      <td>7.000000</td>\n",
              "      <td>6.000000</td>\n",
              "      <td>38.000000</td>\n",
              "      <td>38.000000</td>\n",
              "      <td>9004.000000</td>\n",
              "    </tr>\n",
              "  </tbody>\n",
              "</table>\n",
              "</div>\n",
              "      <button class=\"colab-df-convert\" onclick=\"convertToInteractive('df-4e889320-f807-4066-9ff3-e9e8b11b92e2')\"\n",
              "              title=\"Convert this dataframe to an interactive table.\"\n",
              "              style=\"display:none;\">\n",
              "\n",
              "  <svg xmlns=\"http://www.w3.org/2000/svg\" height=\"24px\"viewBox=\"0 0 24 24\"\n",
              "       width=\"24px\">\n",
              "    <path d=\"M0 0h24v24H0V0z\" fill=\"none\"/>\n",
              "    <path d=\"M18.56 5.44l.94 2.06.94-2.06 2.06-.94-2.06-.94-.94-2.06-.94 2.06-2.06.94zm-11 1L8.5 8.5l.94-2.06 2.06-.94-2.06-.94L8.5 2.5l-.94 2.06-2.06.94zm10 10l.94 2.06.94-2.06 2.06-.94-2.06-.94-.94-2.06-.94 2.06-2.06.94z\"/><path d=\"M17.41 7.96l-1.37-1.37c-.4-.4-.92-.59-1.43-.59-.52 0-1.04.2-1.43.59L10.3 9.45l-7.72 7.72c-.78.78-.78 2.05 0 2.83L4 21.41c.39.39.9.59 1.41.59.51 0 1.02-.2 1.41-.59l7.78-7.78 2.81-2.81c.8-.78.8-2.07 0-2.86zM5.41 20L4 18.59l7.72-7.72 1.47 1.35L5.41 20z\"/>\n",
              "  </svg>\n",
              "      </button>\n",
              "\n",
              "\n",
              "\n",
              "    <div id=\"df-4100a123-dd9d-4153-9712-d9c1abb555c7\">\n",
              "      <button class=\"colab-df-quickchart\" onclick=\"quickchart('df-4100a123-dd9d-4153-9712-d9c1abb555c7')\"\n",
              "              title=\"Suggest charts.\"\n",
              "              style=\"display:none;\">\n",
              "\n",
              "<svg xmlns=\"http://www.w3.org/2000/svg\" height=\"24px\"viewBox=\"0 0 24 24\"\n",
              "     width=\"24px\">\n",
              "    <g>\n",
              "        <path d=\"M19 3H5c-1.1 0-2 .9-2 2v14c0 1.1.9 2 2 2h14c1.1 0 2-.9 2-2V5c0-1.1-.9-2-2-2zM9 17H7v-7h2v7zm4 0h-2V7h2v10zm4 0h-2v-4h2v4z\"/>\n",
              "    </g>\n",
              "</svg>\n",
              "      </button>\n",
              "    </div>\n",
              "\n",
              "<style>\n",
              "  .colab-df-quickchart {\n",
              "    background-color: #E8F0FE;\n",
              "    border: none;\n",
              "    border-radius: 50%;\n",
              "    cursor: pointer;\n",
              "    display: none;\n",
              "    fill: #1967D2;\n",
              "    height: 32px;\n",
              "    padding: 0 0 0 0;\n",
              "    width: 32px;\n",
              "  }\n",
              "\n",
              "  .colab-df-quickchart:hover {\n",
              "    background-color: #E2EBFA;\n",
              "    box-shadow: 0px 1px 2px rgba(60, 64, 67, 0.3), 0px 1px 3px 1px rgba(60, 64, 67, 0.15);\n",
              "    fill: #174EA6;\n",
              "  }\n",
              "\n",
              "  [theme=dark] .colab-df-quickchart {\n",
              "    background-color: #3B4455;\n",
              "    fill: #D2E3FC;\n",
              "  }\n",
              "\n",
              "  [theme=dark] .colab-df-quickchart:hover {\n",
              "    background-color: #434B5C;\n",
              "    box-shadow: 0px 1px 3px 1px rgba(0, 0, 0, 0.15);\n",
              "    filter: drop-shadow(0px 1px 2px rgba(0, 0, 0, 0.3));\n",
              "    fill: #FFFFFF;\n",
              "  }\n",
              "</style>\n",
              "\n",
              "    <script>\n",
              "      async function quickchart(key) {\n",
              "        const containerElement = document.querySelector('#' + key);\n",
              "        const charts = await google.colab.kernel.invokeFunction(\n",
              "            'suggestCharts', [key], {});\n",
              "      }\n",
              "    </script>\n",
              "\n",
              "      <script>\n",
              "\n",
              "function displayQuickchartButton(domScope) {\n",
              "  let quickchartButtonEl =\n",
              "    domScope.querySelector('#df-4100a123-dd9d-4153-9712-d9c1abb555c7 button.colab-df-quickchart');\n",
              "  quickchartButtonEl.style.display =\n",
              "    google.colab.kernel.accessAllowed ? 'block' : 'none';\n",
              "}\n",
              "\n",
              "        displayQuickchartButton(document);\n",
              "      </script>\n",
              "      <style>\n",
              "    .colab-df-container {\n",
              "      display:flex;\n",
              "      flex-wrap:wrap;\n",
              "      gap: 12px;\n",
              "    }\n",
              "\n",
              "    .colab-df-convert {\n",
              "      background-color: #E8F0FE;\n",
              "      border: none;\n",
              "      border-radius: 50%;\n",
              "      cursor: pointer;\n",
              "      display: none;\n",
              "      fill: #1967D2;\n",
              "      height: 32px;\n",
              "      padding: 0 0 0 0;\n",
              "      width: 32px;\n",
              "    }\n",
              "\n",
              "    .colab-df-convert:hover {\n",
              "      background-color: #E2EBFA;\n",
              "      box-shadow: 0px 1px 2px rgba(60, 64, 67, 0.3), 0px 1px 3px 1px rgba(60, 64, 67, 0.15);\n",
              "      fill: #174EA6;\n",
              "    }\n",
              "\n",
              "    [theme=dark] .colab-df-convert {\n",
              "      background-color: #3B4455;\n",
              "      fill: #D2E3FC;\n",
              "    }\n",
              "\n",
              "    [theme=dark] .colab-df-convert:hover {\n",
              "      background-color: #434B5C;\n",
              "      box-shadow: 0px 1px 3px 1px rgba(0, 0, 0, 0.15);\n",
              "      filter: drop-shadow(0px 1px 2px rgba(0, 0, 0, 0.3));\n",
              "      fill: #FFFFFF;\n",
              "    }\n",
              "  </style>\n",
              "\n",
              "      <script>\n",
              "        const buttonEl =\n",
              "          document.querySelector('#df-4e889320-f807-4066-9ff3-e9e8b11b92e2 button.colab-df-convert');\n",
              "        buttonEl.style.display =\n",
              "          google.colab.kernel.accessAllowed ? 'block' : 'none';\n",
              "\n",
              "        async function convertToInteractive(key) {\n",
              "          const element = document.querySelector('#df-4e889320-f807-4066-9ff3-e9e8b11b92e2');\n",
              "          const dataTable =\n",
              "            await google.colab.kernel.invokeFunction('convertToInteractive',\n",
              "                                                     [key], {});\n",
              "          if (!dataTable) return;\n",
              "\n",
              "          const docLinkHtml = 'Like what you see? Visit the ' +\n",
              "            '<a target=\"_blank\" href=https://colab.research.google.com/notebooks/data_table.ipynb>data table notebook</a>'\n",
              "            + ' to learn more about interactive tables.';\n",
              "          element.innerHTML = '';\n",
              "          dataTable['output_type'] = 'display_data';\n",
              "          await google.colab.output.renderOutput(dataTable, element);\n",
              "          const docLink = document.createElement('div');\n",
              "          docLink.innerHTML = docLinkHtml;\n",
              "          element.appendChild(docLink);\n",
              "        }\n",
              "      </script>\n",
              "    </div>\n",
              "  </div>\n"
            ]
          },
          "metadata": {},
          "execution_count": 38
        }
      ],
      "source": [
        "#Statistical summary of dataset\n",
        "Health_data.describe()"
      ]
    },
    {
      "cell_type": "code",
      "execution_count": 39,
      "metadata": {
        "id": "b0d_0HZTJfDE"
      },
      "outputs": [],
      "source": [
        "#check and drop duplicates\n",
        "Health_data.drop_duplicates(inplace=True)\n",
        "\n",
        "\n",
        "Health_data.drop('Data_Value_Unit', axis=1, inplace=True)\n",
        "\n",
        "\n",
        "Health_data.drop('ClassID', axis=1, inplace=True)\n"
      ]
    },
    {
      "cell_type": "code",
      "execution_count": 40,
      "metadata": {
        "colab": {
          "base_uri": "https://localhost:8080/"
        },
        "id": "rHLZBdH-KStL",
        "outputId": "18b72b49-8b11-4546-ee28-9ad55010c270"
      },
      "outputs": [
        {
          "output_type": "execute_result",
          "data": {
            "text/plain": [
              "(169126, 11)"
            ]
          },
          "metadata": {},
          "execution_count": 40
        }
      ],
      "source": [
        "#view final shape of dataset\n",
        "Health_data.shape"
      ]
    },
    {
      "cell_type": "code",
      "execution_count": 41,
      "metadata": {
        "colab": {
          "base_uri": "https://localhost:8080/"
        },
        "id": "t1--W8iTKfxL",
        "outputId": "328c4e9f-b62c-4497-a5d7-85e4fb47b5b4"
      },
      "outputs": [
        {
          "output_type": "execute_result",
          "data": {
            "text/plain": [
              "4    58775\n",
              "5    35357\n",
              "3    21278\n",
              "0    15987\n",
              "1    12897\n",
              "2    12671\n",
              "6    12161\n",
              "Name: Class, dtype: int64"
            ]
          },
          "metadata": {},
          "execution_count": 41
        }
      ],
      "source": [
        "#number of value counts of each class\n",
        "Health_data.Class.value_counts()"
      ]
    },
    {
      "cell_type": "code",
      "execution_count": 42,
      "metadata": {
        "colab": {
          "base_uri": "https://localhost:8080/",
          "height": 487
        },
        "id": "nawlqpESK18D",
        "outputId": "295cb196-c73f-47c9-98ef-78e167d9e4ab"
      },
      "outputs": [
        {
          "output_type": "display_data",
          "data": {
            "text/plain": [
              "<Figure size 1600x500 with 1 Axes>"
            ],
            "image/png": "[encoded data removed]"
          },
          "metadata": {}
        }
      ],
      "source": [
        "# Create a countplot\n",
        "plt.figure(figsize=(16,5))\n",
        "sns.countplot(x=\"Class\", data=Health_data, palette=\"Blues\")\n",
        "\n",
        "plt.title(\"Count of Chronic Diseases\")\n",
        "plt.xlabel(\"Class\")\n",
        "plt.ylabel(\"Count\")\n",
        "sns.despine(left=True, bottom=True)\n",
        "plt.grid(axis='y', linestyle='--')\n",
        "\n",
        "# Show the plot\n",
        "plt.show()\n"
      ]
    },
    {
      "cell_type": "markdown",
      "metadata": {
        "id": "4_hvolX1e8Xt"
      },
      "source": [
        "We still have an imbalanced model more on the (majority) class, we have to apply the undersampling and oversampling technique to try and normalise the data. but first I will try to apply one or two models to denote the results before and after balancing of the dataset.\n"
      ]
    },
    {
      "cell_type": "code",
      "source": [
        "#view number of sample for each health category\n",
        "plt.figure(figsize=(6,5))\n",
        "count = Health_data['Class'].value_counts()\n",
        "count.plot.bar()\n",
        "plt.ylabel('Number of sample')\n",
        "plt.xlabel('Health Categories')\n",
        "plt.show()\n"
      ],
      "metadata": {
        "colab": {
          "base_uri": "https://localhost:8080/",
          "height": 460
        },
        "id": "cPhnws78t8pT",
        "outputId": "49545b4c-beb6-4d4c-9ff5-5ebd3f28c0ca"
      },
      "execution_count": 43,
      "outputs": [
        {
          "output_type": "display_data",
          "data": {
            "text/plain": [
              "<Figure size 600x500 with 1 Axes>"
            ],
            "image/png": "[encoded data removed]"
          },
          "metadata": {}
        }
      ]
    },
    {
      "cell_type": "code",
      "execution_count": 44,
      "metadata": {
        "id": "teZ8-FxgZB8B"
      },
      "outputs": [],
      "source": [
        "# separating the target variable from feature variables\n",
        "F_variables = []\n",
        "for feature in Health_data.columns:\n",
        "    if feature != 'Class':\n",
        "        F_variables.append(feature)\n",
        "X = Health_data[F_variables]\n",
        "y = Health_data['Class']"
      ]
    },
    {
      "cell_type": "markdown",
      "metadata": {
        "id": "xvBddy85bth9"
      },
      "source": [
        "slitting the dataset"
      ]
    },
    {
      "cell_type": "code",
      "execution_count": 45,
      "metadata": {
        "id": "Rf0XU9TibsTO"
      },
      "outputs": [],
      "source": [
        "from sklearn.model_selection import train_test_split\n",
        "X_train, X_test, y_train, y_test = train_test_split(X, y, test_size=0.3, random_state=70)\n"
      ]
    },
    {
      "cell_type": "markdown",
      "source": [
        "SCALING DATASET WITH STANDARD SCALER"
      ],
      "metadata": {
        "id": "FNL6UssyXA0Q"
      }
    },
    {
      "cell_type": "code",
      "execution_count": 46,
      "metadata": {
        "id": "g30633VMb33v"
      },
      "outputs": [],
      "source": [
        "import pandas as pd\n",
        "from sklearn.preprocessing import StandardScaler\n",
        "\n",
        "# create a StandardScaler object\n",
        "scaler = StandardScaler()\n",
        "\n",
        "# fit the scaler to Feautre data\n",
        "scaler.fit(X_train)\n",
        "\n",
        "# transform the data using the scaler\n",
        "scaled_data = scaler.transform(X_test)"
      ]
    },
    {
      "cell_type": "markdown",
      "metadata": {
        "id": "5GWu6W8JhKPL"
      },
      "source": [
        "KNN MODEL UNBALANCED"
      ]
    },
    {
      "cell_type": "code",
      "execution_count": 47,
      "metadata": {
        "colab": {
          "base_uri": "https://localhost:8080/"
        },
        "id": "Nt643gR9hCfN",
        "outputId": "b4ba51a5-b060-4e8e-a75d-683d7525cedc"
      },
      "outputs": [
        {
          "output_type": "stream",
          "name": "stdout",
          "text": [
            "\n",
            "Accuracy: 0.93\n",
            "              precision    recall  f1-score   support\n",
            "\n",
            "           0     0.9223    0.9383    0.9303      4784\n",
            "           1     0.9187    0.9361    0.9273      3946\n",
            "           2     0.9774    0.9845    0.9809      3867\n",
            "           3     0.9181    0.9251    0.9216      6340\n",
            "           4     0.9298    0.9198    0.9248     17648\n",
            "           5     0.9163    0.9138    0.9150     10572\n",
            "           6     0.9658    0.9615    0.9636      3581\n",
            "\n",
            "    accuracy                         0.9301     50738\n",
            "   macro avg     0.9355    0.9399    0.9377     50738\n",
            "weighted avg     0.9301    0.9301    0.9301     50738\n",
            "\n"
          ]
        }
      ],
      "source": [
        "from sklearn.neighbors import KNeighborsClassifier\n",
        "from sklearn.metrics import accuracy_score\n",
        "\n",
        "\n",
        "# create a k-nearest neighbors classifier with k=3\n",
        "knn = KNeighborsClassifier(n_neighbors=3)\n",
        "\n",
        "# fit the classifier to the training data\n",
        "knn.fit(X_train, y_train)\n",
        "\n",
        "\n",
        "# make predictions on the testing data\n",
        "y_pred = knn.predict(X_test)\n",
        "\n",
        "# evaluate the accuracy of the classifier\n",
        "accuracy = accuracy_score(y_test, y_pred)\n",
        "print(f'\\nAccuracy: {accuracy:.2f}')\n",
        "\n",
        "KNN_report = classification_report(y_test, y_pred, digits=4)\n",
        "print(KNN_report)\n"
      ]
    },
    {
      "cell_type": "markdown",
      "source": [
        "Random Forest Unbalanced"
      ],
      "metadata": {
        "id": "HKqWHQqW4yYi"
      }
    },
    {
      "cell_type": "code",
      "source": [
        "from sklearn.ensemble import RandomForestClassifier\n",
        "from sklearn.model_selection import train_test_split, cross_val_score\n",
        "from sklearn.metrics import accuracy_score, classification_report, confusion_matrix\n",
        "\n",
        "\n",
        "# Create the Random Forest classifier\n",
        "rf_classifier = RandomForestClassifier(n_estimators=100, random_state=42)\n",
        "\n",
        "# Train the classifier using cross-validation\n",
        "cv_scores = cross_val_score(rf_classifier, X_train, y_train, cv=5)  # 5-fold cross-validation\n",
        "\n",
        "# Print the cross-validation scores\n",
        "print(\"Cross-validation Scores:\", cv_scores)\n",
        "print(\"Mean Cross-validation Score:\", cv_scores.mean())\n",
        "\n",
        "# Fit the classifier on the full training data\n",
        "rf_classifier.fit(X_train, y_train)\n",
        "\n",
        "# Make predictions on the test data\n",
        "y_pred = rf_classifier.predict(X_test)\n",
        "\n",
        "# Evaluate the model's performance\n",
        "accuracy = accuracy_score(y_test, y_pred)\n",
        "print(\"Accuracy:\", accuracy)\n",
        "\n",
        "# Print the classification report and confusion matrix\n",
        "print(\"Classification Report:\")\n",
        "print(classification_report(y_test, y_pred))\n",
        "\n",
        "print(\"Confusion Matrix:\")\n",
        "print(confusion_matrix(y_test, y_pred))\n"
      ],
      "metadata": {
        "colab": {
          "base_uri": "https://localhost:8080/"
        },
        "id": "nkZoFqfQq7x5",
        "outputId": "68033430-6ae5-42f2-f7ff-469fe8a9f660"
      },
      "execution_count": 48,
      "outputs": [
        {
          "output_type": "stream",
          "name": "stdout",
          "text": [
            "Cross-validation Scores: [0.9998733  0.9998733  0.99991553 0.99991553 0.99978882]\n",
            "Mean Cross-validation Score: 0.9998732976125891\n",
            "Accuracy: 0.999842327249793\n",
            "Classification Report:\n",
            "              precision    recall  f1-score   support\n",
            "\n",
            "           0       1.00      1.00      1.00      4784\n",
            "           1       1.00      1.00      1.00      3946\n",
            "           2       1.00      1.00      1.00      3867\n",
            "           3       1.00      1.00      1.00      6340\n",
            "           4       1.00      1.00      1.00     17648\n",
            "           5       1.00      1.00      1.00     10572\n",
            "           6       1.00      1.00      1.00      3581\n",
            "\n",
            "    accuracy                           1.00     50738\n",
            "   macro avg       1.00      1.00      1.00     50738\n",
            "weighted avg       1.00      1.00      1.00     50738\n",
            "\n",
            "Confusion Matrix:\n",
            "[[ 4784     0     0     0     0     0     0]\n",
            " [    1  3945     0     0     0     0     0]\n",
            " [    0     0  3867     0     0     0     0]\n",
            " [    0     0     0  6338     1     0     1]\n",
            " [    0     1     0     1 17646     0     0]\n",
            " [    0     2     0     0     0 10570     0]\n",
            " [    0     0     0     1     0     0  3580]]\n"
          ]
        }
      ]
    },
    {
      "cell_type": "code",
      "source": [
        "#installation of sci-kit metrics\n",
        "!pip install scikit-plot"
      ],
      "metadata": {
        "colab": {
          "base_uri": "https://localhost:8080/"
        },
        "id": "JuxEmdbZtHNn",
        "outputId": "3757e1c0-de09-49f6-9092-60c268bb94cb"
      },
      "execution_count": 49,
      "outputs": [
        {
          "output_type": "stream",
          "name": "stdout",
          "text": [
            "Collecting scikit-plot\n",
            "  Downloading scikit_plot-0.3.7-py3-none-any.whl (33 kB)\n",
            "Requirement already satisfied: matplotlib>=1.4.0 in /usr/local/lib/python3.10/dist-packages (from scikit-plot) (3.7.1)\n",
            "Requirement already satisfied: scikit-learn>=0.18 in /usr/local/lib/python3.10/dist-packages (from scikit-plot) (1.2.2)\n",
            "Requirement already satisfied: scipy>=0.9 in /usr/local/lib/python3.10/dist-packages (from scikit-plot) (1.10.1)\n",
            "Requirement already satisfied: joblib>=0.10 in /usr/local/lib/python3.10/dist-packages (from scikit-plot) (1.3.1)\n",
            "Requirement already satisfied: contourpy>=1.0.1 in /usr/local/lib/python3.10/dist-packages (from matplotlib>=1.4.0->scikit-plot) (1.1.0)\n",
            "Requirement already satisfied: cycler>=0.10 in /usr/local/lib/python3.10/dist-packages (from matplotlib>=1.4.0->scikit-plot) (0.11.0)\n",
            "Requirement already satisfied: fonttools>=4.22.0 in /usr/local/lib/python3.10/dist-packages (from matplotlib>=1.4.0->scikit-plot) (4.41.1)\n",
            "Requirement already satisfied: kiwisolver>=1.0.1 in /usr/local/lib/python3.10/dist-packages (from matplotlib>=1.4.0->scikit-plot) (1.4.4)\n",
            "Requirement already satisfied: numpy>=1.20 in /usr/local/lib/python3.10/dist-packages (from matplotlib>=1.4.0->scikit-plot) (1.22.4)\n",
            "Requirement already satisfied: packaging>=20.0 in /usr/local/lib/python3.10/dist-packages (from matplotlib>=1.4.0->scikit-plot) (23.1)\n",
            "Requirement already satisfied: pillow>=6.2.0 in /usr/local/lib/python3.10/dist-packages (from matplotlib>=1.4.0->scikit-plot) (9.4.0)\n",
            "Requirement already satisfied: pyparsing>=2.3.1 in /usr/local/lib/python3.10/dist-packages (from matplotlib>=1.4.0->scikit-plot) (3.1.0)\n",
            "Requirement already satisfied: python-dateutil>=2.7 in /usr/local/lib/python3.10/dist-packages (from matplotlib>=1.4.0->scikit-plot) (2.8.2)\n",
            "Requirement already satisfied: threadpoolctl>=2.0.0 in /usr/local/lib/python3.10/dist-packages (from scikit-learn>=0.18->scikit-plot) (3.2.0)\n",
            "Requirement already satisfied: six>=1.5 in /usr/local/lib/python3.10/dist-packages (from python-dateutil>=2.7->matplotlib>=1.4.0->scikit-plot) (1.16.0)\n",
            "Installing collected packages: scikit-plot\n",
            "Successfully installed scikit-plot-0.3.7\n"
          ]
        }
      ]
    },
    {
      "cell_type": "markdown",
      "source": [
        "NVB UNBALANCED"
      ],
      "metadata": {
        "id": "abM0KNFxE4SS"
      }
    },
    {
      "cell_type": "code",
      "source": [
        "cla = GaussianNB()\n",
        "cla.fit(X_train, y_train)\n",
        "y_pred = cla.predict(X_test)\n",
        "accuracy = accuracy_score(y_test, y_pred)\n",
        "print(f'NB Accuracy: {accuracy:.2f}')\n",
        "\n",
        "# Print the classification report\n",
        "class_report = classification_report(y_test, y_pred)\n",
        "print(\"Classification Report:\")\n",
        "print(class_report)\n"
      ],
      "metadata": {
        "colab": {
          "base_uri": "https://localhost:8080/"
        },
        "id": "hmU9Y65_EfzE",
        "outputId": "2fa5c0b1-f410-43ca-ecb2-248e535095a9"
      },
      "execution_count": 50,
      "outputs": [
        {
          "output_type": "stream",
          "name": "stdout",
          "text": [
            "NB Accuracy: 0.53\n",
            "Classification Report:\n",
            "              precision    recall  f1-score   support\n",
            "\n",
            "           0       0.71      0.58      0.64      4784\n",
            "           1       0.74      0.62      0.67      3946\n",
            "           2       0.69      0.98      0.81      3867\n",
            "           3       0.41      0.73      0.52      6340\n",
            "           4       0.52      0.20      0.29     17648\n",
            "           5       0.49      0.61      0.54     10572\n",
            "           6       0.49      0.91      0.64      3581\n",
            "\n",
            "    accuracy                           0.53     50738\n",
            "   macro avg       0.58      0.66      0.59     50738\n",
            "weighted avg       0.55      0.53      0.50     50738\n",
            "\n"
          ]
        }
      ]
    },
    {
      "cell_type": "code",
      "source": [
        "Health_data.head(2)"
      ],
      "metadata": {
        "colab": {
          "base_uri": "https://localhost:8080/",
          "height": 112
        },
        "id": "wl2CgYH3axbb",
        "outputId": "87602763-8859-4963-dbda-e92f8cbc217e"
      },
      "execution_count": 51,
      "outputs": [
        {
          "output_type": "execute_result",
          "data": {
            "text/plain": [
              "   YearStart  YearEnd  Class  Data_Value  Low_Confidence_Limit  \\\n",
              "0       2015     2015      4        36.8                  35.9   \n",
              "1       2021     2021      2        15.5                  13.4   \n",
              "\n",
              "   High_Confidence_Limit  Age_Group  Race_Gender  TopicID  QuestionID  \\\n",
              "0                   37.7          0            0        0           0   \n",
              "1                   17.9          1            1        1           1   \n",
              "\n",
              "   LocationID  \n",
              "0        9003  \n",
              "1           1  "
            ],
            "text/html": [
              "\n",
              "\n",
              "  <div id=\"df-4f5caaa0-1450-419a-b04f-27e80ac5270e\">\n",
              "    <div class=\"colab-df-container\">\n",
              "      <div>\n",
              "<style scoped>\n",
              "    .dataframe tbody tr th:only-of-type {\n",
              "        vertical-align: middle;\n",
              "    }\n",
              "\n",
              "    .dataframe tbody tr th {\n",
              "        vertical-align: top;\n",
              "    }\n",
              "\n",
              "    .dataframe thead th {\n",
              "        text-align: right;\n",
              "    }\n",
              "</style>\n",
              "<table border=\"1\" class=\"dataframe\">\n",
              "  <thead>\n",
              "    <tr style=\"text-align: right;\">\n",
              "      <th></th>\n",
              "      <th>YearStart</th>\n",
              "      <th>YearEnd</th>\n",
              "      <th>Class</th>\n",
              "      <th>Data_Value</th>\n",
              "      <th>Low_Confidence_Limit</th>\n",
              "      <th>High_Confidence_Limit</th>\n",
              "      <th>Age_Group</th>\n",
              "      <th>Race_Gender</th>\n",
              "      <th>TopicID</th>\n",
              "      <th>QuestionID</th>\n",
              "      <th>LocationID</th>\n",
              "    </tr>\n",
              "  </thead>\n",
              "  <tbody>\n",
              "    <tr>\n",
              "      <th>0</th>\n",
              "      <td>2015</td>\n",
              "      <td>2015</td>\n",
              "      <td>4</td>\n",
              "      <td>36.8</td>\n",
              "      <td>35.9</td>\n",
              "      <td>37.7</td>\n",
              "      <td>0</td>\n",
              "      <td>0</td>\n",
              "      <td>0</td>\n",
              "      <td>0</td>\n",
              "      <td>9003</td>\n",
              "    </tr>\n",
              "    <tr>\n",
              "      <th>1</th>\n",
              "      <td>2021</td>\n",
              "      <td>2021</td>\n",
              "      <td>2</td>\n",
              "      <td>15.5</td>\n",
              "      <td>13.4</td>\n",
              "      <td>17.9</td>\n",
              "      <td>1</td>\n",
              "      <td>1</td>\n",
              "      <td>1</td>\n",
              "      <td>1</td>\n",
              "      <td>1</td>\n",
              "    </tr>\n",
              "  </tbody>\n",
              "</table>\n",
              "</div>\n",
              "      <button class=\"colab-df-convert\" onclick=\"convertToInteractive('df-4f5caaa0-1450-419a-b04f-27e80ac5270e')\"\n",
              "              title=\"Convert this dataframe to an interactive table.\"\n",
              "              style=\"display:none;\">\n",
              "\n",
              "  <svg xmlns=\"http://www.w3.org/2000/svg\" height=\"24px\"viewBox=\"0 0 24 24\"\n",
              "       width=\"24px\">\n",
              "    <path d=\"M0 0h24v24H0V0z\" fill=\"none\"/>\n",
              "    <path d=\"M18.56 5.44l.94 2.06.94-2.06 2.06-.94-2.06-.94-.94-2.06-.94 2.06-2.06.94zm-11 1L8.5 8.5l.94-2.06 2.06-.94-2.06-.94L8.5 2.5l-.94 2.06-2.06.94zm10 10l.94 2.06.94-2.06 2.06-.94-2.06-.94-.94-2.06-.94 2.06-2.06.94z\"/><path d=\"M17.41 7.96l-1.37-1.37c-.4-.4-.92-.59-1.43-.59-.52 0-1.04.2-1.43.59L10.3 9.45l-7.72 7.72c-.78.78-.78 2.05 0 2.83L4 21.41c.39.39.9.59 1.41.59.51 0 1.02-.2 1.41-.59l7.78-7.78 2.81-2.81c.8-.78.8-2.07 0-2.86zM5.41 20L4 18.59l7.72-7.72 1.47 1.35L5.41 20z\"/>\n",
              "  </svg>\n",
              "      </button>\n",
              "\n",
              "\n",
              "\n",
              "    <div id=\"df-dd6172d8-611b-41ea-a8a7-250180c05e50\">\n",
              "      <button class=\"colab-df-quickchart\" onclick=\"quickchart('df-dd6172d8-611b-41ea-a8a7-250180c05e50')\"\n",
              "              title=\"Suggest charts.\"\n",
              "              style=\"display:none;\">\n",
              "\n",
              "<svg xmlns=\"http://www.w3.org/2000/svg\" height=\"24px\"viewBox=\"0 0 24 24\"\n",
              "     width=\"24px\">\n",
              "    <g>\n",
              "        <path d=\"M19 3H5c-1.1 0-2 .9-2 2v14c0 1.1.9 2 2 2h14c1.1 0 2-.9 2-2V5c0-1.1-.9-2-2-2zM9 17H7v-7h2v7zm4 0h-2V7h2v10zm4 0h-2v-4h2v4z\"/>\n",
              "    </g>\n",
              "</svg>\n",
              "      </button>\n",
              "    </div>\n",
              "\n",
              "<style>\n",
              "  .colab-df-quickchart {\n",
              "    background-color: #E8F0FE;\n",
              "    border: none;\n",
              "    border-radius: 50%;\n",
              "    cursor: pointer;\n",
              "    display: none;\n",
              "    fill: #1967D2;\n",
              "    height: 32px;\n",
              "    padding: 0 0 0 0;\n",
              "    width: 32px;\n",
              "  }\n",
              "\n",
              "  .colab-df-quickchart:hover {\n",
              "    background-color: #E2EBFA;\n",
              "    box-shadow: 0px 1px 2px rgba(60, 64, 67, 0.3), 0px 1px 3px 1px rgba(60, 64, 67, 0.15);\n",
              "    fill: #174EA6;\n",
              "  }\n",
              "\n",
              "  [theme=dark] .colab-df-quickchart {\n",
              "    background-color: #3B4455;\n",
              "    fill: #D2E3FC;\n",
              "  }\n",
              "\n",
              "  [theme=dark] .colab-df-quickchart:hover {\n",
              "    background-color: #434B5C;\n",
              "    box-shadow: 0px 1px 3px 1px rgba(0, 0, 0, 0.15);\n",
              "    filter: drop-shadow(0px 1px 2px rgba(0, 0, 0, 0.3));\n",
              "    fill: #FFFFFF;\n",
              "  }\n",
              "</style>\n",
              "\n",
              "    <script>\n",
              "      async function quickchart(key) {\n",
              "        const containerElement = document.querySelector('#' + key);\n",
              "        const charts = await google.colab.kernel.invokeFunction(\n",
              "            'suggestCharts', [key], {});\n",
              "      }\n",
              "    </script>\n",
              "\n",
              "      <script>\n",
              "\n",
              "function displayQuickchartButton(domScope) {\n",
              "  let quickchartButtonEl =\n",
              "    domScope.querySelector('#df-dd6172d8-611b-41ea-a8a7-250180c05e50 button.colab-df-quickchart');\n",
              "  quickchartButtonEl.style.display =\n",
              "    google.colab.kernel.accessAllowed ? 'block' : 'none';\n",
              "}\n",
              "\n",
              "        displayQuickchartButton(document);\n",
              "      </script>\n",
              "      <style>\n",
              "    .colab-df-container {\n",
              "      display:flex;\n",
              "      flex-wrap:wrap;\n",
              "      gap: 12px;\n",
              "    }\n",
              "\n",
              "    .colab-df-convert {\n",
              "      background-color: #E8F0FE;\n",
              "      border: none;\n",
              "      border-radius: 50%;\n",
              "      cursor: pointer;\n",
              "      display: none;\n",
              "      fill: #1967D2;\n",
              "      height: 32px;\n",
              "      padding: 0 0 0 0;\n",
              "      width: 32px;\n",
              "    }\n",
              "\n",
              "    .colab-df-convert:hover {\n",
              "      background-color: #E2EBFA;\n",
              "      box-shadow: 0px 1px 2px rgba(60, 64, 67, 0.3), 0px 1px 3px 1px rgba(60, 64, 67, 0.15);\n",
              "      fill: #174EA6;\n",
              "    }\n",
              "\n",
              "    [theme=dark] .colab-df-convert {\n",
              "      background-color: #3B4455;\n",
              "      fill: #D2E3FC;\n",
              "    }\n",
              "\n",
              "    [theme=dark] .colab-df-convert:hover {\n",
              "      background-color: #434B5C;\n",
              "      box-shadow: 0px 1px 3px 1px rgba(0, 0, 0, 0.15);\n",
              "      filter: drop-shadow(0px 1px 2px rgba(0, 0, 0, 0.3));\n",
              "      fill: #FFFFFF;\n",
              "    }\n",
              "  </style>\n",
              "\n",
              "      <script>\n",
              "        const buttonEl =\n",
              "          document.querySelector('#df-4f5caaa0-1450-419a-b04f-27e80ac5270e button.colab-df-convert');\n",
              "        buttonEl.style.display =\n",
              "          google.colab.kernel.accessAllowed ? 'block' : 'none';\n",
              "\n",
              "        async function convertToInteractive(key) {\n",
              "          const element = document.querySelector('#df-4f5caaa0-1450-419a-b04f-27e80ac5270e');\n",
              "          const dataTable =\n",
              "            await google.colab.kernel.invokeFunction('convertToInteractive',\n",
              "                                                     [key], {});\n",
              "          if (!dataTable) return;\n",
              "\n",
              "          const docLinkHtml = 'Like what you see? Visit the ' +\n",
              "            '<a target=\"_blank\" href=https://colab.research.google.com/notebooks/data_table.ipynb>data table notebook</a>'\n",
              "            + ' to learn more about interactive tables.';\n",
              "          element.innerHTML = '';\n",
              "          dataTable['output_type'] = 'display_data';\n",
              "          await google.colab.output.renderOutput(dataTable, element);\n",
              "          const docLink = document.createElement('div');\n",
              "          docLink.innerHTML = docLinkHtml;\n",
              "          element.appendChild(docLink);\n",
              "        }\n",
              "      </script>\n",
              "    </div>\n",
              "  </div>\n"
            ]
          },
          "metadata": {},
          "execution_count": 51
        }
      ]
    },
    {
      "cell_type": "markdown",
      "source": [
        "HANDLING CLASS IMBALANCE"
      ],
      "metadata": {
        "id": "IYZTVUIHNQP4"
      }
    },
    {
      "cell_type": "code",
      "source": [
        "import numpy as np\n",
        "threshhold = count.median().astype(np.int64)\n",
        "threshhold"
      ],
      "metadata": {
        "colab": {
          "base_uri": "https://localhost:8080/"
        },
        "id": "4sVkOiJFtuWA",
        "outputId": "c4105266-2b2e-4f6d-ddcc-2ad6a4b9e371"
      },
      "execution_count": 52,
      "outputs": [
        {
          "output_type": "execute_result",
          "data": {
            "text/plain": [
              "15987"
            ]
          },
          "metadata": {},
          "execution_count": 52
        }
      ]
    },
    {
      "cell_type": "code",
      "source": [
        "import warnings\n",
        "warnings.filterwarnings('ignore')"
      ],
      "metadata": {
        "id": "yx7nuRCBuhkI"
      },
      "execution_count": 53,
      "outputs": []
    },
    {
      "cell_type": "code",
      "source": [
        "from imblearn.under_sampling import RandomUnderSampler\n",
        "from imblearn.over_sampling import RandomOverSampler\n",
        "\n",
        "# Define the sampling strategy function\n",
        "def Pipeline_strategy(y, threshhold, t='majority'):\n",
        "    '''Create a sampling strategy for Undersampling or Oversampling'''\n",
        "    Health_categories = ''\n",
        "    if t == 'majority':\n",
        "        Health_categories = y.value_counts() > threshhold\n",
        "    elif t == 'minority':\n",
        "        Health_categories = y.value_counts() < threshhold\n",
        "    Cd = Health_categories[Health_categories == True].index\n",
        "    Pipeline_strategy = {disease: threshhold for disease in Cd}\n",
        "    return Pipeline_strategy\n",
        "\n",
        "# Compute the sampling_strategy dictionary for undersampling\n",
        "sampling_strategy_dict = Pipeline_strategy(y_train, threshhold, t='majority')\n",
        "\n",
        "# Undersample the majority class\n",
        "under_sampler = RandomUnderSampler(sampling_strategy=sampling_strategy_dict)\n",
        "X_under, y_under = under_sampler.fit_resample(X_train, y_train)\n",
        "\n"
      ],
      "metadata": {
        "id": "loH-lf3CaGaM"
      },
      "execution_count": 54,
      "outputs": []
    },
    {
      "cell_type": "code",
      "source": [
        "#visualising Undersampled class\n",
        "plt.figure(figsize=(6,5))\n",
        "count = y_under.value_counts()\n",
        "count.plot.bar()\n",
        "plt.ylabel('Number of records')\n",
        "plt.xlabel('Health Categories')\n",
        "plt.show()"
      ],
      "metadata": {
        "colab": {
          "base_uri": "https://localhost:8080/",
          "height": 460
        },
        "id": "BCCuDlkd0bJ8",
        "outputId": "122ce2b6-5031-4a68-ef5d-00c003091807"
      },
      "execution_count": 55,
      "outputs": [
        {
          "output_type": "display_data",
          "data": {
            "text/plain": [
              "<Figure size 600x500 with 1 Axes>"
            ],
            "image/png": "[encoded data removed]"
          },
          "metadata": {}
        }
      ]
    },
    {
      "cell_type": "markdown",
      "source": [
        "APPLYING MODEL AFER UNDERSAMPLING"
      ],
      "metadata": {
        "id": "iG4CispmPeMG"
      }
    },
    {
      "cell_type": "markdown",
      "source": [
        "UNDERSAMPLED KNN"
      ],
      "metadata": {
        "id": "4rkpYY46FThS"
      }
    },
    {
      "cell_type": "code",
      "source": [
        "from sklearn.neighbors import KNeighborsClassifier\n",
        "from sklearn.metrics import accuracy_score\n",
        "\n",
        "\n",
        "# create a k-nearest neighbors classifier with k=3\n",
        "knn = KNeighborsClassifier(n_neighbors=3)\n",
        "\n",
        "# fit the classifier to the training data\n",
        "knn.fit(X_under, y_under)\n",
        "\n",
        "# make predictions on the testing data\n",
        "y_pred = knn.predict(X_test)\n",
        "\n",
        "# evaluate the accuracy of the classifier\n",
        "accuracy = accuracy_score(y_test, y_pred,)\n",
        "print(f'Accuracy: {accuracy:.2f}')\n"
      ],
      "metadata": {
        "colab": {
          "base_uri": "https://localhost:8080/"
        },
        "id": "haqO9W2fO7qa",
        "outputId": "5fbb4a5c-c42a-4a36-da0a-d9e64293896d"
      },
      "execution_count": 56,
      "outputs": [
        {
          "output_type": "stream",
          "name": "stdout",
          "text": [
            "Accuracy: 0.90\n"
          ]
        }
      ]
    },
    {
      "cell_type": "code",
      "source": [
        "KNN_report = classification_report(y_test, y_pred, digits = 4)\n",
        "print(KNN_report)"
      ],
      "metadata": {
        "colab": {
          "base_uri": "https://localhost:8080/"
        },
        "id": "8_ELmtmpUefG",
        "outputId": "a70c8bdd-e15f-42b8-f570-2fcfbc29aa8a"
      },
      "execution_count": 57,
      "outputs": [
        {
          "output_type": "stream",
          "name": "stdout",
          "text": [
            "              precision    recall  f1-score   support\n",
            "\n",
            "           0     0.8553    0.9565    0.9031      4784\n",
            "           1     0.8942    0.9488    0.9207      3946\n",
            "           2     0.9481    0.9920    0.9695      3867\n",
            "           3     0.8340    0.9525    0.8893      6340\n",
            "           4     0.9544    0.8231    0.8839     17648\n",
            "           5     0.8715    0.9157    0.8930     10572\n",
            "           6     0.9609    0.9620    0.9615      3581\n",
            "\n",
            "    accuracy                         0.9036     50738\n",
            "   macro avg     0.9026    0.9358    0.9173     50738\n",
            "weighted avg     0.9080    0.9036    0.9032     50738\n",
            "\n"
          ]
        }
      ]
    },
    {
      "cell_type": "markdown",
      "source": [
        "UNDERSAMPLED RANDOM FOREST"
      ],
      "metadata": {
        "id": "aG1M65n7FYb8"
      }
    },
    {
      "cell_type": "code",
      "source": [
        "from sklearn.ensemble import RandomForestClassifier\n",
        "from sklearn.model_selection import train_test_split, cross_val_score\n",
        "from sklearn.metrics import accuracy_score, classification_report, confusion_matrix\n",
        "\n",
        "# Create the Random Forest classifier\n",
        "rf_classifier = RandomForestClassifier(n_estimators=100, random_state=42)\n",
        "\n",
        "# Train the classifier using cross-validation\n",
        "cv_scores = cross_val_score(rf_classifier, X_under, y_under, cv=5)  # 5-fold cross-validation\n",
        "\n",
        "# Print the cross-validation scores\n",
        "print(\"Cross-validation Scores:\", cv_scores)\n",
        "print(\"Mean Cross-validation Score:\", cv_scores.mean())\n",
        "\n",
        "# Fit the classifier on the full training data\n",
        "rf_classifier.fit(X_under, y_under)\n",
        "\n",
        "# Make predictions on the test data\n",
        "y_pred = rf_classifier.predict(X_test)\n",
        "\n",
        "# Evaluate the model's performance\n",
        "accuracy = accuracy_score(y_test, y_pred)\n",
        "print(\"Accuracy:\", accuracy)\n",
        "\n",
        "# Print the classification report and confusion matrix\n",
        "print(\"Classification Report:\")\n",
        "print(classification_report(y_test, y_pred))\n",
        "\n",
        "print(\"Confusion Matrix:\")\n",
        "print(confusion_matrix(y_test, y_pred))\n"
      ],
      "metadata": {
        "colab": {
          "base_uri": "https://localhost:8080/"
        },
        "id": "os1cr6-eqbmz",
        "outputId": "b4cd3223-56c3-4340-ea60-4033d5f8e79b"
      },
      "execution_count": 58,
      "outputs": [
        {
          "output_type": "stream",
          "name": "stdout",
          "text": [
            "Cross-validation Scores: [0.99982238 0.99970397 0.99970397 0.99988159 0.99958555]\n",
            "Mean Cross-validation Score: 0.9997394908229722\n",
            "Accuracy: 0.9996846544995861\n",
            "Classification Report:\n",
            "              precision    recall  f1-score   support\n",
            "\n",
            "           0       1.00      1.00      1.00      4784\n",
            "           1       1.00      1.00      1.00      3946\n",
            "           2       1.00      1.00      1.00      3867\n",
            "           3       1.00      1.00      1.00      6340\n",
            "           4       1.00      1.00      1.00     17648\n",
            "           5       1.00      1.00      1.00     10572\n",
            "           6       1.00      1.00      1.00      3581\n",
            "\n",
            "    accuracy                           1.00     50738\n",
            "   macro avg       1.00      1.00      1.00     50738\n",
            "weighted avg       1.00      1.00      1.00     50738\n",
            "\n",
            "Confusion Matrix:\n",
            "[[ 4784     0     0     0     0     0     0]\n",
            " [    0  3946     0     0     0     0     0]\n",
            " [    0     0  3867     0     0     0     0]\n",
            " [    0     0     0  6340     0     0     0]\n",
            " [    0     8     0     7 17632     0     1]\n",
            " [    0     0     0     0     0 10572     0]\n",
            " [    0     0     0     0     0     0  3581]]\n"
          ]
        }
      ]
    },
    {
      "cell_type": "markdown",
      "source": [
        "UNDERSAMPLED DECISION TREES"
      ],
      "metadata": {
        "id": "Isf4ewHDFeTE"
      }
    },
    {
      "cell_type": "markdown",
      "source": [
        "UNDERSAMPLED NVB"
      ],
      "metadata": {
        "id": "RUwqeXbEFizz"
      }
    },
    {
      "cell_type": "code",
      "source": [
        "cla = GaussianNB()\n",
        "cla.fit(X_under, y_under)\n",
        "y_pred = cla.predict(X_test)\n",
        "accuracy = accuracy_score(y_test, y_pred)\n",
        "print(f'NB Accuracy: {accuracy:.2f}')\n",
        "\n",
        "# Print the classification report\n",
        "class_report = classification_report(y_test, y_pred)\n",
        "print(\"Classification Report:\")\n",
        "print(class_report)"
      ],
      "metadata": {
        "colab": {
          "base_uri": "https://localhost:8080/"
        },
        "id": "SoizobGaQREO",
        "outputId": "12f29698-9d3a-4287-fec1-baa2a1c0a516"
      },
      "execution_count": 59,
      "outputs": [
        {
          "output_type": "stream",
          "name": "stdout",
          "text": [
            "NB Accuracy: 0.53\n",
            "Classification Report:\n",
            "              precision    recall  f1-score   support\n",
            "\n",
            "           0       0.69      0.58      0.63      4784\n",
            "           1       0.73      0.64      0.68      3946\n",
            "           2       0.67      0.98      0.80      3867\n",
            "           3       0.41      0.78      0.53      6340\n",
            "           4       0.57      0.16      0.25     17648\n",
            "           5       0.49      0.63      0.55     10572\n",
            "           6       0.49      0.91      0.63      3581\n",
            "\n",
            "    accuracy                           0.53     50738\n",
            "   macro avg       0.58      0.67      0.58     50738\n",
            "weighted avg       0.56      0.53      0.49     50738\n",
            "\n"
          ]
        }
      ]
    },
    {
      "cell_type": "markdown",
      "source": [
        "UNDERSAMPLED LOGISTIC REGRESSION"
      ],
      "metadata": {
        "id": "tksWtJb7FpwO"
      }
    },
    {
      "cell_type": "code",
      "source": [
        "regressor=LogisticRegression(random_state=0)\n",
        "regressor.fit(X_under,y_under)\n",
        "y_pred = regressor.predict(X_test)\n",
        "regressor.score(X_test,y_test)\n",
        "\n",
        "# Print the classification report\n",
        "print(\"Classification Report:\")\n",
        "print(classification_report(y_test, y_pred))"
      ],
      "metadata": {
        "colab": {
          "base_uri": "https://localhost:8080/"
        },
        "id": "AkyocvYhQyUM",
        "outputId": "1072dac5-298d-4b85-90bb-93e102923815"
      },
      "execution_count": 60,
      "outputs": [
        {
          "output_type": "stream",
          "name": "stdout",
          "text": [
            "Classification Report:\n",
            "              precision    recall  f1-score   support\n",
            "\n",
            "           0       0.37      0.45      0.41      4784\n",
            "           1       0.51      0.04      0.08      3946\n",
            "           2       0.46      0.78      0.58      3867\n",
            "           3       0.43      0.46      0.45      6340\n",
            "           4       0.45      0.29      0.35     17648\n",
            "           5       0.48      0.61      0.54     10572\n",
            "           6       0.41      0.73      0.53      3581\n",
            "\n",
            "    accuracy                           0.44     50738\n",
            "   macro avg       0.44      0.48      0.42     50738\n",
            "weighted avg       0.45      0.44      0.42     50738\n",
            "\n"
          ]
        }
      ]
    },
    {
      "cell_type": "markdown",
      "source": [
        "SMOTE OVERSAMPLER"
      ],
      "metadata": {
        "id": "9r87e7JwWZp6"
      }
    },
    {
      "cell_type": "code",
      "source": [
        "# Define the sampling strategy function for oversampling\n",
        "def Pipeline_strategy_over(y, threshhold, t='majority'):\n",
        "    '''Create a sampling strategy for Oversampling'''\n",
        "    Health_categories = ''\n",
        "    if t == 'majority':\n",
        "        Health_categories = y.value_counts() > threshhold\n",
        "    elif t == 'minority':\n",
        "        Health_categories = y.value_counts() < threshhold\n",
        "    Cd = Health_categories[Health_categories == True].index\n",
        "    Pipeline_strategy = {disease: threshhold for disease in Cd}\n",
        "    return Pipeline_strategy\n",
        "\n",
        "# Compute the sampling_strategy dictionary for oversampling\n",
        "sampling_strategy_dict_over = Pipeline_strategy_over(y_under, threshhold, t='minority')\n",
        "\n",
        "# Apply SMOTE over-sampling to the under-sampled data\n",
        "from imblearn.over_sampling import SMOTE\n",
        "over_sampler = SMOTE(sampling_strategy=sampling_strategy_dict_over, k_neighbors=3)\n",
        "X_bal, y_bal = over_sampler.fit_resample(X_under, y_under)"
      ],
      "metadata": {
        "id": "yOJMNljaA9zL"
      },
      "execution_count": 61,
      "outputs": []
    },
    {
      "cell_type": "code",
      "source": [
        "#View balanced class\n",
        "plt.figure(figsize=(6,5))\n",
        "count = y_bal.value_counts()\n",
        "count.plot.bar()\n",
        "plt.ylabel('Number of records')\n",
        "plt.xlabel('Health Categories')\n",
        "plt.show()"
      ],
      "metadata": {
        "colab": {
          "base_uri": "https://localhost:8080/",
          "height": 460
        },
        "id": "BfPJDVamcq4a",
        "outputId": "f4a647ce-6b09-4c20-92d2-8f0d92521535"
      },
      "execution_count": 62,
      "outputs": [
        {
          "output_type": "display_data",
          "data": {
            "text/plain": [
              "<Figure size 600x500 with 1 Axes>"
            ],
            "image/png": "[encoded data removed]"
          },
          "metadata": {}
        }
      ]
    },
    {
      "cell_type": "markdown",
      "source": [
        "BALANCED KNN"
      ],
      "metadata": {
        "id": "SRXNIQfJF846"
      }
    },
    {
      "cell_type": "code",
      "source": [
        "# create a k-nearest neighbors classifier with k=3\n",
        "clf_knn = KNeighborsClassifier(n_neighbors=5, metric= 'euclidean', p=3)\n",
        "\n",
        "# fit the classifier to the training data\n",
        "clf_knn.fit(X_bal, y_bal)\n",
        "\n",
        "# make predictions on the testing data\n",
        "y_pred = clf_knn.predict(X_test)\n",
        "\n",
        "# evaluate the accuracy of the classifier\n",
        "accuracy = accuracy_score(y_test, y_pred)\n",
        "print(f'KNN Accuracy: {accuracy:.2f}')"
      ],
      "metadata": {
        "colab": {
          "base_uri": "https://localhost:8080/"
        },
        "id": "W11h2QJL0-45",
        "outputId": "1b4f640c-92a4-4126-8e9c-e6446d6bb2fb"
      },
      "execution_count": 63,
      "outputs": [
        {
          "output_type": "stream",
          "name": "stdout",
          "text": [
            "KNN Accuracy: 0.89\n"
          ]
        }
      ]
    },
    {
      "cell_type": "code",
      "source": [
        "KNN_report = classification_report(y_test, y_pred)\n",
        "print(KNN_report)"
      ],
      "metadata": {
        "colab": {
          "base_uri": "https://localhost:8080/"
        },
        "id": "FhP8WXav2iJp",
        "outputId": "ce713d5a-8f83-469f-a8cd-665d6018d852"
      },
      "execution_count": 64,
      "outputs": [
        {
          "output_type": "stream",
          "name": "stdout",
          "text": [
            "              precision    recall  f1-score   support\n",
            "\n",
            "           0       0.83      0.96      0.89      4784\n",
            "           1       0.88      0.96      0.92      3946\n",
            "           2       0.93      0.99      0.96      3867\n",
            "           3       0.81      0.95      0.87      6340\n",
            "           4       0.96      0.80      0.87     17648\n",
            "           5       0.87      0.91      0.89     10572\n",
            "           6       0.94      0.97      0.96      3581\n",
            "\n",
            "    accuracy                           0.89     50738\n",
            "   macro avg       0.89      0.93      0.91     50738\n",
            "weighted avg       0.90      0.89      0.89     50738\n",
            "\n"
          ]
        }
      ]
    },
    {
      "cell_type": "code",
      "source": [
        "from sklearn.metrics import confusion_matrix\n",
        "import matplotlib.pyplot as plt\n",
        "import seaborn as sns\n",
        "plt.figure(figsize=(6,5))\n",
        "# Create the confusion matrix\n",
        "con_matKNN=confusion_matrix(y_test,y_pred)\n",
        "# Plot the confusion matrix as a heatmap\n",
        "sns.heatmap(con_matKNN, annot=True, cmap=\"Blues\", fmt=\"d\")\n",
        "\n",
        "# Set the axis labels and title\n",
        "\n",
        "plt.xlabel('Predicted')\n",
        "plt.ylabel('Actual')\n",
        "plt.title('Confusion Matrix')\n",
        "\n",
        "# Show the plot\n",
        "plt.show()\n",
        "\n"
      ],
      "metadata": {
        "colab": {
          "base_uri": "https://localhost:8080/",
          "height": 487
        },
        "id": "3NoEg3vM23dq",
        "outputId": "ed074fb8-1c7c-49c4-d235-eb4056f1904c"
      },
      "execution_count": 65,
      "outputs": [
        {
          "output_type": "display_data",
          "data": {
            "text/plain": [
              "<Figure size 600x500 with 2 Axes>"
            ],
            "image/png": "[encoded data removed]"
          },
          "metadata": {}
        }
      ]
    },
    {
      "cell_type": "code",
      "source": [
        "Analysis = pd.DataFrame(['knn'],columns=['Algorithm'])\n",
        "\n",
        "Analysis.loc[0,'Precision']=metrics.precision_score(y_test, y_pred, average='micro')\n",
        "Analysis.loc[0,'Recall']=metrics.recall_score(y_test, y_pred, average='micro')\n",
        "Analysis.loc[0,'F1 Score']=metrics.f1_score(y_test, y_pred, average='micro')\n",
        "Analysis.loc[0,'Accuracy']=metrics.accuracy_score(y_test,y_pred)\n",
        "\n",
        "print(Analysis)"
      ],
      "metadata": {
        "colab": {
          "base_uri": "https://localhost:8080/"
        },
        "id": "17Mn8BXw3-q2",
        "outputId": "0101b451-7252-4c3b-e3d7-83de70e1c0d7"
      },
      "execution_count": 66,
      "outputs": [
        {
          "output_type": "stream",
          "name": "stdout",
          "text": [
            "  Algorithm  Precision  Recall  F1 Score  Accuracy\n",
            "0       knn     0.8943  0.8943    0.8943    0.8943\n"
          ]
        }
      ]
    },
    {
      "cell_type": "markdown",
      "source": [
        "BALANCED NVB"
      ],
      "metadata": {
        "id": "YJt7pelfGCxa"
      }
    },
    {
      "cell_type": "code",
      "source": [
        "from sklearn.naive_bayes import GaussianNB\n",
        "from sklearn.model_selection import GridSearchCV\n",
        "from sklearn.metrics import accuracy_score\n",
        "\n",
        "# Create the Gaussian Naive Bayes classifier\n",
        "cla = GaussianNB()\n",
        "\n",
        "# Define the hyperparameters to tune\n",
        "param_grid = {\n",
        "    'var_smoothing': [1e-9, 1e-8, 1e-7, 1e-6, 1e-5, 1e-4, 1e-3, 1e-2, 1e-1, 1]\n",
        "}\n",
        "\n",
        "# Perform GridSearchCV to find the best hyperparameters\n",
        "grid_cla = GridSearchCV(cla, param_grid, cv=5)\n",
        "grid_cla.fit(X_bal, y_bal)\n",
        "\n",
        "# Get the best hyperparameters and the best model\n",
        "best_var_smoothing = grid_cla.best_params_['var_smoothing']\n",
        "best_cla = grid_cla.best_estimator_\n",
        "\n",
        "# Make predictions on the test data using the best model\n",
        "y_pred = best_cla.predict(X_test)\n",
        "\n",
        "# Calculate the accuracy score\n",
        "accuracy = accuracy_score(y_test, y_pred)\n",
        "print(f'NB Accuracy: {accuracy:.2f}')\n",
        "print(\"Best var_smoothing:\", best_var_smoothing)\n"
      ],
      "metadata": {
        "colab": {
          "base_uri": "https://localhost:8080/"
        },
        "id": "yfCjSj-B6R56",
        "outputId": "bc80095e-a052-445d-d116-c6acebd0c369"
      },
      "execution_count": 67,
      "outputs": [
        {
          "output_type": "stream",
          "name": "stdout",
          "text": [
            "NB Accuracy: 0.52\n",
            "Best var_smoothing: 1e-09\n"
          ]
        }
      ]
    },
    {
      "cell_type": "code",
      "source": [
        "NVB_report = classification_report(y_test, y_pred)\n",
        "print(NVB_report)"
      ],
      "metadata": {
        "colab": {
          "base_uri": "https://localhost:8080/"
        },
        "id": "2D_SGbdk6Un7",
        "outputId": "90584d0e-0735-4a83-f7b1-73dea9d7eb28"
      },
      "execution_count": 68,
      "outputs": [
        {
          "output_type": "stream",
          "name": "stdout",
          "text": [
            "              precision    recall  f1-score   support\n",
            "\n",
            "           0       0.64      0.53      0.58      4784\n",
            "           1       0.66      0.67      0.66      3946\n",
            "           2       0.66      0.99      0.79      3867\n",
            "           3       0.41      0.77      0.53      6340\n",
            "           4       0.57      0.16      0.25     17648\n",
            "           5       0.49      0.62      0.55     10572\n",
            "           6       0.48      0.92      0.63      3581\n",
            "\n",
            "    accuracy                           0.52     50738\n",
            "   macro avg       0.56      0.66      0.57     50738\n",
            "weighted avg       0.55      0.52      0.48     50738\n",
            "\n"
          ]
        }
      ]
    },
    {
      "cell_type": "code",
      "source": [
        "from sklearn.metrics import confusion_matrix\n",
        "import matplotlib.pyplot as plt\n",
        "import seaborn as sns\n",
        "\n",
        "# Create the confusion matrix\n",
        "\n",
        "CON_matNVB=confusion_matrix(y_test,y_pred)\n",
        "# Plot the confusion matrix as a heatmap\n",
        "plt.figure(figsize=(6,5))\n",
        "sns.heatmap(CON_matNVB, annot=True, cmap=\"Blues\", fmt=\"d\")\n",
        "\n",
        "# Set the axis labels and title\n",
        "plt.xlabel('Predicted')\n",
        "plt.ylabel('Actual')\n",
        "plt.title('Confusion Matrix')\n",
        "\n",
        "# Show the plot\n",
        "plt.show()"
      ],
      "metadata": {
        "colab": {
          "base_uri": "https://localhost:8080/",
          "height": 487
        },
        "id": "k3Ips1EH6X8A",
        "outputId": "56cd5895-ea64-46c0-eb5d-3f4ff8051fc7"
      },
      "execution_count": 69,
      "outputs": [
        {
          "output_type": "display_data",
          "data": {
            "text/plain": [
              "<Figure size 600x500 with 2 Axes>"
            ],
            "image/png": "[encoded data removed]"
          },
          "metadata": {}
        }
      ]
    },
    {
      "cell_type": "code",
      "source": [
        "Analysis.loc[2,'Algorithm'] = 'NVB'\n",
        "Analysis.loc[2,'Precision']=metrics.precision_score(y_test, y_pred, average='micro')\n",
        "Analysis.loc[2,'Recall']=metrics.recall_score(y_test, y_pred, average='micro')\n",
        "Analysis.loc[2,'F1 Score']=metrics.f1_score(y_test, y_pred, average='micro')\n",
        "Analysis.loc[2,'Accuracy']=metrics.accuracy_score(y_test,y_pred)\n",
        "\n",
        "print(Analysis)"
      ],
      "metadata": {
        "colab": {
          "base_uri": "https://localhost:8080/"
        },
        "id": "emh6k5w16d9w",
        "outputId": "a281470b-f322-47b2-8f15-75c0540e5ad2"
      },
      "execution_count": 70,
      "outputs": [
        {
          "output_type": "stream",
          "name": "stdout",
          "text": [
            "  Algorithm  Precision    Recall  F1 Score  Accuracy\n",
            "0       knn   0.894300  0.894300  0.894300  0.894300\n",
            "2       NVB   0.522133  0.522133  0.522133  0.522133\n"
          ]
        }
      ]
    },
    {
      "cell_type": "markdown",
      "source": [
        "BALANCED RANDOM FOREST"
      ],
      "metadata": {
        "id": "OfpyAHQDGR-I"
      }
    },
    {
      "cell_type": "code",
      "source": [
        "from sklearn.ensemble import RandomForestClassifier\n",
        "from sklearn.model_selection import train_test_split, cross_val_score\n",
        "from sklearn.metrics import accuracy_score, classification_report, confusion_matrix\n",
        "\n",
        "# Create the Random Forest classifier\n",
        "rf_classifier = RandomForestClassifier(n_estimators=100, random_state=42)\n",
        "\n",
        "# Train the classifier using cross-validation\n",
        "cv_scores = cross_val_score(rf_classifier, X_bal, y_bal, cv=5)  # 5-fold cross-validation\n",
        "\n",
        "# Print the cross-validation scores\n",
        "print(\"Cross-validation Scores:\", cv_scores)\n",
        "print(\"Mean Cross-validation Score:\", cv_scores.mean())\n",
        "\n",
        "# Fit the classifier on the full training data\n",
        "rf_classifier.fit(X_bal, y_bal)\n",
        "\n",
        "# Make predictions on the test data\n",
        "y_pred = rf_classifier.predict(X_test)\n",
        "\n",
        "# Evaluate the model's performance\n",
        "accuracy = accuracy_score(y_test, y_pred)\n",
        "print(\"Accuracy:\", accuracy)\n",
        "\n",
        "# Print the classification report and confusion matrix\n",
        "print(\"Classification Report:\")\n",
        "print(classification_report(y_test, y_pred))\n",
        "\n",
        "print(\"Confusion Matrix:\")\n",
        "\n",
        "print(confusion_matrix(y_test, y_pred))\n"
      ],
      "metadata": {
        "colab": {
          "base_uri": "https://localhost:8080/"
        },
        "id": "5PGGlcwOrri6",
        "outputId": "3ef66b04-61d7-406d-beb9-bb90177f5359"
      },
      "execution_count": 71,
      "outputs": [
        {
          "output_type": "stream",
          "name": "stdout",
          "text": [
            "Cross-validation Scores: [0.99950853 0.99964257 0.99897239 0.99781074 0.99798937]\n",
            "Mean Cross-validation Score: 0.9987847197691536\n",
            "Accuracy: 0.9988371634672237\n",
            "Classification Report:\n",
            "              precision    recall  f1-score   support\n",
            "\n",
            "           0       1.00      1.00      1.00      4784\n",
            "           1       0.99      1.00      0.99      3946\n",
            "           2       1.00      1.00      1.00      3867\n",
            "           3       1.00      1.00      1.00      6340\n",
            "           4       1.00      1.00      1.00     17648\n",
            "           5       1.00      1.00      1.00     10572\n",
            "           6       1.00      1.00      1.00      3581\n",
            "\n",
            "    accuracy                           1.00     50738\n",
            "   macro avg       1.00      1.00      1.00     50738\n",
            "weighted avg       1.00      1.00      1.00     50738\n",
            "\n",
            "Confusion Matrix:\n",
            "[[ 4784     0     0     0     0     0     0]\n",
            " [    0  3946     0     0     0     0     0]\n",
            " [    0     0  3867     0     0     0     0]\n",
            " [    0     0     0  6340     0     0     0]\n",
            " [    0    32     0    11 17604     1     0]\n",
            " [    0    14     0     0     0 10558     0]\n",
            " [    0     0     0     1     0     0  3580]]\n"
          ]
        }
      ]
    },
    {
      "cell_type": "code",
      "source": [
        "# Plot the confusion matrix as a heatmap\n",
        "CON_matRF = (confusion_matrix(y_test, y_pred))\n",
        "sns.heatmap(CON_matRF, annot=True, cmap=\"Blues\", fmt=\"d\")\n",
        "\n",
        "# Set the axis labels and title\n",
        "\n",
        "plt.xlabel('Predicted')\n",
        "plt.ylabel('Actual')\n",
        "plt.title('Confusion Matrix')\n",
        "\n",
        "# Show the plot\n",
        "plt.show()"
      ],
      "metadata": {
        "colab": {
          "base_uri": "https://localhost:8080/",
          "height": 872
        },
        "id": "uYFyA3JN-ie_",
        "outputId": "f73e21d1-58c9-483f-a375-353f2318a8ed"
      },
      "execution_count": 72,
      "outputs": [
        {
          "output_type": "display_data",
          "data": {
            "text/plain": [
              "<Figure size 1000x1000 with 2 Axes>"
            ],
            "image/png": "[encoded data removed]"
          },
          "metadata": {}
        }
      ]
    },
    {
      "cell_type": "code",
      "source": [
        "Analysis.loc[3,'Algorithm']='Random Forest'\n",
        "Analysis.loc[3,'Precision']=metrics.precision_score(y_test, y_pred, average='micro')\n",
        "Analysis.loc[3,'Recall']=metrics.recall_score(y_test, y_pred, average='micro')\n",
        "Analysis.loc[3,'F1 Score']=metrics.f1_score(y_test, y_pred, average='micro')\n",
        "Analysis.loc[3,'Accuracy']=metrics.accuracy_score(y_test,y_pred)\n",
        "\n",
        "print(Analysis)"
      ],
      "metadata": {
        "colab": {
          "base_uri": "https://localhost:8080/"
        },
        "id": "EZWmBS2kuzCQ",
        "outputId": "d237e78b-3341-42c7-aac9-bca62780b5fa"
      },
      "execution_count": 73,
      "outputs": [
        {
          "output_type": "stream",
          "name": "stdout",
          "text": [
            "       Algorithm  Precision    Recall  F1 Score  Accuracy\n",
            "0            knn   0.894300  0.894300  0.894300  0.894300\n",
            "2            NVB   0.522133  0.522133  0.522133  0.522133\n",
            "3  Random Forest   0.998837  0.998837  0.998837  0.998837\n"
          ]
        }
      ]
    },
    {
      "cell_type": "code",
      "source": [
        "Analysis"
      ],
      "metadata": {
        "colab": {
          "base_uri": "https://localhost:8080/",
          "height": 143
        },
        "id": "TTkKIyo5A7H9",
        "outputId": "3f2579ee-deaa-4774-8d0c-b59c9862c33b"
      },
      "execution_count": 74,
      "outputs": [
        {
          "output_type": "execute_result",
          "data": {
            "text/plain": [
              "       Algorithm  Precision    Recall  F1 Score  Accuracy\n",
              "0            knn   0.894300  0.894300  0.894300  0.894300\n",
              "2            NVB   0.522133  0.522133  0.522133  0.522133\n",
              "3  Random Forest   0.998837  0.998837  0.998837  0.998837"
            ],
            "text/html": [
              "\n",
              "\n",
              "  <div id=\"df-5642f831-fd61-4a2d-b0fd-2c46e85fb666\">\n",
              "    <div class=\"colab-df-container\">\n",
              "      <div>\n",
              "<style scoped>\n",
              "    .dataframe tbody tr th:only-of-type {\n",
              "        vertical-align: middle;\n",
              "    }\n",
              "\n",
              "    .dataframe tbody tr th {\n",
              "        vertical-align: top;\n",
              "    }\n",
              "\n",
              "    .dataframe thead th {\n",
              "        text-align: right;\n",
              "    }\n",
              "</style>\n",
              "<table border=\"1\" class=\"dataframe\">\n",
              "  <thead>\n",
              "    <tr style=\"text-align: right;\">\n",
              "      <th></th>\n",
              "      <th>Algorithm</th>\n",
              "      <th>Precision</th>\n",
              "      <th>Recall</th>\n",
              "      <th>F1 Score</th>\n",
              "      <th>Accuracy</th>\n",
              "    </tr>\n",
              "  </thead>\n",
              "  <tbody>\n",
              "    <tr>\n",
              "      <th>0</th>\n",
              "      <td>knn</td>\n",
              "      <td>0.894300</td>\n",
              "      <td>0.894300</td>\n",
              "      <td>0.894300</td>\n",
              "      <td>0.894300</td>\n",
              "    </tr>\n",
              "    <tr>\n",
              "      <th>2</th>\n",
              "      <td>NVB</td>\n",
              "      <td>0.522133</td>\n",
              "      <td>0.522133</td>\n",
              "      <td>0.522133</td>\n",
              "      <td>0.522133</td>\n",
              "    </tr>\n",
              "    <tr>\n",
              "      <th>3</th>\n",
              "      <td>Random Forest</td>\n",
              "      <td>0.998837</td>\n",
              "      <td>0.998837</td>\n",
              "      <td>0.998837</td>\n",
              "      <td>0.998837</td>\n",
              "    </tr>\n",
              "  </tbody>\n",
              "</table>\n",
              "</div>\n",
              "      <button class=\"colab-df-convert\" onclick=\"convertToInteractive('df-5642f831-fd61-4a2d-b0fd-2c46e85fb666')\"\n",
              "              title=\"Convert this dataframe to an interactive table.\"\n",
              "              style=\"display:none;\">\n",
              "\n",
              "  <svg xmlns=\"http://www.w3.org/2000/svg\" height=\"24px\"viewBox=\"0 0 24 24\"\n",
              "       width=\"24px\">\n",
              "    <path d=\"M0 0h24v24H0V0z\" fill=\"none\"/>\n",
              "    <path d=\"M18.56 5.44l.94 2.06.94-2.06 2.06-.94-2.06-.94-.94-2.06-.94 2.06-2.06.94zm-11 1L8.5 8.5l.94-2.06 2.06-.94-2.06-.94L8.5 2.5l-.94 2.06-2.06.94zm10 10l.94 2.06.94-2.06 2.06-.94-2.06-.94-.94-2.06-.94 2.06-2.06.94z\"/><path d=\"M17.41 7.96l-1.37-1.37c-.4-.4-.92-.59-1.43-.59-.52 0-1.04.2-1.43.59L10.3 9.45l-7.72 7.72c-.78.78-.78 2.05 0 2.83L4 21.41c.39.39.9.59 1.41.59.51 0 1.02-.2 1.41-.59l7.78-7.78 2.81-2.81c.8-.78.8-2.07 0-2.86zM5.41 20L4 18.59l7.72-7.72 1.47 1.35L5.41 20z\"/>\n",
              "  </svg>\n",
              "      </button>\n",
              "\n",
              "\n",
              "\n",
              "    <div id=\"df-5de19e70-db74-4f4d-a8a8-258e20f1709b\">\n",
              "      <button class=\"colab-df-quickchart\" onclick=\"quickchart('df-5de19e70-db74-4f4d-a8a8-258e20f1709b')\"\n",
              "              title=\"Suggest charts.\"\n",
              "              style=\"display:none;\">\n",
              "\n",
              "<svg xmlns=\"http://www.w3.org/2000/svg\" height=\"24px\"viewBox=\"0 0 24 24\"\n",
              "     width=\"24px\">\n",
              "    <g>\n",
              "        <path d=\"M19 3H5c-1.1 0-2 .9-2 2v14c0 1.1.9 2 2 2h14c1.1 0 2-.9 2-2V5c0-1.1-.9-2-2-2zM9 17H7v-7h2v7zm4 0h-2V7h2v10zm4 0h-2v-4h2v4z\"/>\n",
              "    </g>\n",
              "</svg>\n",
              "      </button>\n",
              "    </div>\n",
              "\n",
              "<style>\n",
              "  .colab-df-quickchart {\n",
              "    background-color: #E8F0FE;\n",
              "    border: none;\n",
              "    border-radius: 50%;\n",
              "    cursor: pointer;\n",
              "    display: none;\n",
              "    fill: #1967D2;\n",
              "    height: 32px;\n",
              "    padding: 0 0 0 0;\n",
              "    width: 32px;\n",
              "  }\n",
              "\n",
              "  .colab-df-quickchart:hover {\n",
              "    background-color: #E2EBFA;\n",
              "    box-shadow: 0px 1px 2px rgba(60, 64, 67, 0.3), 0px 1px 3px 1px rgba(60, 64, 67, 0.15);\n",
              "    fill: #174EA6;\n",
              "  }\n",
              "\n",
              "  [theme=dark] .colab-df-quickchart {\n",
              "    background-color: #3B4455;\n",
              "    fill: #D2E3FC;\n",
              "  }\n",
              "\n",
              "  [theme=dark] .colab-df-quickchart:hover {\n",
              "    background-color: #434B5C;\n",
              "    box-shadow: 0px 1px 3px 1px rgba(0, 0, 0, 0.15);\n",
              "    filter: drop-shadow(0px 1px 2px rgba(0, 0, 0, 0.3));\n",
              "    fill: #FFFFFF;\n",
              "  }\n",
              "</style>\n",
              "\n",
              "    <script>\n",
              "      async function quickchart(key) {\n",
              "        const containerElement = document.querySelector('#' + key);\n",
              "        const charts = await google.colab.kernel.invokeFunction(\n",
              "            'suggestCharts', [key], {});\n",
              "      }\n",
              "    </script>\n",
              "\n",
              "      <script>\n",
              "\n",
              "function displayQuickchartButton(domScope) {\n",
              "  let quickchartButtonEl =\n",
              "    domScope.querySelector('#df-5de19e70-db74-4f4d-a8a8-258e20f1709b button.colab-df-quickchart');\n",
              "  quickchartButtonEl.style.display =\n",
              "    google.colab.kernel.accessAllowed ? 'block' : 'none';\n",
              "}\n",
              "\n",
              "        displayQuickchartButton(document);\n",
              "      </script>\n",
              "      <style>\n",
              "    .colab-df-container {\n",
              "      display:flex;\n",
              "      flex-wrap:wrap;\n",
              "      gap: 12px;\n",
              "    }\n",
              "\n",
              "    .colab-df-convert {\n",
              "      background-color: #E8F0FE;\n",
              "      border: none;\n",
              "      border-radius: 50%;\n",
              "      cursor: pointer;\n",
              "      display: none;\n",
              "      fill: #1967D2;\n",
              "      height: 32px;\n",
              "      padding: 0 0 0 0;\n",
              "      width: 32px;\n",
              "    }\n",
              "\n",
              "    .colab-df-convert:hover {\n",
              "      background-color: #E2EBFA;\n",
              "      box-shadow: 0px 1px 2px rgba(60, 64, 67, 0.3), 0px 1px 3px 1px rgba(60, 64, 67, 0.15);\n",
              "      fill: #174EA6;\n",
              "    }\n",
              "\n",
              "    [theme=dark] .colab-df-convert {\n",
              "      background-color: #3B4455;\n",
              "      fill: #D2E3FC;\n",
              "    }\n",
              "\n",
              "    [theme=dark] .colab-df-convert:hover {\n",
              "      background-color: #434B5C;\n",
              "      box-shadow: 0px 1px 3px 1px rgba(0, 0, 0, 0.15);\n",
              "      filter: drop-shadow(0px 1px 2px rgba(0, 0, 0, 0.3));\n",
              "      fill: #FFFFFF;\n",
              "    }\n",
              "  </style>\n",
              "\n",
              "      <script>\n",
              "        const buttonEl =\n",
              "          document.querySelector('#df-5642f831-fd61-4a2d-b0fd-2c46e85fb666 button.colab-df-convert');\n",
              "        buttonEl.style.display =\n",
              "          google.colab.kernel.accessAllowed ? 'block' : 'none';\n",
              "\n",
              "        async function convertToInteractive(key) {\n",
              "          const element = document.querySelector('#df-5642f831-fd61-4a2d-b0fd-2c46e85fb666');\n",
              "          const dataTable =\n",
              "            await google.colab.kernel.invokeFunction('convertToInteractive',\n",
              "                                                     [key], {});\n",
              "          if (!dataTable) return;\n",
              "\n",
              "          const docLinkHtml = 'Like what you see? Visit the ' +\n",
              "            '<a target=\"_blank\" href=https://colab.research.google.com/notebooks/data_table.ipynb>data table notebook</a>'\n",
              "            + ' to learn more about interactive tables.';\n",
              "          element.innerHTML = '';\n",
              "          dataTable['output_type'] = 'display_data';\n",
              "          await google.colab.output.renderOutput(dataTable, element);\n",
              "          const docLink = document.createElement('div');\n",
              "          docLink.innerHTML = docLinkHtml;\n",
              "          element.appendChild(docLink);\n",
              "        }\n",
              "      </script>\n",
              "    </div>\n",
              "  </div>\n"
            ]
          },
          "metadata": {},
          "execution_count": 74
        }
      ]
    },
    {
      "cell_type": "code",
      "source": [
        "# Save the DataFrame to a CSV file\n",
        "Analysis.to_csv('output.csv', index=False)"
      ],
      "metadata": {
        "id": "cqf9a3zODJnp"
      },
      "execution_count": 75,
      "outputs": []
    },
    {
      "cell_type": "code",
      "source": [
        "import os\n",
        "\n",
        "# Get the current working directory\n",
        "current_directory = os.getcwd()\n",
        "\n",
        "# Specify the filename you saved\n",
        "filename = 'output.csv'\n",
        "\n",
        "# Check if the file exists in the current directory\n",
        "file_path = os.path.join(current_directory, filename)\n",
        "if os.path.exists(file_path):\n",
        "    print(f\"The file '{filename}' exists in the current directory.\")\n",
        "else:\n",
        "    print(f\"The file '{filename}' does not exist in the current directory.\")\n"
      ],
      "metadata": {
        "id": "unQG5oAdDv5T",
        "outputId": "306576a9-1ecd-4a00-cbaf-5e6f33ab24f8",
        "colab": {
          "base_uri": "https://localhost:8080/"
        }
      },
      "execution_count": 76,
      "outputs": [
        {
          "output_type": "stream",
          "name": "stdout",
          "text": [
            "The file 'output.csv' exists in the current directory.\n"
          ]
        }
      ]
    },
    {
      "cell_type": "code",
      "source": [
        "plt.figure(figsize=(10,5))\n",
        "sns.barplot(x='Algorithm',y='Accuracy',data=Analysis)"
      ],
      "metadata": {
        "colab": {
          "base_uri": "https://localhost:8080/",
          "height": 482
        },
        "id": "Z6Ap-0yMBvVo",
        "outputId": "4510c0e1-3b15-4e85-e87c-e603492ca807"
      },
      "execution_count": 77,
      "outputs": [
        {
          "output_type": "execute_result",
          "data": {
            "text/plain": [
              "<Axes: xlabel='Algorithm', ylabel='Accuracy'>"
            ]
          },
          "metadata": {},
          "execution_count": 77
        },
        {
          "output_type": "display_data",
          "data": {
            "text/plain": [
              "<Figure size 1000x500 with 1 Axes>"
            ],
            "image/png": "[encoded data removed]"
          },
          "metadata": {}
        }
      ]
    },
    {
      "cell_type": "code",
      "source": [
        "plt.figure(figsize=(10,5))\n",
        "sns.barplot(x='Algorithm',y='F1 Score',data=Analysis)"
      ],
      "metadata": {
        "colab": {
          "base_uri": "https://localhost:8080/",
          "height": 482
        },
        "id": "JhqOjaffCRNw",
        "outputId": "41d48101-2914-4a10-e1ac-54db3e74914f"
      },
      "execution_count": 78,
      "outputs": [
        {
          "output_type": "execute_result",
          "data": {
            "text/plain": [
              "<Axes: xlabel='Algorithm', ylabel='F1 Score'>"
            ]
          },
          "metadata": {},
          "execution_count": 78
        },
        {
          "output_type": "display_data",
          "data": {
            "text/plain": [
              "<Figure size 1000x500 with 1 Axes>"
            ],
            "image/png": "[encoded data removed]"
          },
          "metadata": {}
        }
      ]
    },
    {
      "cell_type": "code",
      "source": [
        "plt.figure(figsize=(10,5))\n",
        "sns.barplot(x='Algorithm',y='Recall',data=Analysis)"
      ],
      "metadata": {
        "colab": {
          "base_uri": "https://localhost:8080/",
          "height": 482
        },
        "id": "EDoHjrz5CVl6",
        "outputId": "06fc429d-d27f-4c1f-ab76-119da30db5dc"
      },
      "execution_count": 79,
      "outputs": [
        {
          "output_type": "execute_result",
          "data": {
            "text/plain": [
              "<Axes: xlabel='Algorithm', ylabel='Recall'>"
            ]
          },
          "metadata": {},
          "execution_count": 79
        },
        {
          "output_type": "display_data",
          "data": {
            "text/plain": [
              "<Figure size 1000x500 with 1 Axes>"
            ],
            "image/png": "[encoded data removed]"
          },
          "metadata": {}
        }
      ]
    },
    {
      "cell_type": "code",
      "source": [
        "plt.figure(figsize=(10,5))\n",
        "sns.barplot(x='Algorithm',y='Precision',data=Analysis)"
      ],
      "metadata": {
        "colab": {
          "base_uri": "https://localhost:8080/",
          "height": 482
        },
        "id": "iUaB7KxMCeNT",
        "outputId": "172dca3a-d404-43bd-e448-36cc90f5cdc8"
      },
      "execution_count": 80,
      "outputs": [
        {
          "output_type": "execute_result",
          "data": {
            "text/plain": [
              "<Axes: xlabel='Algorithm', ylabel='Precision'>"
            ]
          },
          "metadata": {},
          "execution_count": 80
        },
        {
          "output_type": "display_data",
          "data": {
            "text/plain": [
              "<Figure size 1000x500 with 1 Axes>"
            ],
            "image/png": "[encoded data removed]"
          },
          "metadata": {}
        }
      ]
    }
  ],
  "metadata": {
    "colab": {
      "provenance": [],
      "include_colab_link": true
    },
    "kernelspec": {
      "display_name": "Python 3",
      "name": "python3"
    }
  },
  "nbformat": 4,
  "nbformat_minor": 0
}